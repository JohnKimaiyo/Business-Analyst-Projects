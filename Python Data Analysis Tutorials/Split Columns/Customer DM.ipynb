{
 "cells": [
  {
   "cell_type": "code",
   "execution_count": 1,
   "id": "d1f2119e",
   "metadata": {},
   "outputs": [],
   "source": [
    "import pandas as pd"
   ]
  },
  {
   "cell_type": "code",
   "execution_count": 3,
   "id": "eeeafb9e",
   "metadata": {},
   "outputs": [
    {
     "data": {
      "text/html": [
       "<div>\n",
       "<style scoped>\n",
       "    .dataframe tbody tr th:only-of-type {\n",
       "        vertical-align: middle;\n",
       "    }\n",
       "\n",
       "    .dataframe tbody tr th {\n",
       "        vertical-align: top;\n",
       "    }\n",
       "\n",
       "    .dataframe thead th {\n",
       "        text-align: right;\n",
       "    }\n",
       "</style>\n",
       "<table border=\"1\" class=\"dataframe\">\n",
       "  <thead>\n",
       "    <tr style=\"text-align: right;\">\n",
       "      <th></th>\n",
       "      <th>CustomerKey\\tFull Name\\tGender\\tDateFirstPurchase\\tCustomer City</th>\n",
       "    </tr>\n",
       "  </thead>\n",
       "  <tbody>\n",
       "    <tr>\n",
       "      <th>0</th>\n",
       "      <td>11000\\tJon Yang\\tMale\\t1/19/2020\\tRockhampton</td>\n",
       "    </tr>\n",
       "    <tr>\n",
       "      <th>1</th>\n",
       "      <td>11001\\tEugene Huang\\tMale\\t1/15/2020\\tSeaford</td>\n",
       "    </tr>\n",
       "    <tr>\n",
       "      <th>2</th>\n",
       "      <td>11002\\tRuben Torres\\tMale\\t1/7/2020\\tHobart</td>\n",
       "    </tr>\n",
       "    <tr>\n",
       "      <th>3</th>\n",
       "      <td>11003\\tChristy Zhu\\tFemale\\t12/29/2019\\tNorth ...</td>\n",
       "    </tr>\n",
       "    <tr>\n",
       "      <th>4</th>\n",
       "      <td>11004\\tElizabeth Johnson\\tFemale\\t1/23/2020\\tW...</td>\n",
       "    </tr>\n",
       "    <tr>\n",
       "      <th>...</th>\n",
       "      <td>...</td>\n",
       "    </tr>\n",
       "    <tr>\n",
       "      <th>18479</th>\n",
       "      <td>29479\\tTommy Tang\\tMale\\t9/4/2021\\tVersailles</td>\n",
       "    </tr>\n",
       "    <tr>\n",
       "      <th>18480</th>\n",
       "      <td>29480\\tNina Raji\\tFemale\\t7/17/2022\\tLondon</td>\n",
       "    </tr>\n",
       "    <tr>\n",
       "      <th>18481</th>\n",
       "      <td>29481\\tIvan Suri\\tMale\\t8/13/2020\\tHof</td>\n",
       "    </tr>\n",
       "    <tr>\n",
       "      <th>18482</th>\n",
       "      <td>29482\\tClayton Zhang\\tMale\\t9/18/2021\\tSaint Ouen</td>\n",
       "    </tr>\n",
       "    <tr>\n",
       "      <th>18483</th>\n",
       "      <td>29483\\tJésus Navarro\\tMale\\t9/9/2021\\tParis La...</td>\n",
       "    </tr>\n",
       "  </tbody>\n",
       "</table>\n",
       "<p>18484 rows × 1 columns</p>\n",
       "</div>"
      ],
      "text/plain": [
       "      CustomerKey\\tFull Name\\tGender\\tDateFirstPurchase\\tCustomer City\n",
       "0          11000\\tJon Yang\\tMale\\t1/19/2020\\tRockhampton              \n",
       "1          11001\\tEugene Huang\\tMale\\t1/15/2020\\tSeaford              \n",
       "2            11002\\tRuben Torres\\tMale\\t1/7/2020\\tHobart              \n",
       "3      11003\\tChristy Zhu\\tFemale\\t12/29/2019\\tNorth ...              \n",
       "4      11004\\tElizabeth Johnson\\tFemale\\t1/23/2020\\tW...              \n",
       "...                                                  ...              \n",
       "18479      29479\\tTommy Tang\\tMale\\t9/4/2021\\tVersailles              \n",
       "18480        29480\\tNina Raji\\tFemale\\t7/17/2022\\tLondon              \n",
       "18481             29481\\tIvan Suri\\tMale\\t8/13/2020\\tHof              \n",
       "18482  29482\\tClayton Zhang\\tMale\\t9/18/2021\\tSaint Ouen              \n",
       "18483  29483\\tJésus Navarro\\tMale\\t9/9/2021\\tParis La...              \n",
       "\n",
       "[18484 rows x 1 columns]"
      ]
     },
     "execution_count": 3,
     "metadata": {},
     "output_type": "execute_result"
    }
   ],
   "source": [
    "df = pd.read_csv(r\"C:\\Users\\jki\\Desktop\\Preactse Data sets\\Customer DM.csv\",encoding='ISO-8859-1')\n",
    "df"
   ]
  },
  {
   "cell_type": "code",
   "execution_count": 4,
   "id": "6df864b5",
   "metadata": {},
   "outputs": [
    {
     "ename": "KeyError",
     "evalue": "'Customer DM'",
     "output_type": "error",
     "traceback": [
      "\u001b[1;31m---------------------------------------------------------------------------\u001b[0m",
      "\u001b[1;31mKeyError\u001b[0m                                  Traceback (most recent call last)",
      "File \u001b[1;32m~\\anaconda3\\Lib\\site-packages\\pandas\\core\\indexes\\base.py:3802\u001b[0m, in \u001b[0;36mIndex.get_loc\u001b[1;34m(self, key, method, tolerance)\u001b[0m\n\u001b[0;32m   3801\u001b[0m \u001b[38;5;28;01mtry\u001b[39;00m:\n\u001b[1;32m-> 3802\u001b[0m     \u001b[38;5;28;01mreturn\u001b[39;00m \u001b[38;5;28mself\u001b[39m\u001b[38;5;241m.\u001b[39m_engine\u001b[38;5;241m.\u001b[39mget_loc(casted_key)\n\u001b[0;32m   3803\u001b[0m \u001b[38;5;28;01mexcept\u001b[39;00m \u001b[38;5;167;01mKeyError\u001b[39;00m \u001b[38;5;28;01mas\u001b[39;00m err:\n",
      "File \u001b[1;32m~\\anaconda3\\Lib\\site-packages\\pandas\\_libs\\index.pyx:138\u001b[0m, in \u001b[0;36mpandas._libs.index.IndexEngine.get_loc\u001b[1;34m()\u001b[0m\n",
      "File \u001b[1;32m~\\anaconda3\\Lib\\site-packages\\pandas\\_libs\\index.pyx:165\u001b[0m, in \u001b[0;36mpandas._libs.index.IndexEngine.get_loc\u001b[1;34m()\u001b[0m\n",
      "File \u001b[1;32mpandas\\_libs\\hashtable_class_helper.pxi:5745\u001b[0m, in \u001b[0;36mpandas._libs.hashtable.PyObjectHashTable.get_item\u001b[1;34m()\u001b[0m\n",
      "File \u001b[1;32mpandas\\_libs\\hashtable_class_helper.pxi:5753\u001b[0m, in \u001b[0;36mpandas._libs.hashtable.PyObjectHashTable.get_item\u001b[1;34m()\u001b[0m\n",
      "\u001b[1;31mKeyError\u001b[0m: 'Customer DM'",
      "\nThe above exception was the direct cause of the following exception:\n",
      "\u001b[1;31mKeyError\u001b[0m                                  Traceback (most recent call last)",
      "Cell \u001b[1;32mIn[4], line 2\u001b[0m\n\u001b[0;32m      1\u001b[0m \u001b[38;5;66;03m# split the Name column into two columns\u001b[39;00m\n\u001b[1;32m----> 2\u001b[0m df[[\u001b[38;5;124m'\u001b[39m\u001b[38;5;124mFirst Name\u001b[39m\u001b[38;5;124m'\u001b[39m, \u001b[38;5;124m'\u001b[39m\u001b[38;5;124mLast Name\u001b[39m\u001b[38;5;124m'\u001b[39m]] \u001b[38;5;241m=\u001b[39m df[\u001b[38;5;124m'\u001b[39m\u001b[38;5;124mCustomer DM\u001b[39m\u001b[38;5;124m'\u001b[39m]\u001b[38;5;241m.\u001b[39mstr\u001b[38;5;241m.\u001b[39msplit(\u001b[38;5;124m'\u001b[39m\u001b[38;5;124m \u001b[39m\u001b[38;5;124m'\u001b[39m, expand\u001b[38;5;241m=\u001b[39m\u001b[38;5;28;01mTrue\u001b[39;00m)\n",
      "File \u001b[1;32m~\\anaconda3\\Lib\\site-packages\\pandas\\core\\frame.py:3807\u001b[0m, in \u001b[0;36mDataFrame.__getitem__\u001b[1;34m(self, key)\u001b[0m\n\u001b[0;32m   3805\u001b[0m \u001b[38;5;28;01mif\u001b[39;00m \u001b[38;5;28mself\u001b[39m\u001b[38;5;241m.\u001b[39mcolumns\u001b[38;5;241m.\u001b[39mnlevels \u001b[38;5;241m>\u001b[39m \u001b[38;5;241m1\u001b[39m:\n\u001b[0;32m   3806\u001b[0m     \u001b[38;5;28;01mreturn\u001b[39;00m \u001b[38;5;28mself\u001b[39m\u001b[38;5;241m.\u001b[39m_getitem_multilevel(key)\n\u001b[1;32m-> 3807\u001b[0m indexer \u001b[38;5;241m=\u001b[39m \u001b[38;5;28mself\u001b[39m\u001b[38;5;241m.\u001b[39mcolumns\u001b[38;5;241m.\u001b[39mget_loc(key)\n\u001b[0;32m   3808\u001b[0m \u001b[38;5;28;01mif\u001b[39;00m is_integer(indexer):\n\u001b[0;32m   3809\u001b[0m     indexer \u001b[38;5;241m=\u001b[39m [indexer]\n",
      "File \u001b[1;32m~\\anaconda3\\Lib\\site-packages\\pandas\\core\\indexes\\base.py:3804\u001b[0m, in \u001b[0;36mIndex.get_loc\u001b[1;34m(self, key, method, tolerance)\u001b[0m\n\u001b[0;32m   3802\u001b[0m     \u001b[38;5;28;01mreturn\u001b[39;00m \u001b[38;5;28mself\u001b[39m\u001b[38;5;241m.\u001b[39m_engine\u001b[38;5;241m.\u001b[39mget_loc(casted_key)\n\u001b[0;32m   3803\u001b[0m \u001b[38;5;28;01mexcept\u001b[39;00m \u001b[38;5;167;01mKeyError\u001b[39;00m \u001b[38;5;28;01mas\u001b[39;00m err:\n\u001b[1;32m-> 3804\u001b[0m     \u001b[38;5;28;01mraise\u001b[39;00m \u001b[38;5;167;01mKeyError\u001b[39;00m(key) \u001b[38;5;28;01mfrom\u001b[39;00m \u001b[38;5;21;01merr\u001b[39;00m\n\u001b[0;32m   3805\u001b[0m \u001b[38;5;28;01mexcept\u001b[39;00m \u001b[38;5;167;01mTypeError\u001b[39;00m:\n\u001b[0;32m   3806\u001b[0m     \u001b[38;5;66;03m# If we have a listlike key, _check_indexing_error will raise\u001b[39;00m\n\u001b[0;32m   3807\u001b[0m     \u001b[38;5;66;03m#  InvalidIndexError. Otherwise we fall through and re-raise\u001b[39;00m\n\u001b[0;32m   3808\u001b[0m     \u001b[38;5;66;03m#  the TypeError.\u001b[39;00m\n\u001b[0;32m   3809\u001b[0m     \u001b[38;5;28mself\u001b[39m\u001b[38;5;241m.\u001b[39m_check_indexing_error(key)\n",
      "\u001b[1;31mKeyError\u001b[0m: 'Customer DM'"
     ]
    }
   ],
   "source": [
    "# split the Name column into two columns\n",
    "df[['First Name', 'Last Name']] = df['Customer DM'].str.split(' ', expand=True)"
   ]
  },
  {
   "cell_type": "code",
   "execution_count": 5,
   "id": "d3de69c0",
   "metadata": {},
   "outputs": [
    {
     "data": {
      "text/html": [
       "<div>\n",
       "<style scoped>\n",
       "    .dataframe tbody tr th:only-of-type {\n",
       "        vertical-align: middle;\n",
       "    }\n",
       "\n",
       "    .dataframe tbody tr th {\n",
       "        vertical-align: top;\n",
       "    }\n",
       "\n",
       "    .dataframe thead th {\n",
       "        text-align: right;\n",
       "    }\n",
       "</style>\n",
       "<table border=\"1\" class=\"dataframe\">\n",
       "  <thead>\n",
       "    <tr style=\"text-align: right;\">\n",
       "      <th></th>\n",
       "      <th>CustomerKey\\tFull Name\\tGender\\tDateFirstPurchase\\tCustomer City</th>\n",
       "    </tr>\n",
       "  </thead>\n",
       "  <tbody>\n",
       "    <tr>\n",
       "      <th>0</th>\n",
       "      <td>11000\\tJon Yang\\tMale\\t1/19/2020\\tRockhampton</td>\n",
       "    </tr>\n",
       "    <tr>\n",
       "      <th>1</th>\n",
       "      <td>11001\\tEugene Huang\\tMale\\t1/15/2020\\tSeaford</td>\n",
       "    </tr>\n",
       "    <tr>\n",
       "      <th>2</th>\n",
       "      <td>11002\\tRuben Torres\\tMale\\t1/7/2020\\tHobart</td>\n",
       "    </tr>\n",
       "    <tr>\n",
       "      <th>3</th>\n",
       "      <td>11003\\tChristy Zhu\\tFemale\\t12/29/2019\\tNorth ...</td>\n",
       "    </tr>\n",
       "    <tr>\n",
       "      <th>4</th>\n",
       "      <td>11004\\tElizabeth Johnson\\tFemale\\t1/23/2020\\tW...</td>\n",
       "    </tr>\n",
       "    <tr>\n",
       "      <th>...</th>\n",
       "      <td>...</td>\n",
       "    </tr>\n",
       "    <tr>\n",
       "      <th>18479</th>\n",
       "      <td>29479\\tTommy Tang\\tMale\\t9/4/2021\\tVersailles</td>\n",
       "    </tr>\n",
       "    <tr>\n",
       "      <th>18480</th>\n",
       "      <td>29480\\tNina Raji\\tFemale\\t7/17/2022\\tLondon</td>\n",
       "    </tr>\n",
       "    <tr>\n",
       "      <th>18481</th>\n",
       "      <td>29481\\tIvan Suri\\tMale\\t8/13/2020\\tHof</td>\n",
       "    </tr>\n",
       "    <tr>\n",
       "      <th>18482</th>\n",
       "      <td>29482\\tClayton Zhang\\tMale\\t9/18/2021\\tSaint Ouen</td>\n",
       "    </tr>\n",
       "    <tr>\n",
       "      <th>18483</th>\n",
       "      <td>29483\\tJésus Navarro\\tMale\\t9/9/2021\\tParis La...</td>\n",
       "    </tr>\n",
       "  </tbody>\n",
       "</table>\n",
       "<p>18484 rows × 1 columns</p>\n",
       "</div>"
      ],
      "text/plain": [
       "      CustomerKey\\tFull Name\\tGender\\tDateFirstPurchase\\tCustomer City\n",
       "0          11000\\tJon Yang\\tMale\\t1/19/2020\\tRockhampton              \n",
       "1          11001\\tEugene Huang\\tMale\\t1/15/2020\\tSeaford              \n",
       "2            11002\\tRuben Torres\\tMale\\t1/7/2020\\tHobart              \n",
       "3      11003\\tChristy Zhu\\tFemale\\t12/29/2019\\tNorth ...              \n",
       "4      11004\\tElizabeth Johnson\\tFemale\\t1/23/2020\\tW...              \n",
       "...                                                  ...              \n",
       "18479      29479\\tTommy Tang\\tMale\\t9/4/2021\\tVersailles              \n",
       "18480        29480\\tNina Raji\\tFemale\\t7/17/2022\\tLondon              \n",
       "18481             29481\\tIvan Suri\\tMale\\t8/13/2020\\tHof              \n",
       "18482  29482\\tClayton Zhang\\tMale\\t9/18/2021\\tSaint Ouen              \n",
       "18483  29483\\tJésus Navarro\\tMale\\t9/9/2021\\tParis La...              \n",
       "\n",
       "[18484 rows x 1 columns]"
      ]
     },
     "execution_count": 5,
     "metadata": {},
     "output_type": "execute_result"
    }
   ],
   "source": [
    "df"
   ]
  },
  {
   "cell_type": "code",
   "execution_count": null,
   "id": "37f45cf4",
   "metadata": {},
   "outputs": [],
   "source": []
  }
 ],
 "metadata": {
  "kernelspec": {
   "display_name": "Python 3 (ipykernel)",
   "language": "python",
   "name": "python3"
  },
  "language_info": {
   "codemirror_mode": {
    "name": "ipython",
    "version": 3
   },
   "file_extension": ".py",
   "mimetype": "text/x-python",
   "name": "python",
   "nbconvert_exporter": "python",
   "pygments_lexer": "ipython3",
   "version": "3.11.4"
  }
 },
 "nbformat": 4,
 "nbformat_minor": 5
}
