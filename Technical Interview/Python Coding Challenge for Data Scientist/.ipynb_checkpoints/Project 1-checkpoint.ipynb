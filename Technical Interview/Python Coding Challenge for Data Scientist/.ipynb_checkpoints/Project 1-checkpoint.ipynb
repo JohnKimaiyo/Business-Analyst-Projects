{
 "cells": [
  {
   "cell_type": "markdown",
   "id": "00957e2f",
   "metadata": {},
   "source": [
    "# Python_coding_interview_questions"
   ]
  },
  {
   "cell_type": "markdown",
   "id": "12d26f5f",
   "metadata": {},
   "source": [
    "## 1. How to merge two Dictionaries in Python and write a python code for it.\n"
   ]
  },
  {
   "cell_type": "code",
   "execution_count": 1,
   "id": "b705de30",
   "metadata": {},
   "outputs": [
    {
     "ename": "SyntaxError",
     "evalue": "invalid syntax (955951313.py, line 2)",
     "output_type": "error",
     "traceback": [
      "\u001b[1;36m  Cell \u001b[1;32mIn[1], line 2\u001b[1;36m\u001b[0m\n\u001b[1;33m    = {'a': 8, 'b': 4}\u001b[0m\n\u001b[1;37m    ^\u001b[0m\n\u001b[1;31mSyntaxError\u001b[0m\u001b[1;31m:\u001b[0m invalid syntax\n"
     ]
    }
   ],
   "source": []
  },
  {
   "cell_type": "code",
   "execution_count": null,
   "id": "28e7ead2",
   "metadata": {},
   "outputs": [],
   "source": []
  }
 ],
 "metadata": {
  "kernelspec": {
   "display_name": "Python 3 (ipykernel)",
   "language": "python",
   "name": "python3"
  },
  "language_info": {
   "codemirror_mode": {
    "name": "ipython",
    "version": 3
   },
   "file_extension": ".py",
   "mimetype": "text/x-python",
   "name": "python",
   "nbconvert_exporter": "python",
   "pygments_lexer": "ipython3",
   "version": "3.11.4"
  }
 },
 "nbformat": 4,
 "nbformat_minor": 5
}
