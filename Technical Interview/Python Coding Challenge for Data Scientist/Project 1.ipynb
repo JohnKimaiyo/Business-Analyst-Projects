{
 "cells": [
  {
   "cell_type": "markdown",
   "id": "00957e2f",
   "metadata": {},
   "source": [
    "# Python_coding_interview_questions"
   ]
  },
  {
   "cell_type": "markdown",
   "id": "12d26f5f",
   "metadata": {},
   "source": [
    "1. How to merge two Dictionaries in Python and write a python code for it.\n"
   ]
  },
  {
   "cell_type": "code",
   "execution_count": 8,
   "id": "e1b3ff4c",
   "metadata": {},
   "outputs": [],
   "source": [
    "import pandas as pd\n",
    "import numpy as np"
   ]
  },
  {
   "cell_type": "code",
   "execution_count": 10,
   "id": "b705de30",
   "metadata": {},
   "outputs": [
    {
     "name": "stdout",
     "output_type": "stream",
     "text": [
      "{'a': 8, 'b': 7, 'c': 6}\n"
     ]
    }
   ],
   "source": [
    "x = {'a':8, 'b':4}\n",
    "y = {'b':7, 'c':6}\n",
    "x.update(y)\n",
    "print(x)"
   ]
  },
  {
   "cell_type": "code",
   "execution_count": null,
   "id": "28e7ead2",
   "metadata": {},
   "outputs": [],
   "source": []
  }
 ],
 "metadata": {
  "kernelspec": {
   "display_name": "Python 3 (ipykernel)",
   "language": "python",
   "name": "python3"
  },
  "language_info": {
   "codemirror_mode": {
    "name": "ipython",
    "version": 3
   },
   "file_extension": ".py",
   "mimetype": "text/x-python",
   "name": "python",
   "nbconvert_exporter": "python",
   "pygments_lexer": "ipython3",
   "version": "3.11.4"
  }
 },
 "nbformat": 4,
 "nbformat_minor": 5
}
