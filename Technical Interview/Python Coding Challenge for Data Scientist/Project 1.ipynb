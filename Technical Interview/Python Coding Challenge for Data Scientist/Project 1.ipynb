{
 "cells": [
  {
   "cell_type": "markdown",
   "id": "00957e2f",
   "metadata": {},
   "source": [
    "# Python_coding_interview_questions"
   ]
  },
  {
   "cell_type": "markdown",
   "id": "12d26f5f",
   "metadata": {},
   "source": [
    "1. How to merge two Dictionaries in Python and write a python code for it.\n"
   ]
  },
  {
   "cell_type": "code",
   "execution_count": 8,
   "id": "e1b3ff4c",
   "metadata": {},
   "outputs": [],
   "source": [
    "import pandas as pd\n",
    "import numpy as np"
   ]
  },
  {
   "cell_type": "code",
   "execution_count": 10,
   "id": "b705de30",
   "metadata": {},
   "outputs": [
    {
     "name": "stdout",
     "output_type": "stream",
     "text": [
      "{'a': 8, 'b': 7, 'c': 6}\n"
     ]
    }
   ],
   "source": [
    "x = {'a':8, 'b':4}\n",
    "y = {'b':7, 'c':6}\n",
    "x.update(y)\n",
    "print(x)"
   ]
  },
  {
   "cell_type": "markdown",
   "id": "fe979747",
   "metadata": {},
   "source": [
    "2. How would you find the most frequent element in a list?"
   ]
  },
  {
   "cell_type": "code",
   "execution_count": 11,
   "id": "7787267e",
   "metadata": {},
   "outputs": [
    {
     "ename": "NameError",
     "evalue": "name 'most_frequent_element' is not defined",
     "output_type": "error",
     "traceback": [
      "\u001b[1;31m---------------------------------------------------------------------------\u001b[0m",
      "\u001b[1;31mNameError\u001b[0m                                 Traceback (most recent call last)",
      "Cell \u001b[1;32mIn[11], line 2\u001b[0m\n\u001b[0;32m      1\u001b[0m enter_list \u001b[38;5;241m=\u001b[39m [\u001b[38;5;241m1\u001b[39m,\u001b[38;5;241m3\u001b[39m,\u001b[38;5;241m3\u001b[39m,\u001b[38;5;241m2\u001b[39m,\u001b[38;5;241m4\u001b[39m,\u001b[38;5;241m3\u001b[39m]\n\u001b[1;32m----> 2\u001b[0m most_frequent_element(enter_list)\n",
      "\u001b[1;31mNameError\u001b[0m: name 'most_frequent_element' is not defined"
     ]
    }
   ],
   "source": [
    "enter_list = [1,3,3,2,4,3]\n",
    "most_frequent_element(enter_list)"
   ]
  },
  {
   "cell_type": "code",
   "execution_count": null,
   "id": "1ee55cad",
   "metadata": {},
   "outputs": [],
   "source": []
  }
 ],
 "metadata": {
  "kernelspec": {
   "display_name": "Python 3 (ipykernel)",
   "language": "python",
   "name": "python3"
  },
  "language_info": {
   "codemirror_mode": {
    "name": "ipython",
    "version": 3
   },
   "file_extension": ".py",
   "mimetype": "text/x-python",
   "name": "python",
   "nbconvert_exporter": "python",
   "pygments_lexer": "ipython3",
   "version": "3.11.4"
  }
 },
 "nbformat": 4,
 "nbformat_minor": 5
}
