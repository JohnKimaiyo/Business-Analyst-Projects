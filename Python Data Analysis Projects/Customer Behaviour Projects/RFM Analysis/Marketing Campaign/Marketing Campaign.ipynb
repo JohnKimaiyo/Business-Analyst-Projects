{
 "cells": [
  {
   "cell_type": "code",
   "execution_count": null,
   "id": "b0887a99",
   "metadata": {},
   "outputs": [],
   "source": [
    "import pandas as pd\n",
    "import seaborn as sns\n",
    "import matplotlib.pyplot as plt\n",
    "import plotly.express as px\n",
    "import numpy as np\n",
    "from scipy.stats import iqr\n",
    "from sklearn.preprocessing import StandardScaler\n",
    "from sklearn.cluster import KMeans\n",
    "\n",
    "df = pd.read_csv(r\"\"C:\\Users\\jki\\Downloads\\marketing_campaign.csv\"   \")"
   ]
  }
 ],
 "metadata": {
  "kernelspec": {
   "display_name": "Python 3 (ipykernel)",
   "language": "python",
   "name": "python3"
  },
  "language_info": {
   "codemirror_mode": {
    "name": "ipython",
    "version": 3
   },
   "file_extension": ".py",
   "mimetype": "text/x-python",
   "name": "python",
   "nbconvert_exporter": "python",
   "pygments_lexer": "ipython3",
   "version": "3.11.4"
  }
 },
 "nbformat": 4,
 "nbformat_minor": 5
}
