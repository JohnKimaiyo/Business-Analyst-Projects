{
 "cells": [
  {
   "cell_type": "code",
   "execution_count": null,
   "id": "0161a2b3",
   "metadata": {},
   "outputs": [],
   "source": [
    "# This notebook, based on Online Retail II UCI dataset, is all about sales analytics. Here, I will use Python and its libs to do the following:\n",
    "\n",
    "\n",
    "# investigate the dataset and clean the data;\n",
    "# find most and least expensive products;\n",
    "# have a deeper look at sales numbers, using different dimensions - countries, products, customers;\n",
    "# perform cohort analysis for retention rate and for average sales quantity;\n",
    "# take a look at how sales amount was changing with time.\n",
    "\n",
    "import numpy as np # linear algebra\n",
    "import pandas as pd # data processing, CSV file I/O (e.g. pd.read_csv)\n",
    "import datetime as dt # processing dates\n",
    "import plotly.express as px # charts plotting\n",
    "import plotly.graph_objects as go # more customized plotting\n",
    "\n",
    "retail = \n",
    "\n"
   ]
  }
 ],
 "metadata": {
  "kernelspec": {
   "display_name": "Python 3 (ipykernel)",
   "language": "python",
   "name": "python3"
  },
  "language_info": {
   "codemirror_mode": {
    "name": "ipython",
    "version": 3
   },
   "file_extension": ".py",
   "mimetype": "text/x-python",
   "name": "python",
   "nbconvert_exporter": "python",
   "pygments_lexer": "ipython3",
   "version": "3.11.4"
  }
 },
 "nbformat": 4,
 "nbformat_minor": 5
}
