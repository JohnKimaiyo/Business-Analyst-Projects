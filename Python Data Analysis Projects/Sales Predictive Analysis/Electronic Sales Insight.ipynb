{
 "cells": [
  {
   "cell_type": "code",
   "execution_count": 1,
   "id": "f4be19f0",
   "metadata": {},
   "outputs": [
    {
     "data": {
      "text/html": [
       "<div>\n",
       "<style scoped>\n",
       "    .dataframe tbody tr th:only-of-type {\n",
       "        vertical-align: middle;\n",
       "    }\n",
       "\n",
       "    .dataframe tbody tr th {\n",
       "        vertical-align: top;\n",
       "    }\n",
       "\n",
       "    .dataframe thead th {\n",
       "        text-align: right;\n",
       "    }\n",
       "</style>\n",
       "<table border=\"1\" class=\"dataframe\">\n",
       "  <thead>\n",
       "    <tr style=\"text-align: right;\">\n",
       "      <th></th>\n",
       "      <th>Order ID</th>\n",
       "      <th>Product</th>\n",
       "      <th>Quantity</th>\n",
       "      <th>Price</th>\n",
       "      <th>Date</th>\n",
       "      <th>Address</th>\n",
       "    </tr>\n",
       "  </thead>\n",
       "  <tbody>\n",
       "    <tr>\n",
       "      <th>0</th>\n",
       "      <td>176558.0</td>\n",
       "      <td>USB-C Charging Cable</td>\n",
       "      <td>2.0</td>\n",
       "      <td>12.0</td>\n",
       "      <td>2019-04-19</td>\n",
       "      <td>917 1st St, Dallas, TX 75001</td>\n",
       "    </tr>\n",
       "    <tr>\n",
       "      <th>1</th>\n",
       "      <td>176559.0</td>\n",
       "      <td>Bose SoundSport Headphones</td>\n",
       "      <td>1.0</td>\n",
       "      <td>100.0</td>\n",
       "      <td>2019-04-07</td>\n",
       "      <td>682 Chestnut St, Boston, MA 02215</td>\n",
       "    </tr>\n",
       "    <tr>\n",
       "      <th>2</th>\n",
       "      <td>176560.0</td>\n",
       "      <td>Google Phone</td>\n",
       "      <td>1.0</td>\n",
       "      <td>600.0</td>\n",
       "      <td>2019-04-12</td>\n",
       "      <td>669 Spruce St, Los Angeles, CA 90001</td>\n",
       "    </tr>\n",
       "    <tr>\n",
       "      <th>3</th>\n",
       "      <td>176560.0</td>\n",
       "      <td>Wired Headphones</td>\n",
       "      <td>1.0</td>\n",
       "      <td>12.0</td>\n",
       "      <td>2019-04-12</td>\n",
       "      <td>669 Spruce St, Los Angeles, CA 90001</td>\n",
       "    </tr>\n",
       "    <tr>\n",
       "      <th>4</th>\n",
       "      <td>176561.0</td>\n",
       "      <td>Wired Headphones</td>\n",
       "      <td>1.0</td>\n",
       "      <td>12.0</td>\n",
       "      <td>2019-04-30</td>\n",
       "      <td>333 8th St, Los Angeles, CA 90001</td>\n",
       "    </tr>\n",
       "    <tr>\n",
       "      <th>...</th>\n",
       "      <td>...</td>\n",
       "      <td>...</td>\n",
       "      <td>...</td>\n",
       "      <td>...</td>\n",
       "      <td>...</td>\n",
       "      <td>...</td>\n",
       "    </tr>\n",
       "    <tr>\n",
       "      <th>65530</th>\n",
       "      <td>219872.0</td>\n",
       "      <td>Wired Headphones</td>\n",
       "      <td>1.0</td>\n",
       "      <td>12.0</td>\n",
       "      <td>2019-06-27</td>\n",
       "      <td>846 9th St, Seattle, WA 98101</td>\n",
       "    </tr>\n",
       "    <tr>\n",
       "      <th>65531</th>\n",
       "      <td>219873.0</td>\n",
       "      <td>AAA Batteries (4-pack)</td>\n",
       "      <td>1.0</td>\n",
       "      <td>3.0</td>\n",
       "      <td>2019-06-18</td>\n",
       "      <td>838 12th St, Los Angeles, CA 90001</td>\n",
       "    </tr>\n",
       "    <tr>\n",
       "      <th>65532</th>\n",
       "      <td>219874.0</td>\n",
       "      <td>USB-C Charging Cable</td>\n",
       "      <td>1.0</td>\n",
       "      <td>12.0</td>\n",
       "      <td>2019-06-13</td>\n",
       "      <td>925 Chestnut St, Atlanta, GA 30301</td>\n",
       "    </tr>\n",
       "    <tr>\n",
       "      <th>65533</th>\n",
       "      <td>219875.0</td>\n",
       "      <td>Wired Headphones</td>\n",
       "      <td>1.0</td>\n",
       "      <td>12.0</td>\n",
       "      <td>2019-06-13</td>\n",
       "      <td>692 9th St, Boston, MA 02215</td>\n",
       "    </tr>\n",
       "    <tr>\n",
       "      <th>65534</th>\n",
       "      <td>219876.0</td>\n",
       "      <td>Apple Airpods Headphones</td>\n",
       "      <td>1.0</td>\n",
       "      <td>150.0</td>\n",
       "      <td>2019-06-12</td>\n",
       "      <td>693 Spruce St, Dallas, TX 75001</td>\n",
       "    </tr>\n",
       "  </tbody>\n",
       "</table>\n",
       "<p>65535 rows × 6 columns</p>\n",
       "</div>"
      ],
      "text/plain": [
       "       Order ID                     Product  Quantity  Price       Date  \\\n",
       "0      176558.0        USB-C Charging Cable       2.0   12.0 2019-04-19   \n",
       "1      176559.0  Bose SoundSport Headphones       1.0  100.0 2019-04-07   \n",
       "2      176560.0                Google Phone       1.0  600.0 2019-04-12   \n",
       "3      176560.0            Wired Headphones       1.0   12.0 2019-04-12   \n",
       "4      176561.0            Wired Headphones       1.0   12.0 2019-04-30   \n",
       "...         ...                         ...       ...    ...        ...   \n",
       "65530  219872.0            Wired Headphones       1.0   12.0 2019-06-27   \n",
       "65531  219873.0      AAA Batteries (4-pack)       1.0    3.0 2019-06-18   \n",
       "65532  219874.0        USB-C Charging Cable       1.0   12.0 2019-06-13   \n",
       "65533  219875.0            Wired Headphones       1.0   12.0 2019-06-13   \n",
       "65534  219876.0    Apple Airpods Headphones       1.0  150.0 2019-06-12   \n",
       "\n",
       "                                    Address  \n",
       "0              917 1st St, Dallas, TX 75001  \n",
       "1         682 Chestnut St, Boston, MA 02215  \n",
       "2      669 Spruce St, Los Angeles, CA 90001  \n",
       "3      669 Spruce St, Los Angeles, CA 90001  \n",
       "4         333 8th St, Los Angeles, CA 90001  \n",
       "...                                     ...  \n",
       "65530         846 9th St, Seattle, WA 98101  \n",
       "65531    838 12th St, Los Angeles, CA 90001  \n",
       "65532    925 Chestnut St, Atlanta, GA 30301  \n",
       "65533          692 9th St, Boston, MA 02215  \n",
       "65534       693 Spruce St, Dallas, TX 75001  \n",
       "\n",
       "[65535 rows x 6 columns]"
      ]
     },
     "execution_count": 1,
     "metadata": {},
     "output_type": "execute_result"
    }
   ],
   "source": [
    "\n",
    "# Load in some packages\n",
    "import calendar\n",
    "import pandas as pd\n",
    "import matplotlib.pyplot as plt\n",
    "import warnings\n",
    "warnings.filterwarnings(\"ignore\")\n",
    "\n",
    "# load dataset\n",
    "electron_sales_df =pd.read_excel(r\"C:\\Users\\jki\\Downloads\\electronic sales\\electronic sales.xlsx\")  \n",
    "electron_sales_df \n"
   ]
  },
  {
   "cell_type": "code",
   "execution_count": 2,
   "id": "046d21db",
   "metadata": {},
   "outputs": [
    {
     "name": "stdout",
     "output_type": "stream",
     "text": [
      "Order ID    323\n",
      "Product     323\n",
      "Quantity    323\n",
      "Price       323\n",
      "Date        323\n",
      "Address     323\n",
      "dtype: int64\n"
     ]
    }
   ],
   "source": [
    "# let see if we have missing values\n",
    "missing_values = electron_sales_df.isna().sum()\n",
    "print(missing_values)"
   ]
  },
  {
   "cell_type": "code",
   "execution_count": 14,
   "id": "fb1d9aeb",
   "metadata": {},
   "outputs": [
    {
     "name": "stdout",
     "output_type": "stream",
     "text": [
      "Order ID    0\n",
      "Product     0\n",
      "Quantity    0\n",
      "Price       0\n",
      "Date        0\n",
      "Address     0\n",
      "dtype: int64\n"
     ]
    }
   ],
   "source": [
    "# lets remove missing values\n",
    "electron_sales_df.dropna(subset=['Order ID'],inplace=True)\n",
    "electron_sales_df.dropna(subset=['Product'],inplace=True)\n",
    "electron_sales_df.dropna(subset=['Quantity'],inplace=True)\n",
    "electron_sales_df.dropna(subset=['Price'],inplace=True)\n",
    "electron_sales_df.dropna(subset=['Date'],inplace=True)\n",
    "electron_sales_df.dropna(subset=['Address'],inplace=True)\n",
    "\n",
    "# let see if we have missing values\n",
    "missing_values = electron_sales_df.isna().sum()\n",
    "print(missing_values)"
   ]
  },
  {
   "cell_type": "code",
   "execution_count": 4,
   "id": "62e52938",
   "metadata": {},
   "outputs": [
    {
     "name": "stdout",
     "output_type": "stream",
     "text": [
      "<class 'pandas.core.frame.DataFrame'>\n",
      "RangeIndex: 65535 entries, 0 to 65534\n",
      "Data columns (total 6 columns):\n",
      " #   Column    Non-Null Count  Dtype         \n",
      "---  ------    --------------  -----         \n",
      " 0   Order ID  65212 non-null  float64       \n",
      " 1   Product   65212 non-null  object        \n",
      " 2   Quantity  65212 non-null  float64       \n",
      " 3   Price     65212 non-null  float64       \n",
      " 4   Date      65212 non-null  datetime64[ns]\n",
      " 5   Address   65212 non-null  object        \n",
      "dtypes: datetime64[ns](1), float64(3), object(2)\n",
      "memory usage: 3.0+ MB\n"
     ]
    }
   ],
   "source": [
    "# lets change the date format\n",
    "electron_sales_df['Date'] = pd.to_datetime(electron_sales_df['Date'])\n",
    "electron_sales_df.info()"
   ]
  },
  {
   "cell_type": "code",
   "execution_count": 6,
   "id": "b0a3f076",
   "metadata": {},
   "outputs": [
    {
     "name": "stdout",
     "output_type": "stream",
     "text": [
      "<class 'pandas.core.frame.DataFrame'>\n",
      "RangeIndex: 65535 entries, 0 to 65534\n",
      "Data columns (total 6 columns):\n",
      " #   Column    Non-Null Count  Dtype         \n",
      "---  ------    --------------  -----         \n",
      " 0   Order ID  65212 non-null  float64       \n",
      " 1   Product   65212 non-null  object        \n",
      " 2   Quantity  65212 non-null  float64       \n",
      " 3   Price     65212 non-null  float64       \n",
      " 4   Date      65212 non-null  datetime64[ns]\n",
      " 5   Address   65212 non-null  object        \n",
      "dtypes: datetime64[ns](1), float64(3), object(2)\n",
      "memory usage: 3.0+ MB\n"
     ]
    }
   ],
   "source": [
    "# Numerical features 'Quantity Ordered' and 'Price Each' are object types. We should trasform them to numerical type, in order to perform mathematical calculations, with pandas function to_numeric, which converts each feature to the coresponding numerical type:\n",
    "\n",
    "electron_sales_df['Quantity'] = pd.to_numeric(electron_sales_df['Quantity']) # Convert to int\n",
    "electron_sales_df['Price'] = pd.to_numeric(electron_sales_df['Price']) # Convert to float\n",
    "\n",
    "electron_sales_df.info()\n"
   ]
  },
  {
   "cell_type": "code",
   "execution_count": 7,
   "id": "ccfc1086",
   "metadata": {},
   "outputs": [
    {
     "data": {
      "text/plain": [
       "count    65212.000000\n",
       "mean         4.215696\n",
       "std          2.229499\n",
       "min          1.000000\n",
       "25%          2.000000\n",
       "50%          4.000000\n",
       "75%          6.000000\n",
       "max         12.000000\n",
       "Name: Month, dtype: float64"
      ]
     },
     "execution_count": 7,
     "metadata": {},
     "output_type": "execute_result"
    }
   ],
   "source": [
    "# Creating a new variable can be as simple as taking one variable and adding, multiplying or dividing by another. Let's create a new variable, Month, from 'Order Date':\n",
    "\n",
    "\n",
    "\n",
    "electron_sales_df['Month'] =electron_sales_df['Date'].dt.month\n",
    "electron_sales_df['Month'].describe()\n"
   ]
  },
  {
   "cell_type": "code",
   "execution_count": 8,
   "id": "e7763d55",
   "metadata": {},
   "outputs": [
    {
     "data": {
      "text/plain": [
       "count    65212.000000\n",
       "mean       185.812933\n",
       "std        331.170547\n",
       "min          3.000000\n",
       "25%         12.000000\n",
       "50%         15.000000\n",
       "75%        150.000000\n",
       "max       3400.000000\n",
       "Name: Sales, dtype: float64"
      ]
     },
     "execution_count": 8,
     "metadata": {},
     "output_type": "execute_result"
    }
   ],
   "source": [
    "# Next, we should really create a column featuring 'Sales', which we will create using 'Quantity Ordered' and 'Price Each':\n",
    "\n",
    "electron_sales_df['Sales'] = electron_sales_df['Quantity'] * electron_sales_df['Price']\n",
    "electron_sales_df['Sales'].describe()"
   ]
  },
  {
   "cell_type": "code",
   "execution_count": 11,
   "id": "e3447b4d",
   "metadata": {},
   "outputs": [
    {
     "data": {
      "text/html": [
       "<div>\n",
       "<style scoped>\n",
       "    .dataframe tbody tr th:only-of-type {\n",
       "        vertical-align: middle;\n",
       "    }\n",
       "\n",
       "    .dataframe tbody tr th {\n",
       "        vertical-align: top;\n",
       "    }\n",
       "\n",
       "    .dataframe thead th {\n",
       "        text-align: right;\n",
       "    }\n",
       "</style>\n",
       "<table border=\"1\" class=\"dataframe\">\n",
       "  <thead>\n",
       "    <tr style=\"text-align: right;\">\n",
       "      <th></th>\n",
       "      <th>Order ID</th>\n",
       "      <th>Product</th>\n",
       "      <th>Quantity</th>\n",
       "      <th>Price</th>\n",
       "      <th>Date</th>\n",
       "      <th>Address</th>\n",
       "      <th>Month</th>\n",
       "      <th>Sales</th>\n",
       "      <th>City</th>\n",
       "    </tr>\n",
       "  </thead>\n",
       "  <tbody>\n",
       "    <tr>\n",
       "      <th>0</th>\n",
       "      <td>176558.0</td>\n",
       "      <td>USB-C Charging Cable</td>\n",
       "      <td>2.0</td>\n",
       "      <td>12.0</td>\n",
       "      <td>2019-04-19</td>\n",
       "      <td>917 1st St, Dallas, TX 75001</td>\n",
       "      <td>4.0</td>\n",
       "      <td>24.0</td>\n",
       "      <td>Dallas  (TX)</td>\n",
       "    </tr>\n",
       "    <tr>\n",
       "      <th>1</th>\n",
       "      <td>176559.0</td>\n",
       "      <td>Bose SoundSport Headphones</td>\n",
       "      <td>1.0</td>\n",
       "      <td>100.0</td>\n",
       "      <td>2019-04-07</td>\n",
       "      <td>682 Chestnut St, Boston, MA 02215</td>\n",
       "      <td>4.0</td>\n",
       "      <td>100.0</td>\n",
       "      <td>Boston  (MA)</td>\n",
       "    </tr>\n",
       "    <tr>\n",
       "      <th>2</th>\n",
       "      <td>176560.0</td>\n",
       "      <td>Google Phone</td>\n",
       "      <td>1.0</td>\n",
       "      <td>600.0</td>\n",
       "      <td>2019-04-12</td>\n",
       "      <td>669 Spruce St, Los Angeles, CA 90001</td>\n",
       "      <td>4.0</td>\n",
       "      <td>600.0</td>\n",
       "      <td>Los Angeles  (CA)</td>\n",
       "    </tr>\n",
       "    <tr>\n",
       "      <th>3</th>\n",
       "      <td>176560.0</td>\n",
       "      <td>Wired Headphones</td>\n",
       "      <td>1.0</td>\n",
       "      <td>12.0</td>\n",
       "      <td>2019-04-12</td>\n",
       "      <td>669 Spruce St, Los Angeles, CA 90001</td>\n",
       "      <td>4.0</td>\n",
       "      <td>12.0</td>\n",
       "      <td>Los Angeles  (CA)</td>\n",
       "    </tr>\n",
       "    <tr>\n",
       "      <th>4</th>\n",
       "      <td>176561.0</td>\n",
       "      <td>Wired Headphones</td>\n",
       "      <td>1.0</td>\n",
       "      <td>12.0</td>\n",
       "      <td>2019-04-30</td>\n",
       "      <td>333 8th St, Los Angeles, CA 90001</td>\n",
       "      <td>4.0</td>\n",
       "      <td>12.0</td>\n",
       "      <td>Los Angeles  (CA)</td>\n",
       "    </tr>\n",
       "  </tbody>\n",
       "</table>\n",
       "</div>"
      ],
      "text/plain": [
       "   Order ID                     Product  Quantity  Price       Date  \\\n",
       "0  176558.0        USB-C Charging Cable       2.0   12.0 2019-04-19   \n",
       "1  176559.0  Bose SoundSport Headphones       1.0  100.0 2019-04-07   \n",
       "2  176560.0                Google Phone       1.0  600.0 2019-04-12   \n",
       "3  176560.0            Wired Headphones       1.0   12.0 2019-04-12   \n",
       "4  176561.0            Wired Headphones       1.0   12.0 2019-04-30   \n",
       "\n",
       "                                Address  Month  Sales               City  \n",
       "0          917 1st St, Dallas, TX 75001    4.0   24.0       Dallas  (TX)  \n",
       "1     682 Chestnut St, Boston, MA 02215    4.0  100.0       Boston  (MA)  \n",
       "2  669 Spruce St, Los Angeles, CA 90001    4.0  600.0  Los Angeles  (CA)  \n",
       "3  669 Spruce St, Los Angeles, CA 90001    4.0   12.0  Los Angeles  (CA)  \n",
       "4     333 8th St, Los Angeles, CA 90001    4.0   12.0  Los Angeles  (CA)  "
      ]
     },
     "execution_count": 11,
     "metadata": {},
     "output_type": "execute_result"
    }
   ],
   "source": [
    "# Lets Add City Colum\n",
    "\n",
    "def get_city(address):\n",
    "    if isinstance(address, str):\n",
    "        return address.split(\",\")[1].strip(\" \")\n",
    "    else:\n",
    "        return None  # or any default value you prefer for non-string addresses\n",
    "\n",
    "def get_state(address):\n",
    "    if isinstance(address, str):\n",
    "        return address.split(\",\")[2].split(\" \")[1]\n",
    "    else:\n",
    "        return None  # or any default value you prefer for non-string addresses\n",
    "\n",
    "electron_sales_df['City'] = electron_sales_df['Address'].apply(lambda x: f\"{get_city(x)}  ({get_state(x)})\")\n",
    "electron_sales_df.head()"
   ]
  },
  {
   "cell_type": "code",
   "execution_count": 13,
   "id": "d97683d4",
   "metadata": {},
   "outputs": [
    {
     "data": {
      "text/plain": [
       "count    65212.0\n",
       "mean         0.0\n",
       "std          0.0\n",
       "min          0.0\n",
       "25%          0.0\n",
       "50%          0.0\n",
       "75%          0.0\n",
       "max          0.0\n",
       "Name: Hour, dtype: float64"
      ]
     },
     "execution_count": 13,
     "metadata": {},
     "output_type": "execute_result"
    }
   ],
   "source": [
    "# lets extract the hour from date column\n",
    "electron_sales_df['Hour'] = electron_sales_df['Date'].dt.hour\n",
    "electron_sales_df['Hour'].describe()"
   ]
  },
  {
   "cell_type": "code",
   "execution_count": null,
   "id": "9285bb1a",
   "metadata": {},
   "outputs": [],
   "source": []
  }
 ],
 "metadata": {
  "kernelspec": {
   "display_name": "Python 3 (ipykernel)",
   "language": "python",
   "name": "python3"
  },
  "language_info": {
   "codemirror_mode": {
    "name": "ipython",
    "version": 3
   },
   "file_extension": ".py",
   "mimetype": "text/x-python",
   "name": "python",
   "nbconvert_exporter": "python",
   "pygments_lexer": "ipython3",
   "version": "3.11.4"
  }
 },
 "nbformat": 4,
 "nbformat_minor": 5
}
