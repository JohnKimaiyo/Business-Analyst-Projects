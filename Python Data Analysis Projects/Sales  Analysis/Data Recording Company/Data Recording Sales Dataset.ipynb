{
 "cells": [
  {
   "cell_type": "markdown",
   "id": "184fea55",
   "metadata": {},
   "source": [
    "## Data Exploration & Cleaning\n",
    "The first part of any data analysis or predictive modeling task is an initial exploration of the data. Even if you collected the data yourself and you already have a list of questions in mind that you want to answer, it is important to explore the data before doing any serious analysis, since oddities in the data can cause bugs and muddle your results. Before exploring deeper questions, you have to answer many simpler ones about the form and quality of data. That said, it is important to go into your initial data exploration with a big picture question in mind since the goal of your analysis should inform how you prepare the data."
   ]
  },
  {
   "cell_type": "code",
   "execution_count": 3,
   "id": "348438d4",
   "metadata": {},
   "outputs": [
    {
     "data": {
      "text/html": [
       "<div>\n",
       "<style scoped>\n",
       "    .dataframe tbody tr th:only-of-type {\n",
       "        vertical-align: middle;\n",
       "    }\n",
       "\n",
       "    .dataframe tbody tr th {\n",
       "        vertical-align: top;\n",
       "    }\n",
       "\n",
       "    .dataframe thead th {\n",
       "        text-align: right;\n",
       "    }\n",
       "</style>\n",
       "<table border=\"1\" class=\"dataframe\">\n",
       "  <thead>\n",
       "    <tr style=\"text-align: right;\">\n",
       "      <th></th>\n",
       "      <th>Date</th>\n",
       "      <th>Party</th>\n",
       "      <th>Voucher Type</th>\n",
       "      <th>Voucher No.</th>\n",
       "      <th>GSTIN/UIN</th>\n",
       "      <th>Quantity</th>\n",
       "      <th>Value</th>\n",
       "      <th>Gross Total</th>\n",
       "    </tr>\n",
       "  </thead>\n",
       "  <tbody>\n",
       "    <tr>\n",
       "      <th>0</th>\n",
       "      <td>2017-07-07 00:00:00</td>\n",
       "      <td>Bhavin Jani</td>\n",
       "      <td>SALES</td>\n",
       "      <td>d4a8c69b845073bd</td>\n",
       "      <td>22f9741467a02b6530</td>\n",
       "      <td>136.0</td>\n",
       "      <td>53200.0</td>\n",
       "      <td>65796.0</td>\n",
       "    </tr>\n",
       "    <tr>\n",
       "      <th>1</th>\n",
       "      <td>2017-07-07 00:00:00</td>\n",
       "      <td>Jayesh Rege</td>\n",
       "      <td>SALES</td>\n",
       "      <td>40549be5cab3e7a9</td>\n",
       "      <td>23c8d6101b1869f123</td>\n",
       "      <td>24.0</td>\n",
       "      <td>24600.0</td>\n",
       "      <td>31488.0</td>\n",
       "    </tr>\n",
       "    <tr>\n",
       "      <th>2</th>\n",
       "      <td>2017-07-07 00:00:00</td>\n",
       "      <td>Farhan Zachariah</td>\n",
       "      <td>SALES</td>\n",
       "      <td>fc4e8e9ba6911989</td>\n",
       "      <td>24f73a863eae7cf9d9</td>\n",
       "      <td>155.0</td>\n",
       "      <td>68660.0</td>\n",
       "      <td>82839.0</td>\n",
       "    </tr>\n",
       "    <tr>\n",
       "      <th>3</th>\n",
       "      <td>2017-07-08 00:00:00</td>\n",
       "      <td>Farhan Zachariah</td>\n",
       "      <td>SALES</td>\n",
       "      <td>83c11df1ada57622</td>\n",
       "      <td>24f73a863eae7cf9d9</td>\n",
       "      <td>319.0</td>\n",
       "      <td>164475.0</td>\n",
       "      <td>194860.5</td>\n",
       "    </tr>\n",
       "    <tr>\n",
       "      <th>4</th>\n",
       "      <td>2017-07-10 00:00:00</td>\n",
       "      <td>Kabir Raj</td>\n",
       "      <td>SALES</td>\n",
       "      <td>e85983fe05035e77</td>\n",
       "      <td>08b8060280e794624c</td>\n",
       "      <td>110.0</td>\n",
       "      <td>26000.0</td>\n",
       "      <td>31100.0</td>\n",
       "    </tr>\n",
       "    <tr>\n",
       "      <th>5</th>\n",
       "      <td>2017-07-12 00:00:00</td>\n",
       "      <td>Aradhya Dhillon</td>\n",
       "      <td>SALES</td>\n",
       "      <td>6fc9e94f41df3696</td>\n",
       "      <td>24b6a7b12f0e96b7b0</td>\n",
       "      <td>2.0</td>\n",
       "      <td>2300.0</td>\n",
       "      <td>2944.0</td>\n",
       "    </tr>\n",
       "  </tbody>\n",
       "</table>\n",
       "</div>"
      ],
      "text/plain": [
       "                  Date             Party Voucher Type       Voucher No.  \\\n",
       "0  2017-07-07 00:00:00       Bhavin Jani        SALES  d4a8c69b845073bd   \n",
       "1  2017-07-07 00:00:00       Jayesh Rege        SALES  40549be5cab3e7a9   \n",
       "2  2017-07-07 00:00:00  Farhan Zachariah        SALES  fc4e8e9ba6911989   \n",
       "3  2017-07-08 00:00:00  Farhan Zachariah        SALES  83c11df1ada57622   \n",
       "4  2017-07-10 00:00:00         Kabir Raj        SALES  e85983fe05035e77   \n",
       "5  2017-07-12 00:00:00   Aradhya Dhillon        SALES  6fc9e94f41df3696   \n",
       "\n",
       "            GSTIN/UIN  Quantity     Value  Gross Total  \n",
       "0  22f9741467a02b6530     136.0   53200.0      65796.0  \n",
       "1  23c8d6101b1869f123      24.0   24600.0      31488.0  \n",
       "2  24f73a863eae7cf9d9     155.0   68660.0      82839.0  \n",
       "3  24f73a863eae7cf9d9     319.0  164475.0     194860.5  \n",
       "4  08b8060280e794624c     110.0   26000.0      31100.0  \n",
       "5  24b6a7b12f0e96b7b0       2.0    2300.0       2944.0  "
      ]
     },
     "execution_count": 3,
     "metadata": {},
     "output_type": "execute_result"
    }
   ],
   "source": [
    "\n",
    "# Load in some packages\n",
    "import calendar\n",
    "import pandas as pd\n",
    "import matplotlib.pyplot as plt\n",
    "import warnings\n",
    "\n",
    "warnings.filterwarnings(\"ignore\")\n",
    "\n",
    "dr_sales_df = pd.read_excel(r\"C:\\Users\\jki\\Downloads\\Sales Master.xlsx\")\n",
    "dr_sales_df.head(6)"
   ]
  },
  {
   "cell_type": "markdown",
   "id": "93af3533",
   "metadata": {},
   "source": [
    "Exploring The Variables\n",
    "The first step in exploratory analysis is reading in the data and then exploring the variables. It is important to get a sense of how many variables and cases there are, the data types of the variables and the range of values they take on.\n",
    "\n",
    "We'll start by reading in the data:"
   ]
  },
  {
   "cell_type": "code",
   "execution_count": 4,
   "id": "09b605cc",
   "metadata": {
    "scrolled": true
   },
   "outputs": [
    {
     "name": "stdout",
     "output_type": "stream",
     "text": [
      "Date            3573\n",
      "Party              0\n",
      "Voucher Type    4404\n",
      "Voucher No.     4404\n",
      "GSTIN/UIN       4519\n",
      "Quantity        4429\n",
      "Value              0\n",
      "Gross Total     4404\n",
      "dtype: int64\n"
     ]
    }
   ],
   "source": [
    "# lets check for mising values\n",
    "missing_values = dr_sales_df.isna().sum()\n",
    "print(missing_values)"
   ]
  },
  {
   "cell_type": "code",
   "execution_count": 8,
   "id": "f3a97e94",
   "metadata": {},
   "outputs": [
    {
     "name": "stdout",
     "output_type": "stream",
     "text": [
      "Date            0\n",
      "Party           0\n",
      "Voucher Type    0\n",
      "Voucher No.     0\n",
      "GSTIN/UIN       0\n",
      "Quantity        0\n",
      "Value           0\n",
      "Gross Total     0\n",
      "dtype: int64\n"
     ]
    }
   ],
   "source": [
    "# lets remove missing values and confirit\n",
    "dr_sales_df.dropna(subset=['Date'],inplace=True)\n",
    "dr_sales_df.dropna(subset=['Voucher Type'],inplace=True)\n",
    "dr_sales_df.dropna(subset=['Voucher No.'],inplace=True)\n",
    "dr_sales_df.dropna(subset=['GSTIN/UIN'],inplace=True)\n",
    "dr_sales_df.dropna(subset=['Gross Total'],inplace=True)\n",
    "dr_sales_df.dropna(subset=['Quantity'],inplace=True)\n",
    "# lets check for mising values\n",
    "missing_values = dr_sales_df.isna().sum()\n",
    "print(missing_values)"
   ]
  },
  {
   "cell_type": "code",
   "execution_count": 9,
   "id": "79966566",
   "metadata": {},
   "outputs": [
    {
     "name": "stdout",
     "output_type": "stream",
     "text": [
      "<class 'pandas.core.frame.DataFrame'>\n",
      "Int64Index: 3725 entries, 0 to 3864\n",
      "Data columns (total 8 columns):\n",
      " #   Column        Non-Null Count  Dtype  \n",
      "---  ------        --------------  -----  \n",
      " 0   Date          3725 non-null   object \n",
      " 1   Party         3725 non-null   object \n",
      " 2   Voucher Type  3725 non-null   object \n",
      " 3   Voucher No.   3725 non-null   object \n",
      " 4   GSTIN/UIN     3725 non-null   object \n",
      " 5   Quantity      3725 non-null   float64\n",
      " 6   Value         3725 non-null   float64\n",
      " 7   Gross Total   3725 non-null   float64\n",
      "dtypes: float64(3), object(5)\n",
      "memory usage: 261.9+ KB\n"
     ]
    }
   ],
   "source": [
    "# let have a look at the data types\n",
    "dr_sales_df.info()"
   ]
  },
  {
   "cell_type": "code",
   "execution_count": 11,
   "id": "9ebb6258",
   "metadata": {},
   "outputs": [
    {
     "name": "stdout",
     "output_type": "stream",
     "text": [
      "<class 'pandas.core.frame.DataFrame'>\n",
      "Int64Index: 3725 entries, 0 to 3864\n",
      "Data columns (total 8 columns):\n",
      " #   Column        Non-Null Count  Dtype         \n",
      "---  ------        --------------  -----         \n",
      " 0   Date          3725 non-null   datetime64[ns]\n",
      " 1   Party         3725 non-null   object        \n",
      " 2   Voucher Type  3725 non-null   object        \n",
      " 3   Voucher No.   3725 non-null   object        \n",
      " 4   GSTIN/UIN     3725 non-null   object        \n",
      " 5   Quantity      3725 non-null   float64       \n",
      " 6   Value         3725 non-null   float64       \n",
      " 7   Gross Total   3725 non-null   float64       \n",
      "dtypes: datetime64[ns](1), float64(3), object(4)\n",
      "memory usage: 261.9+ KB\n"
     ]
    }
   ],
   "source": [
    "# lets change the date data types\n",
    "dr_sales_df['Date'] = pd.to_datetime(dr_sales_df['Date'])\n",
    "# let have a look at the data types\n",
    "dr_sales_df.info()"
   ]
  },
  {
   "cell_type": "code",
   "execution_count": 12,
   "id": "c2878842",
   "metadata": {},
   "outputs": [
    {
     "data": {
      "text/html": [
       "<div>\n",
       "<style scoped>\n",
       "    .dataframe tbody tr th:only-of-type {\n",
       "        vertical-align: middle;\n",
       "    }\n",
       "\n",
       "    .dataframe tbody tr th {\n",
       "        vertical-align: top;\n",
       "    }\n",
       "\n",
       "    .dataframe thead th {\n",
       "        text-align: right;\n",
       "    }\n",
       "</style>\n",
       "<table border=\"1\" class=\"dataframe\">\n",
       "  <thead>\n",
       "    <tr style=\"text-align: right;\">\n",
       "      <th></th>\n",
       "      <th>Date</th>\n",
       "      <th>Party</th>\n",
       "      <th>Voucher Type</th>\n",
       "      <th>Voucher No.</th>\n",
       "      <th>GSTIN/UIN</th>\n",
       "      <th>Quantity</th>\n",
       "      <th>Value</th>\n",
       "      <th>Gross Total</th>\n",
       "      <th>Year</th>\n",
       "      <th>Month</th>\n",
       "      <th>Hour</th>\n",
       "    </tr>\n",
       "  </thead>\n",
       "  <tbody>\n",
       "    <tr>\n",
       "      <th>0</th>\n",
       "      <td>2017-07-07</td>\n",
       "      <td>Bhavin Jani</td>\n",
       "      <td>SALES</td>\n",
       "      <td>d4a8c69b845073bd</td>\n",
       "      <td>22f9741467a02b6530</td>\n",
       "      <td>136.0</td>\n",
       "      <td>53200.0</td>\n",
       "      <td>65796.0</td>\n",
       "      <td>2017</td>\n",
       "      <td>7</td>\n",
       "      <td>0</td>\n",
       "    </tr>\n",
       "    <tr>\n",
       "      <th>1</th>\n",
       "      <td>2017-07-07</td>\n",
       "      <td>Jayesh Rege</td>\n",
       "      <td>SALES</td>\n",
       "      <td>40549be5cab3e7a9</td>\n",
       "      <td>23c8d6101b1869f123</td>\n",
       "      <td>24.0</td>\n",
       "      <td>24600.0</td>\n",
       "      <td>31488.0</td>\n",
       "      <td>2017</td>\n",
       "      <td>7</td>\n",
       "      <td>0</td>\n",
       "    </tr>\n",
       "    <tr>\n",
       "      <th>2</th>\n",
       "      <td>2017-07-07</td>\n",
       "      <td>Farhan Zachariah</td>\n",
       "      <td>SALES</td>\n",
       "      <td>fc4e8e9ba6911989</td>\n",
       "      <td>24f73a863eae7cf9d9</td>\n",
       "      <td>155.0</td>\n",
       "      <td>68660.0</td>\n",
       "      <td>82839.0</td>\n",
       "      <td>2017</td>\n",
       "      <td>7</td>\n",
       "      <td>0</td>\n",
       "    </tr>\n",
       "  </tbody>\n",
       "</table>\n",
       "</div>"
      ],
      "text/plain": [
       "        Date             Party Voucher Type       Voucher No.  \\\n",
       "0 2017-07-07       Bhavin Jani        SALES  d4a8c69b845073bd   \n",
       "1 2017-07-07       Jayesh Rege        SALES  40549be5cab3e7a9   \n",
       "2 2017-07-07  Farhan Zachariah        SALES  fc4e8e9ba6911989   \n",
       "\n",
       "            GSTIN/UIN  Quantity    Value  Gross Total  Year  Month  Hour  \n",
       "0  22f9741467a02b6530     136.0  53200.0      65796.0  2017      7     0  \n",
       "1  23c8d6101b1869f123      24.0  24600.0      31488.0  2017      7     0  \n",
       "2  24f73a863eae7cf9d9     155.0  68660.0      82839.0  2017      7     0  "
      ]
     },
     "execution_count": 12,
     "metadata": {},
     "output_type": "execute_result"
    }
   ],
   "source": [
    "# lets  extract year,month and hour from date \n",
    "dr_sales_df['Year'] = dr_sales_df['Date'].dt.year\n",
    "dr_sales_df['Month'] = dr_sales_df['Date'].dt.month\n",
    "dr_sales_df['Hour'] = dr_sales_df['Date'].dt.hour \n",
    "\n",
    "dr_sales_df.head(3)"
   ]
  },
  {
   "cell_type": "code",
   "execution_count": 13,
   "id": "b494fdfb",
   "metadata": {},
   "outputs": [
    {
     "name": "stdout",
     "output_type": "stream",
     "text": [
      "<class 'pandas.core.frame.DataFrame'>\n",
      "Int64Index: 3725 entries, 0 to 3864\n",
      "Data columns (total 11 columns):\n",
      " #   Column        Non-Null Count  Dtype         \n",
      "---  ------        --------------  -----         \n",
      " 0   Date          3725 non-null   datetime64[ns]\n",
      " 1   Party         3725 non-null   object        \n",
      " 2   Voucher Type  3725 non-null   object        \n",
      " 3   Voucher No.   3725 non-null   object        \n",
      " 4   GSTIN/UIN     3725 non-null   object        \n",
      " 5   Quantity      3725 non-null   float64       \n",
      " 6   Value         3725 non-null   float64       \n",
      " 7   Gross Total   3725 non-null   float64       \n",
      " 8   Year          3725 non-null   int64         \n",
      " 9   Month         3725 non-null   int64         \n",
      " 10  Hour          3725 non-null   int64         \n",
      "dtypes: datetime64[ns](1), float64(3), int64(3), object(4)\n",
      "memory usage: 349.2+ KB\n"
     ]
    }
   ],
   "source": [
    "# let have a look at the data types\n",
    "dr_sales_df.info()"
   ]
  },
  {
   "cell_type": "code",
   "execution_count": 14,
   "id": "3f502239",
   "metadata": {},
   "outputs": [
    {
     "name": "stdout",
     "output_type": "stream",
     "text": [
      "<class 'pandas.core.frame.DataFrame'>\n",
      "Int64Index: 3725 entries, 0 to 3864\n",
      "Data columns (total 11 columns):\n",
      " #   Column        Non-Null Count  Dtype         \n",
      "---  ------        --------------  -----         \n",
      " 0   Date          3725 non-null   datetime64[ns]\n",
      " 1   Party         3725 non-null   object        \n",
      " 2   Voucher Type  3725 non-null   object        \n",
      " 3   Voucher No.   3725 non-null   object        \n",
      " 4   GSTIN/UIN     3725 non-null   object        \n",
      " 5   Quantity      3725 non-null   float64       \n",
      " 6   Value         3725 non-null   float64       \n",
      " 7   Gross Total   3725 non-null   float64       \n",
      " 8   Year          3725 non-null   datetime64[ns]\n",
      " 9   Month         3725 non-null   datetime64[ns]\n",
      " 10  Hour          3725 non-null   datetime64[ns]\n",
      "dtypes: datetime64[ns](4), float64(3), object(4)\n",
      "memory usage: 349.2+ KB\n"
     ]
    }
   ],
   "source": [
    "dr_sales_df['Year'] = pd.to_datetime(dr_sales_df['Year'])\n",
    "dr_sales_df['Month'] = pd.to_datetime(dr_sales_df['Month'])\n",
    "dr_sales_df['Hour'] = pd.to_datetime(dr_sales_df['Hour'])\n",
    "                                                  \n",
    "# let have a look at the data types\n",
    "dr_sales_df.info()                                                  "
   ]
  },
  {
   "cell_type": "code",
   "execution_count": 15,
   "id": "2520fbd4",
   "metadata": {},
   "outputs": [
    {
     "data": {
      "text/html": [
       "<div>\n",
       "<style scoped>\n",
       "    .dataframe tbody tr th:only-of-type {\n",
       "        vertical-align: middle;\n",
       "    }\n",
       "\n",
       "    .dataframe tbody tr th {\n",
       "        vertical-align: top;\n",
       "    }\n",
       "\n",
       "    .dataframe thead th {\n",
       "        text-align: right;\n",
       "    }\n",
       "</style>\n",
       "<table border=\"1\" class=\"dataframe\">\n",
       "  <thead>\n",
       "    <tr style=\"text-align: right;\">\n",
       "      <th></th>\n",
       "      <th>Quantity</th>\n",
       "      <th>Value</th>\n",
       "      <th>Gross Total</th>\n",
       "    </tr>\n",
       "  </thead>\n",
       "  <tbody>\n",
       "    <tr>\n",
       "      <th>count</th>\n",
       "      <td>3725.000000</td>\n",
       "      <td>3725.000000</td>\n",
       "      <td>3725.000000</td>\n",
       "    </tr>\n",
       "    <tr>\n",
       "      <th>mean</th>\n",
       "      <td>91.495302</td>\n",
       "      <td>24869.369718</td>\n",
       "      <td>29434.818174</td>\n",
       "    </tr>\n",
       "    <tr>\n",
       "      <th>std</th>\n",
       "      <td>227.741967</td>\n",
       "      <td>35180.869961</td>\n",
       "      <td>41551.999738</td>\n",
       "    </tr>\n",
       "    <tr>\n",
       "      <th>min</th>\n",
       "      <td>1.000000</td>\n",
       "      <td>240.000000</td>\n",
       "      <td>383.000000</td>\n",
       "    </tr>\n",
       "    <tr>\n",
       "      <th>25%</th>\n",
       "      <td>10.000000</td>\n",
       "      <td>6175.000000</td>\n",
       "      <td>7316.000000</td>\n",
       "    </tr>\n",
       "    <tr>\n",
       "      <th>50%</th>\n",
       "      <td>27.000000</td>\n",
       "      <td>13775.000000</td>\n",
       "      <td>16284.000000</td>\n",
       "    </tr>\n",
       "    <tr>\n",
       "      <th>75%</th>\n",
       "      <td>76.000000</td>\n",
       "      <td>28125.000000</td>\n",
       "      <td>33247.000000</td>\n",
       "    </tr>\n",
       "    <tr>\n",
       "      <th>max</th>\n",
       "      <td>5100.000000</td>\n",
       "      <td>373500.000000</td>\n",
       "      <td>440730.000000</td>\n",
       "    </tr>\n",
       "  </tbody>\n",
       "</table>\n",
       "</div>"
      ],
      "text/plain": [
       "          Quantity          Value    Gross Total\n",
       "count  3725.000000    3725.000000    3725.000000\n",
       "mean     91.495302   24869.369718   29434.818174\n",
       "std     227.741967   35180.869961   41551.999738\n",
       "min       1.000000     240.000000     383.000000\n",
       "25%      10.000000    6175.000000    7316.000000\n",
       "50%      27.000000   13775.000000   16284.000000\n",
       "75%      76.000000   28125.000000   33247.000000\n",
       "max    5100.000000  373500.000000  440730.000000"
      ]
     },
     "execution_count": 15,
     "metadata": {},
     "output_type": "execute_result"
    }
   ],
   "source": [
    "# do we have netive values\n",
    "dr_sales_df.describe()"
   ]
  },
  {
   "cell_type": "code",
   "execution_count": 16,
   "id": "220c4702",
   "metadata": {},
   "outputs": [
    {
     "name": "stdout",
     "output_type": "stream",
     "text": [
      "<class 'pandas.core.series.Series'>\n",
      "Int64Index: 3725 entries, 0 to 3864\n",
      "Series name: Unit Price\n",
      "Non-Null Count  Dtype  \n",
      "--------------  -----  \n",
      "3725 non-null   float64\n",
      "dtypes: float64(1)\n",
      "memory usage: 58.2 KB\n"
     ]
    }
   ],
   "source": [
    "# lets calculate the uint pricedr_sales_df['Gross Total']\n",
    "dr_sales_df['Unit Price'] = dr_sales_df['Gross Total']/dr_sales_df['Quantity']\n",
    "dr_sales_df['Unit Price'].info()"
   ]
  },
  {
   "cell_type": "code",
   "execution_count": 17,
   "id": "a7e4c2c8",
   "metadata": {},
   "outputs": [
    {
     "data": {
      "text/html": [
       "<div>\n",
       "<style scoped>\n",
       "    .dataframe tbody tr th:only-of-type {\n",
       "        vertical-align: middle;\n",
       "    }\n",
       "\n",
       "    .dataframe tbody tr th {\n",
       "        vertical-align: top;\n",
       "    }\n",
       "\n",
       "    .dataframe thead th {\n",
       "        text-align: right;\n",
       "    }\n",
       "</style>\n",
       "<table border=\"1\" class=\"dataframe\">\n",
       "  <thead>\n",
       "    <tr style=\"text-align: right;\">\n",
       "      <th></th>\n",
       "      <th>Date</th>\n",
       "      <th>Party</th>\n",
       "      <th>Voucher Type</th>\n",
       "      <th>Voucher No.</th>\n",
       "      <th>GSTIN/UIN</th>\n",
       "      <th>Quantity</th>\n",
       "      <th>Value</th>\n",
       "      <th>Gross Total</th>\n",
       "      <th>Year</th>\n",
       "      <th>Month</th>\n",
       "      <th>Hour</th>\n",
       "      <th>Unit Price</th>\n",
       "    </tr>\n",
       "  </thead>\n",
       "  <tbody>\n",
       "    <tr>\n",
       "      <th>0</th>\n",
       "      <td>2017-07-07</td>\n",
       "      <td>Bhavin Jani</td>\n",
       "      <td>SALES</td>\n",
       "      <td>d4a8c69b845073bd</td>\n",
       "      <td>22f9741467a02b6530</td>\n",
       "      <td>136.0</td>\n",
       "      <td>53200.0</td>\n",
       "      <td>65796.0</td>\n",
       "      <td>1970-01-01 00:00:00.000002017</td>\n",
       "      <td>1970-01-01 00:00:00.000000007</td>\n",
       "      <td>1970-01-01</td>\n",
       "      <td>483.794118</td>\n",
       "    </tr>\n",
       "    <tr>\n",
       "      <th>1</th>\n",
       "      <td>2017-07-07</td>\n",
       "      <td>Jayesh Rege</td>\n",
       "      <td>SALES</td>\n",
       "      <td>40549be5cab3e7a9</td>\n",
       "      <td>23c8d6101b1869f123</td>\n",
       "      <td>24.0</td>\n",
       "      <td>24600.0</td>\n",
       "      <td>31488.0</td>\n",
       "      <td>1970-01-01 00:00:00.000002017</td>\n",
       "      <td>1970-01-01 00:00:00.000000007</td>\n",
       "      <td>1970-01-01</td>\n",
       "      <td>1312.000000</td>\n",
       "    </tr>\n",
       "    <tr>\n",
       "      <th>2</th>\n",
       "      <td>2017-07-07</td>\n",
       "      <td>Farhan Zachariah</td>\n",
       "      <td>SALES</td>\n",
       "      <td>fc4e8e9ba6911989</td>\n",
       "      <td>24f73a863eae7cf9d9</td>\n",
       "      <td>155.0</td>\n",
       "      <td>68660.0</td>\n",
       "      <td>82839.0</td>\n",
       "      <td>1970-01-01 00:00:00.000002017</td>\n",
       "      <td>1970-01-01 00:00:00.000000007</td>\n",
       "      <td>1970-01-01</td>\n",
       "      <td>534.445161</td>\n",
       "    </tr>\n",
       "    <tr>\n",
       "      <th>3</th>\n",
       "      <td>2017-07-08</td>\n",
       "      <td>Farhan Zachariah</td>\n",
       "      <td>SALES</td>\n",
       "      <td>83c11df1ada57622</td>\n",
       "      <td>24f73a863eae7cf9d9</td>\n",
       "      <td>319.0</td>\n",
       "      <td>164475.0</td>\n",
       "      <td>194860.5</td>\n",
       "      <td>1970-01-01 00:00:00.000002017</td>\n",
       "      <td>1970-01-01 00:00:00.000000007</td>\n",
       "      <td>1970-01-01</td>\n",
       "      <td>610.847962</td>\n",
       "    </tr>\n",
       "    <tr>\n",
       "      <th>4</th>\n",
       "      <td>2017-07-10</td>\n",
       "      <td>Kabir Raj</td>\n",
       "      <td>SALES</td>\n",
       "      <td>e85983fe05035e77</td>\n",
       "      <td>08b8060280e794624c</td>\n",
       "      <td>110.0</td>\n",
       "      <td>26000.0</td>\n",
       "      <td>31100.0</td>\n",
       "      <td>1970-01-01 00:00:00.000002017</td>\n",
       "      <td>1970-01-01 00:00:00.000000007</td>\n",
       "      <td>1970-01-01</td>\n",
       "      <td>282.727273</td>\n",
       "    </tr>\n",
       "  </tbody>\n",
       "</table>\n",
       "</div>"
      ],
      "text/plain": [
       "        Date             Party Voucher Type       Voucher No.  \\\n",
       "0 2017-07-07       Bhavin Jani        SALES  d4a8c69b845073bd   \n",
       "1 2017-07-07       Jayesh Rege        SALES  40549be5cab3e7a9   \n",
       "2 2017-07-07  Farhan Zachariah        SALES  fc4e8e9ba6911989   \n",
       "3 2017-07-08  Farhan Zachariah        SALES  83c11df1ada57622   \n",
       "4 2017-07-10         Kabir Raj        SALES  e85983fe05035e77   \n",
       "\n",
       "            GSTIN/UIN  Quantity     Value  Gross Total  \\\n",
       "0  22f9741467a02b6530     136.0   53200.0      65796.0   \n",
       "1  23c8d6101b1869f123      24.0   24600.0      31488.0   \n",
       "2  24f73a863eae7cf9d9     155.0   68660.0      82839.0   \n",
       "3  24f73a863eae7cf9d9     319.0  164475.0     194860.5   \n",
       "4  08b8060280e794624c     110.0   26000.0      31100.0   \n",
       "\n",
       "                           Year                         Month       Hour  \\\n",
       "0 1970-01-01 00:00:00.000002017 1970-01-01 00:00:00.000000007 1970-01-01   \n",
       "1 1970-01-01 00:00:00.000002017 1970-01-01 00:00:00.000000007 1970-01-01   \n",
       "2 1970-01-01 00:00:00.000002017 1970-01-01 00:00:00.000000007 1970-01-01   \n",
       "3 1970-01-01 00:00:00.000002017 1970-01-01 00:00:00.000000007 1970-01-01   \n",
       "4 1970-01-01 00:00:00.000002017 1970-01-01 00:00:00.000000007 1970-01-01   \n",
       "\n",
       "    Unit Price  \n",
       "0   483.794118  \n",
       "1  1312.000000  \n",
       "2   534.445161  \n",
       "3   610.847962  \n",
       "4   282.727273  "
      ]
     },
     "execution_count": 17,
     "metadata": {},
     "output_type": "execute_result"
    }
   ],
   "source": [
    "dr_sales_df.head(5)"
   ]
  },
  {
   "cell_type": "markdown",
   "id": "d94aa697",
   "metadata": {},
   "source": [
    "## Data Analysis\n",
    "Data Analysis is the process of systematically applying statistical and/or logical techniques to describe and illustrate, condense and recap, and evaluate data. It is done after data exploration and cleaning. When we do data analysis we answer questions corresponding to our dataset."
   ]
  },
  {
   "cell_type": "code",
   "execution_count": 18,
   "id": "dba84ea3",
   "metadata": {},
   "outputs": [],
   "source": [
    "# Load in some packages\n",
    "import calendar\n",
    "import warnings\n",
    "import pandas as pd\n",
    "import matplotlib.pyplot as plt\n",
    "from itertools import combinations\n",
    "from collections import Counter\n",
    "\n",
    "warnings.filterwarnings(\"ignore\")"
   ]
  },
  {
   "cell_type": "markdown",
   "id": "f2b77dc4",
   "metadata": {},
   "source": [
    "After we cleaned the data it is important to be able to answer some questions related to the data. In this part we will use graphs and group_by function in order to successfully answer them. The questions we need to answer is the following:\n",
    "\n",
    "1 What was the best month for sales? How much was earned that month?\n",
    "\n",
    "2 Which Party had the highest number of sales?\n",
    "\n",
    "3 What Party are most often sold together?\n",
    "\n",
    "4 What Voucher sold the most? Why do you think it sold the most?\n",
    "\n"
   ]
  },
  {
   "cell_type": "markdown",
   "id": "118f4719",
   "metadata": {},
   "source": [
    "## 1 What was the best month for sales? How much was earned that month?"
   ]
  },
  {
   "cell_type": "code",
   "execution_count": 27,
   "id": "79d2f178",
   "metadata": {},
   "outputs": [
    {
     "name": "stdout",
     "output_type": "stream",
     "text": [
      "The best month for sales was Jan with earnings of $109,644,697.70\n"
     ]
    }
   ],
   "source": [
    "# In order to answer this question we need to get all unique months and all sales for each unique month:\n",
    "\n",
    "# 1. What was the best month for sales? How much was earned that month?\n",
    "\n",
    "# Assuming 'Month' is in a string format, convert it to datetime first\n",
    "dr_sales_df['Month'] = pd.to_datetime(dr_sales_df['Month'])\n",
    "\n",
    "# Extract the month and convert it to int32\n",
    "dr_sales_df['Month'] = dr_sales_df['Month'].dt.month.astype('int32')\n",
    "\n",
    "# Convert month numbers to abbreviated month names\n",
    "dr_sales_df['Month Name'] = dr_sales_df['Month'].apply(lambda x: calendar.month_abbr[x])\n",
    "\n",
    "# Group by month and calculate total sales for each month\n",
    "sales_by_month =dr_sales_df.groupby('Month Name').sum()['Gross Total']\n",
    "\n",
    "# Find the best month for sales and the corresponding earnings\n",
    "best_month = sales_by_month.idxmax()\n",
    "earnings_for_best_month = sales_by_month.max()\n",
    "\n",
    "print(f\"The best month for sales was {best_month} with earnings of ${earnings_for_best_month:,.2f}\")\n",
    "\n"
   ]
  },
  {
   "cell_type": "code",
   "execution_count": 28,
   "id": "42441629",
   "metadata": {},
   "outputs": [],
   "source": [
    "unique_Months = dr_sales_df['Month'].apply(lambda x: calendar.month_abbr[x]).unique() # Take all 12 months' names\n",
    "Sales_by_month = dr_sales_df.groupby('Month').sum()['Gross Total'] # Take the highest number of sales "
   ]
  },
  {
   "cell_type": "code",
   "execution_count": 29,
   "id": "19a420b2",
   "metadata": {},
   "outputs": [
    {
     "data": {
      "image/png": "[encoded data removed]",
      "text/plain": [
       "<Figure size 640x480 with 1 Axes>"
      ]
     },
     "metadata": {},
     "output_type": "display_data"
    }
   ],
   "source": [
    "# Plot the highest number of sales for each month\n",
    "plt.bar(unique_Months, Sales_by_month)\n",
    "plt.xticks(unique_Months)\n",
    "plt.ylabel('Sales in USD ($)')\n",
    "plt.xlabel('Month')\n",
    "plt.show()"
   ]
  },
  {
   "cell_type": "code",
   "execution_count": null,
   "id": "0411423e",
   "metadata": {},
   "outputs": [],
   "source": []
  }
 ],
 "metadata": {
  "kernelspec": {
   "display_name": "Python 3 (ipykernel)",
   "language": "python",
   "name": "python3"
  },
  "language_info": {
   "codemirror_mode": {
    "name": "ipython",
    "version": 3
   },
   "file_extension": ".py",
   "mimetype": "text/x-python",
   "name": "python",
   "nbconvert_exporter": "python",
   "pygments_lexer": "ipython3",
   "version": "3.11.4"
  }
 },
 "nbformat": 4,
 "nbformat_minor": 5
}
