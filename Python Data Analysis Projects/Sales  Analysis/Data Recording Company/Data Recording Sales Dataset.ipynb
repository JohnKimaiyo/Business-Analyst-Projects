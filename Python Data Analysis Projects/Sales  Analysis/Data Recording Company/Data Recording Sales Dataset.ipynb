{
 "cells": [
  {
   "cell_type": "markdown",
   "id": "674c12a2",
   "metadata": {},
   "source": [
    "## Data Exploration & Cleaning\n",
    "The first part of any data analysis or predictive modeling task is an initial exploration of the data. Even if you collected the data yourself and you already have a list of questions in mind that you want to answer, it is important to explore the data before doing any serious analysis, since oddities in the data can cause bugs and muddle your results. Before exploring deeper questions, you have to answer many simpler ones about the form and quality of data. That said, it is important to go into your initial data exploration with a big picture question in mind since the goal of your analysis should inform how you prepare the data."
   ]
  },
  {
   "cell_type": "code",
   "execution_count": 3,
   "id": "6d819e74",
   "metadata": {},
   "outputs": [
    {
     "data": {
      "text/html": [
       "<div>\n",
       "<style scoped>\n",
       "    .dataframe tbody tr th:only-of-type {\n",
       "        vertical-align: middle;\n",
       "    }\n",
       "\n",
       "    .dataframe tbody tr th {\n",
       "        vertical-align: top;\n",
       "    }\n",
       "\n",
       "    .dataframe thead th {\n",
       "        text-align: right;\n",
       "    }\n",
       "</style>\n",
       "<table border=\"1\" class=\"dataframe\">\n",
       "  <thead>\n",
       "    <tr style=\"text-align: right;\">\n",
       "      <th></th>\n",
       "      <th>Date</th>\n",
       "      <th>Party</th>\n",
       "      <th>Voucher Type</th>\n",
       "      <th>Voucher No.</th>\n",
       "      <th>GSTIN/UIN</th>\n",
       "      <th>Quantity</th>\n",
       "      <th>Value</th>\n",
       "      <th>Gross Total</th>\n",
       "    </tr>\n",
       "  </thead>\n",
       "  <tbody>\n",
       "    <tr>\n",
       "      <th>0</th>\n",
       "      <td>2017-07-07 00:00:00</td>\n",
       "      <td>Bhavin Jani</td>\n",
       "      <td>SALES</td>\n",
       "      <td>d4a8c69b845073bd</td>\n",
       "      <td>22f9741467a02b6530</td>\n",
       "      <td>136.0</td>\n",
       "      <td>53200.0</td>\n",
       "      <td>65796.0</td>\n",
       "    </tr>\n",
       "    <tr>\n",
       "      <th>1</th>\n",
       "      <td>2017-07-07 00:00:00</td>\n",
       "      <td>Jayesh Rege</td>\n",
       "      <td>SALES</td>\n",
       "      <td>40549be5cab3e7a9</td>\n",
       "      <td>23c8d6101b1869f123</td>\n",
       "      <td>24.0</td>\n",
       "      <td>24600.0</td>\n",
       "      <td>31488.0</td>\n",
       "    </tr>\n",
       "    <tr>\n",
       "      <th>2</th>\n",
       "      <td>2017-07-07 00:00:00</td>\n",
       "      <td>Farhan Zachariah</td>\n",
       "      <td>SALES</td>\n",
       "      <td>fc4e8e9ba6911989</td>\n",
       "      <td>24f73a863eae7cf9d9</td>\n",
       "      <td>155.0</td>\n",
       "      <td>68660.0</td>\n",
       "      <td>82839.0</td>\n",
       "    </tr>\n",
       "    <tr>\n",
       "      <th>3</th>\n",
       "      <td>2017-07-08 00:00:00</td>\n",
       "      <td>Farhan Zachariah</td>\n",
       "      <td>SALES</td>\n",
       "      <td>83c11df1ada57622</td>\n",
       "      <td>24f73a863eae7cf9d9</td>\n",
       "      <td>319.0</td>\n",
       "      <td>164475.0</td>\n",
       "      <td>194860.5</td>\n",
       "    </tr>\n",
       "    <tr>\n",
       "      <th>4</th>\n",
       "      <td>2017-07-10 00:00:00</td>\n",
       "      <td>Kabir Raj</td>\n",
       "      <td>SALES</td>\n",
       "      <td>e85983fe05035e77</td>\n",
       "      <td>08b8060280e794624c</td>\n",
       "      <td>110.0</td>\n",
       "      <td>26000.0</td>\n",
       "      <td>31100.0</td>\n",
       "    </tr>\n",
       "    <tr>\n",
       "      <th>5</th>\n",
       "      <td>2017-07-12 00:00:00</td>\n",
       "      <td>Aradhya Dhillon</td>\n",
       "      <td>SALES</td>\n",
       "      <td>6fc9e94f41df3696</td>\n",
       "      <td>24b6a7b12f0e96b7b0</td>\n",
       "      <td>2.0</td>\n",
       "      <td>2300.0</td>\n",
       "      <td>2944.0</td>\n",
       "    </tr>\n",
       "  </tbody>\n",
       "</table>\n",
       "</div>"
      ],
      "text/plain": [
       "                  Date             Party Voucher Type       Voucher No.  \\\n",
       "0  2017-07-07 00:00:00       Bhavin Jani        SALES  d4a8c69b845073bd   \n",
       "1  2017-07-07 00:00:00       Jayesh Rege        SALES  40549be5cab3e7a9   \n",
       "2  2017-07-07 00:00:00  Farhan Zachariah        SALES  fc4e8e9ba6911989   \n",
       "3  2017-07-08 00:00:00  Farhan Zachariah        SALES  83c11df1ada57622   \n",
       "4  2017-07-10 00:00:00         Kabir Raj        SALES  e85983fe05035e77   \n",
       "5  2017-07-12 00:00:00   Aradhya Dhillon        SALES  6fc9e94f41df3696   \n",
       "\n",
       "            GSTIN/UIN  Quantity     Value  Gross Total  \n",
       "0  22f9741467a02b6530     136.0   53200.0      65796.0  \n",
       "1  23c8d6101b1869f123      24.0   24600.0      31488.0  \n",
       "2  24f73a863eae7cf9d9     155.0   68660.0      82839.0  \n",
       "3  24f73a863eae7cf9d9     319.0  164475.0     194860.5  \n",
       "4  08b8060280e794624c     110.0   26000.0      31100.0  \n",
       "5  24b6a7b12f0e96b7b0       2.0    2300.0       2944.0  "
      ]
     },
     "execution_count": 3,
     "metadata": {},
     "output_type": "execute_result"
    }
   ],
   "source": [
    "\n",
    "# Load in some packages\n",
    "import calendar\n",
    "import pandas as pd\n",
    "import matplotlib.pyplot as plt\n",
    "import warnings\n",
    "\n",
    "warnings.filterwarnings(\"ignore\")\n",
    "\n",
    "dr_sales_df = pd.read_excel(r\"C:\\Users\\jki\\Downloads\\Sales Master.xlsx\")\n",
    "dr_sales_df.head(6)"
   ]
  },
  {
   "cell_type": "markdown",
   "id": "0cdbe5ea",
   "metadata": {},
   "source": [
    "Exploring The Variables\n",
    "The first step in exploratory analysis is reading in the data and then exploring the variables. It is important to get a sense of how many variables and cases there are, the data types of the variables and the range of values they take on.\n",
    "\n",
    "We'll start by reading in the data:"
   ]
  },
  {
   "cell_type": "code",
   "execution_count": 4,
   "id": "ccb96007",
   "metadata": {
    "scrolled": true
   },
   "outputs": [
    {
     "name": "stdout",
     "output_type": "stream",
     "text": [
      "Date            3573\n",
      "Party              0\n",
      "Voucher Type    4404\n",
      "Voucher No.     4404\n",
      "GSTIN/UIN       4519\n",
      "Quantity        4429\n",
      "Value              0\n",
      "Gross Total     4404\n",
      "dtype: int64\n"
     ]
    }
   ],
   "source": [
    "# lets check for mising values\n",
    "missing_values = dr_sales_df.isna().sum()\n",
    "print(missing_values)"
   ]
  },
  {
   "cell_type": "code",
   "execution_count": null,
   "id": "7eb337f9",
   "metadata": {},
   "outputs": [],
   "source": [
    "# lets remove missing values and confirit\n",
    "dr_sales_df.pd.drop(subset['Date'],inplace=True)\n",
    "dr_sales_df.pd.drop(subset['Voucher Type'],inplace=True)\n",
    "dr_sales_df.pd.drop(subset['Voucher No.'],inplace=True)\n",
    "dr_sales_df.pd.drop(subset['GSTIN/UIN'],inplace=True)\n",
    "dr_sales_df.pd.drop(subset['Gross Total'],inplace=True)\n",
    "dr_sales_df.pd.drop(subset['Quantity'],inplace=True)\n"
   ]
  }
 ],
 "metadata": {
  "kernelspec": {
   "display_name": "Python 3 (ipykernel)",
   "language": "python",
   "name": "python3"
  },
  "language_info": {
   "codemirror_mode": {
    "name": "ipython",
    "version": 3
   },
   "file_extension": ".py",
   "mimetype": "text/x-python",
   "name": "python",
   "nbconvert_exporter": "python",
   "pygments_lexer": "ipython3",
   "version": "3.11.4"
  }
 },
 "nbformat": 4,
 "nbformat_minor": 5
}
