{
 "cells": [
  {
   "cell_type": "markdown",
   "id": "627956b8",
   "metadata": {},
   "source": [
    "## Vaccines Sales Data Analysis\n",
    "Data Analysis is the process of systematically applying statistical and/or logical techniques to describe and illustrate, condense and recap, and evaluate data. It is done after data exploration and cleaning. When we do data analysis we answer questions corresponding to our dataset."
   ]
  },
  {
   "cell_type": "code",
   "execution_count": 1,
   "id": "85e0752d",
   "metadata": {},
   "outputs": [
    {
     "data": {
      "text/html": [
       "<div>\n",
       "<style scoped>\n",
       "    .dataframe tbody tr th:only-of-type {\n",
       "        vertical-align: middle;\n",
       "    }\n",
       "\n",
       "    .dataframe tbody tr th {\n",
       "        vertical-align: top;\n",
       "    }\n",
       "\n",
       "    .dataframe thead th {\n",
       "        text-align: right;\n",
       "    }\n",
       "</style>\n",
       "<table border=\"1\" class=\"dataframe\">\n",
       "  <thead>\n",
       "    <tr style=\"text-align: right;\">\n",
       "      <th></th>\n",
       "      <th>Segment</th>\n",
       "      <th>Country</th>\n",
       "      <th>Product</th>\n",
       "      <th>Discount Band</th>\n",
       "      <th>Units Sold</th>\n",
       "      <th>Manufacturing Price</th>\n",
       "      <th>Sale Price</th>\n",
       "      <th>Gross Sales</th>\n",
       "      <th>Discounts</th>\n",
       "      <th>Sales</th>\n",
       "      <th>COGS</th>\n",
       "      <th>Profit</th>\n",
       "      <th>Date</th>\n",
       "      <th>Month Number</th>\n",
       "      <th>Month Name</th>\n",
       "      <th>Year</th>\n",
       "    </tr>\n",
       "  </thead>\n",
       "  <tbody>\n",
       "    <tr>\n",
       "      <th>0</th>\n",
       "      <td>Government</td>\n",
       "      <td>Canada</td>\n",
       "      <td>Carretera</td>\n",
       "      <td>None</td>\n",
       "      <td>1618.5</td>\n",
       "      <td>3</td>\n",
       "      <td>20</td>\n",
       "      <td>32370.0</td>\n",
       "      <td>0.0</td>\n",
       "      <td>32370.0</td>\n",
       "      <td>16185.0</td>\n",
       "      <td>16185.0</td>\n",
       "      <td>2014-01-01</td>\n",
       "      <td>1</td>\n",
       "      <td>January</td>\n",
       "      <td>2014</td>\n",
       "    </tr>\n",
       "    <tr>\n",
       "      <th>1</th>\n",
       "      <td>Government</td>\n",
       "      <td>Germany</td>\n",
       "      <td>Carretera</td>\n",
       "      <td>None</td>\n",
       "      <td>1321.0</td>\n",
       "      <td>3</td>\n",
       "      <td>20</td>\n",
       "      <td>26420.0</td>\n",
       "      <td>0.0</td>\n",
       "      <td>26420.0</td>\n",
       "      <td>13210.0</td>\n",
       "      <td>13210.0</td>\n",
       "      <td>2014-01-01</td>\n",
       "      <td>1</td>\n",
       "      <td>January</td>\n",
       "      <td>2014</td>\n",
       "    </tr>\n",
       "    <tr>\n",
       "      <th>2</th>\n",
       "      <td>Midmarket</td>\n",
       "      <td>France</td>\n",
       "      <td>Carretera</td>\n",
       "      <td>None</td>\n",
       "      <td>2178.0</td>\n",
       "      <td>3</td>\n",
       "      <td>15</td>\n",
       "      <td>32670.0</td>\n",
       "      <td>0.0</td>\n",
       "      <td>32670.0</td>\n",
       "      <td>21780.0</td>\n",
       "      <td>10890.0</td>\n",
       "      <td>2014-06-01</td>\n",
       "      <td>6</td>\n",
       "      <td>June</td>\n",
       "      <td>2014</td>\n",
       "    </tr>\n",
       "    <tr>\n",
       "      <th>3</th>\n",
       "      <td>Midmarket</td>\n",
       "      <td>Germany</td>\n",
       "      <td>Carretera</td>\n",
       "      <td>None</td>\n",
       "      <td>888.0</td>\n",
       "      <td>3</td>\n",
       "      <td>15</td>\n",
       "      <td>13320.0</td>\n",
       "      <td>0.0</td>\n",
       "      <td>13320.0</td>\n",
       "      <td>8880.0</td>\n",
       "      <td>4440.0</td>\n",
       "      <td>2014-06-01</td>\n",
       "      <td>6</td>\n",
       "      <td>June</td>\n",
       "      <td>2014</td>\n",
       "    </tr>\n",
       "    <tr>\n",
       "      <th>4</th>\n",
       "      <td>Midmarket</td>\n",
       "      <td>Mexico</td>\n",
       "      <td>Carretera</td>\n",
       "      <td>None</td>\n",
       "      <td>2470.0</td>\n",
       "      <td>3</td>\n",
       "      <td>15</td>\n",
       "      <td>37050.0</td>\n",
       "      <td>0.0</td>\n",
       "      <td>37050.0</td>\n",
       "      <td>24700.0</td>\n",
       "      <td>12350.0</td>\n",
       "      <td>2014-06-01</td>\n",
       "      <td>6</td>\n",
       "      <td>June</td>\n",
       "      <td>2014</td>\n",
       "    </tr>\n",
       "    <tr>\n",
       "      <th>5</th>\n",
       "      <td>Government</td>\n",
       "      <td>Germany</td>\n",
       "      <td>Carretera</td>\n",
       "      <td>None</td>\n",
       "      <td>1513.0</td>\n",
       "      <td>3</td>\n",
       "      <td>350</td>\n",
       "      <td>529550.0</td>\n",
       "      <td>0.0</td>\n",
       "      <td>529550.0</td>\n",
       "      <td>393380.0</td>\n",
       "      <td>136170.0</td>\n",
       "      <td>2014-12-01</td>\n",
       "      <td>12</td>\n",
       "      <td>December</td>\n",
       "      <td>2014</td>\n",
       "    </tr>\n",
       "    <tr>\n",
       "      <th>6</th>\n",
       "      <td>Midmarket</td>\n",
       "      <td>Germany</td>\n",
       "      <td>Montana</td>\n",
       "      <td>None</td>\n",
       "      <td>921.0</td>\n",
       "      <td>5</td>\n",
       "      <td>15</td>\n",
       "      <td>13815.0</td>\n",
       "      <td>0.0</td>\n",
       "      <td>13815.0</td>\n",
       "      <td>9210.0</td>\n",
       "      <td>4605.0</td>\n",
       "      <td>2014-03-01</td>\n",
       "      <td>3</td>\n",
       "      <td>March</td>\n",
       "      <td>2014</td>\n",
       "    </tr>\n",
       "    <tr>\n",
       "      <th>7</th>\n",
       "      <td>Channel Partners</td>\n",
       "      <td>Canada</td>\n",
       "      <td>Montana</td>\n",
       "      <td>None</td>\n",
       "      <td>2518.0</td>\n",
       "      <td>5</td>\n",
       "      <td>12</td>\n",
       "      <td>30216.0</td>\n",
       "      <td>0.0</td>\n",
       "      <td>30216.0</td>\n",
       "      <td>7554.0</td>\n",
       "      <td>22662.0</td>\n",
       "      <td>2014-06-01</td>\n",
       "      <td>6</td>\n",
       "      <td>June</td>\n",
       "      <td>2014</td>\n",
       "    </tr>\n",
       "    <tr>\n",
       "      <th>8</th>\n",
       "      <td>Government</td>\n",
       "      <td>France</td>\n",
       "      <td>Montana</td>\n",
       "      <td>None</td>\n",
       "      <td>1899.0</td>\n",
       "      <td>5</td>\n",
       "      <td>20</td>\n",
       "      <td>37980.0</td>\n",
       "      <td>0.0</td>\n",
       "      <td>37980.0</td>\n",
       "      <td>18990.0</td>\n",
       "      <td>18990.0</td>\n",
       "      <td>2014-06-01</td>\n",
       "      <td>6</td>\n",
       "      <td>June</td>\n",
       "      <td>2014</td>\n",
       "    </tr>\n",
       "    <tr>\n",
       "      <th>9</th>\n",
       "      <td>Channel Partners</td>\n",
       "      <td>Germany</td>\n",
       "      <td>Montana</td>\n",
       "      <td>None</td>\n",
       "      <td>1545.0</td>\n",
       "      <td>5</td>\n",
       "      <td>12</td>\n",
       "      <td>18540.0</td>\n",
       "      <td>0.0</td>\n",
       "      <td>18540.0</td>\n",
       "      <td>4635.0</td>\n",
       "      <td>13905.0</td>\n",
       "      <td>2014-06-01</td>\n",
       "      <td>6</td>\n",
       "      <td>June</td>\n",
       "      <td>2014</td>\n",
       "    </tr>\n",
       "  </tbody>\n",
       "</table>\n",
       "</div>"
      ],
      "text/plain": [
       "            Segment  Country    Product Discount Band  Units Sold  \\\n",
       "0        Government   Canada  Carretera          None      1618.5   \n",
       "1        Government  Germany  Carretera          None      1321.0   \n",
       "2         Midmarket   France  Carretera          None      2178.0   \n",
       "3         Midmarket  Germany  Carretera          None       888.0   \n",
       "4         Midmarket   Mexico  Carretera          None      2470.0   \n",
       "5        Government  Germany  Carretera          None      1513.0   \n",
       "6         Midmarket  Germany    Montana          None       921.0   \n",
       "7  Channel Partners   Canada    Montana          None      2518.0   \n",
       "8        Government   France    Montana          None      1899.0   \n",
       "9  Channel Partners  Germany    Montana          None      1545.0   \n",
       "\n",
       "   Manufacturing Price  Sale Price  Gross Sales  Discounts     Sales  \\\n",
       "0                    3          20      32370.0        0.0   32370.0   \n",
       "1                    3          20      26420.0        0.0   26420.0   \n",
       "2                    3          15      32670.0        0.0   32670.0   \n",
       "3                    3          15      13320.0        0.0   13320.0   \n",
       "4                    3          15      37050.0        0.0   37050.0   \n",
       "5                    3         350     529550.0        0.0  529550.0   \n",
       "6                    5          15      13815.0        0.0   13815.0   \n",
       "7                    5          12      30216.0        0.0   30216.0   \n",
       "8                    5          20      37980.0        0.0   37980.0   \n",
       "9                    5          12      18540.0        0.0   18540.0   \n",
       "\n",
       "       COGS    Profit       Date  Month Number Month Name  Year  \n",
       "0   16185.0   16185.0 2014-01-01             1    January  2014  \n",
       "1   13210.0   13210.0 2014-01-01             1    January  2014  \n",
       "2   21780.0   10890.0 2014-06-01             6       June  2014  \n",
       "3    8880.0    4440.0 2014-06-01             6       June  2014  \n",
       "4   24700.0   12350.0 2014-06-01             6       June  2014  \n",
       "5  393380.0  136170.0 2014-12-01            12   December  2014  \n",
       "6    9210.0    4605.0 2014-03-01             3      March  2014  \n",
       "7    7554.0   22662.0 2014-06-01             6       June  2014  \n",
       "8   18990.0   18990.0 2014-06-01             6       June  2014  \n",
       "9    4635.0   13905.0 2014-06-01             6       June  2014  "
      ]
     },
     "execution_count": 1,
     "metadata": {},
     "output_type": "execute_result"
    }
   ],
   "source": [
    "\n",
    "# Load in some packages\n",
    "import calendar\n",
    "import pandas as pd\n",
    "import matplotlib.pyplot as plt\n",
    "import warnings\n",
    "\n",
    "warnings.filterwarnings(\"ignore\")\n",
    "\n",
    "# load the datasets\n",
    "vc_sales_df = pd.read_excel(r\"C:\\Users\\jki\\Downloads\\4 Vaccine Sales Data\\vaccine sales datase.xlsx\")\n",
    "vc_sales_df.head(10)"
   ]
  },
  {
   "cell_type": "code",
   "execution_count": 2,
   "id": "fbd0b497",
   "metadata": {},
   "outputs": [
    {
     "name": "stdout",
     "output_type": "stream",
     "text": [
      "Segment                0\n",
      "Country                0\n",
      "Product                0\n",
      "Discount Band          0\n",
      "Units Sold             0\n",
      "Manufacturing Price    0\n",
      "Sale Price             0\n",
      "Gross Sales            0\n",
      "Discounts              0\n",
      " Sales                 0\n",
      "COGS                   0\n",
      "Profit                 0\n",
      "Date                   0\n",
      "Month Number           0\n",
      "Month Name             0\n",
      "Year                   0\n",
      "dtype: int64\n"
     ]
    }
   ],
   "source": [
    "# lets check of we have missing values\n",
    "missing_values = vc_sales_df.isna().sum()\n",
    "print(missing_values)"
   ]
  },
  {
   "cell_type": "code",
   "execution_count": 3,
   "id": "fbbb92b9",
   "metadata": {},
   "outputs": [
    {
     "name": "stdout",
     "output_type": "stream",
     "text": [
      "<class 'pandas.core.frame.DataFrame'>\n",
      "RangeIndex: 700 entries, 0 to 699\n",
      "Data columns (total 16 columns):\n",
      " #   Column               Non-Null Count  Dtype         \n",
      "---  ------               --------------  -----         \n",
      " 0   Segment              700 non-null    object        \n",
      " 1   Country              700 non-null    object        \n",
      " 2   Product              700 non-null    object        \n",
      " 3   Discount Band        700 non-null    object        \n",
      " 4   Units Sold           700 non-null    float64       \n",
      " 5   Manufacturing Price  700 non-null    int64         \n",
      " 6   Sale Price           700 non-null    int64         \n",
      " 7   Gross Sales          700 non-null    float64       \n",
      " 8   Discounts            700 non-null    float64       \n",
      " 9    Sales               700 non-null    float64       \n",
      " 10  COGS                 700 non-null    float64       \n",
      " 11  Profit               700 non-null    float64       \n",
      " 12  Date                 700 non-null    datetime64[ns]\n",
      " 13  Month Number         700 non-null    int64         \n",
      " 14  Month Name           700 non-null    object        \n",
      " 15  Year                 700 non-null    int64         \n",
      "dtypes: datetime64[ns](1), float64(6), int64(4), object(5)\n",
      "memory usage: 87.6+ KB\n"
     ]
    }
   ],
   "source": [
    "# let have a look at the data types\n",
    "vc_sales_df.info()"
   ]
  },
  {
   "cell_type": "code",
   "execution_count": 4,
   "id": "cc01b774",
   "metadata": {},
   "outputs": [
    {
     "data": {
      "text/html": [
       "<div>\n",
       "<style scoped>\n",
       "    .dataframe tbody tr th:only-of-type {\n",
       "        vertical-align: middle;\n",
       "    }\n",
       "\n",
       "    .dataframe tbody tr th {\n",
       "        vertical-align: top;\n",
       "    }\n",
       "\n",
       "    .dataframe thead th {\n",
       "        text-align: right;\n",
       "    }\n",
       "</style>\n",
       "<table border=\"1\" class=\"dataframe\">\n",
       "  <thead>\n",
       "    <tr style=\"text-align: right;\">\n",
       "      <th></th>\n",
       "      <th>Units Sold</th>\n",
       "      <th>Manufacturing Price</th>\n",
       "      <th>Sale Price</th>\n",
       "      <th>Gross Sales</th>\n",
       "      <th>Discounts</th>\n",
       "      <th>Sales</th>\n",
       "      <th>COGS</th>\n",
       "      <th>Profit</th>\n",
       "      <th>Month Number</th>\n",
       "      <th>Year</th>\n",
       "    </tr>\n",
       "  </thead>\n",
       "  <tbody>\n",
       "    <tr>\n",
       "      <th>count</th>\n",
       "      <td>700.000000</td>\n",
       "      <td>700.000000</td>\n",
       "      <td>700.000000</td>\n",
       "      <td>7.000000e+02</td>\n",
       "      <td>700.000000</td>\n",
       "      <td>7.000000e+02</td>\n",
       "      <td>700.000000</td>\n",
       "      <td>700.000000</td>\n",
       "      <td>700.000000</td>\n",
       "      <td>700.000000</td>\n",
       "    </tr>\n",
       "    <tr>\n",
       "      <th>mean</th>\n",
       "      <td>1608.294286</td>\n",
       "      <td>96.477143</td>\n",
       "      <td>118.428571</td>\n",
       "      <td>1.827594e+05</td>\n",
       "      <td>13150.354629</td>\n",
       "      <td>1.696091e+05</td>\n",
       "      <td>145475.211429</td>\n",
       "      <td>24133.860371</td>\n",
       "      <td>7.900000</td>\n",
       "      <td>2013.750000</td>\n",
       "    </tr>\n",
       "    <tr>\n",
       "      <th>std</th>\n",
       "      <td>867.427859</td>\n",
       "      <td>108.602612</td>\n",
       "      <td>136.775515</td>\n",
       "      <td>2.542623e+05</td>\n",
       "      <td>22962.928775</td>\n",
       "      <td>2.367263e+05</td>\n",
       "      <td>203865.506118</td>\n",
       "      <td>42760.626563</td>\n",
       "      <td>3.377321</td>\n",
       "      <td>0.433322</td>\n",
       "    </tr>\n",
       "    <tr>\n",
       "      <th>min</th>\n",
       "      <td>200.000000</td>\n",
       "      <td>3.000000</td>\n",
       "      <td>7.000000</td>\n",
       "      <td>1.799000e+03</td>\n",
       "      <td>0.000000</td>\n",
       "      <td>1.655080e+03</td>\n",
       "      <td>918.000000</td>\n",
       "      <td>-40617.500000</td>\n",
       "      <td>1.000000</td>\n",
       "      <td>2013.000000</td>\n",
       "    </tr>\n",
       "    <tr>\n",
       "      <th>25%</th>\n",
       "      <td>905.000000</td>\n",
       "      <td>5.000000</td>\n",
       "      <td>12.000000</td>\n",
       "      <td>1.739175e+04</td>\n",
       "      <td>800.320000</td>\n",
       "      <td>1.592800e+04</td>\n",
       "      <td>7490.000000</td>\n",
       "      <td>2805.960000</td>\n",
       "      <td>5.750000</td>\n",
       "      <td>2013.750000</td>\n",
       "    </tr>\n",
       "    <tr>\n",
       "      <th>50%</th>\n",
       "      <td>1542.500000</td>\n",
       "      <td>10.000000</td>\n",
       "      <td>20.000000</td>\n",
       "      <td>3.798000e+04</td>\n",
       "      <td>2585.250000</td>\n",
       "      <td>3.554020e+04</td>\n",
       "      <td>22506.250000</td>\n",
       "      <td>9242.200000</td>\n",
       "      <td>9.000000</td>\n",
       "      <td>2014.000000</td>\n",
       "    </tr>\n",
       "    <tr>\n",
       "      <th>75%</th>\n",
       "      <td>2229.125000</td>\n",
       "      <td>250.000000</td>\n",
       "      <td>300.000000</td>\n",
       "      <td>2.790250e+05</td>\n",
       "      <td>15956.343750</td>\n",
       "      <td>2.610775e+05</td>\n",
       "      <td>245607.500000</td>\n",
       "      <td>22662.000000</td>\n",
       "      <td>10.250000</td>\n",
       "      <td>2014.000000</td>\n",
       "    </tr>\n",
       "    <tr>\n",
       "      <th>max</th>\n",
       "      <td>4492.500000</td>\n",
       "      <td>260.000000</td>\n",
       "      <td>350.000000</td>\n",
       "      <td>1.207500e+06</td>\n",
       "      <td>149677.500000</td>\n",
       "      <td>1.159200e+06</td>\n",
       "      <td>950625.000000</td>\n",
       "      <td>262200.000000</td>\n",
       "      <td>12.000000</td>\n",
       "      <td>2014.000000</td>\n",
       "    </tr>\n",
       "  </tbody>\n",
       "</table>\n",
       "</div>"
      ],
      "text/plain": [
       "        Units Sold  Manufacturing Price  Sale Price   Gross Sales  \\\n",
       "count   700.000000           700.000000  700.000000  7.000000e+02   \n",
       "mean   1608.294286            96.477143  118.428571  1.827594e+05   \n",
       "std     867.427859           108.602612  136.775515  2.542623e+05   \n",
       "min     200.000000             3.000000    7.000000  1.799000e+03   \n",
       "25%     905.000000             5.000000   12.000000  1.739175e+04   \n",
       "50%    1542.500000            10.000000   20.000000  3.798000e+04   \n",
       "75%    2229.125000           250.000000  300.000000  2.790250e+05   \n",
       "max    4492.500000           260.000000  350.000000  1.207500e+06   \n",
       "\n",
       "           Discounts         Sales           COGS         Profit  \\\n",
       "count     700.000000  7.000000e+02     700.000000     700.000000   \n",
       "mean    13150.354629  1.696091e+05  145475.211429   24133.860371   \n",
       "std     22962.928775  2.367263e+05  203865.506118   42760.626563   \n",
       "min         0.000000  1.655080e+03     918.000000  -40617.500000   \n",
       "25%       800.320000  1.592800e+04    7490.000000    2805.960000   \n",
       "50%      2585.250000  3.554020e+04   22506.250000    9242.200000   \n",
       "75%     15956.343750  2.610775e+05  245607.500000   22662.000000   \n",
       "max    149677.500000  1.159200e+06  950625.000000  262200.000000   \n",
       "\n",
       "       Month Number         Year  \n",
       "count    700.000000   700.000000  \n",
       "mean       7.900000  2013.750000  \n",
       "std        3.377321     0.433322  \n",
       "min        1.000000  2013.000000  \n",
       "25%        5.750000  2013.750000  \n",
       "50%        9.000000  2014.000000  \n",
       "75%       10.250000  2014.000000  \n",
       "max       12.000000  2014.000000  "
      ]
     },
     "execution_count": 4,
     "metadata": {},
     "output_type": "execute_result"
    }
   ],
   "source": [
    "# let have a look at the stastistical summary\n",
    "vc_sales_df.describe()"
   ]
  },
  {
   "cell_type": "markdown",
   "id": "95eb7b38",
   "metadata": {},
   "source": [
    "## 1. What was the best month for sales? How much was earned that month?"
   ]
  },
  {
   "cell_type": "code",
   "execution_count": 5,
   "id": "597ffff4",
   "metadata": {},
   "outputs": [],
   "source": [
    "\n",
    "# Load in some packages\n",
    "import calendar\n",
    "import warnings\n",
    "import pandas as pd\n",
    "import matplotlib.pyplot as plt\n",
    "from itertools import combinations\n",
    "from collections import Counter\n",
    "\n",
    "warnings.filterwarnings(\"ignore\")\n",
    "\n",
    "unique_Months = vc_sales_df['Month Number'].apply(lambda x: calendar.month_abbr[x]).unique() # Take all 12 months' names\n",
    "Sales_by_month = vc_sales_df.groupby('Month Number').sum()['Gross Sales'] # Take the highest number of sales for each month\n",
    "     \n"
   ]
  },
  {
   "cell_type": "markdown",
   "id": "b5753a95",
   "metadata": {},
   "source": [
    "Let's see which month had the highest number of sales with a bar graph:"
   ]
  },
  {
   "cell_type": "code",
   "execution_count": 6,
   "id": "64174d33",
   "metadata": {},
   "outputs": [
    {
     "data": {
      "image/png": "[encoded data removed]",
      "text/plain": [
       "<Figure size 640x480 with 1 Axes>"
      ]
     },
     "metadata": {},
     "output_type": "display_data"
    }
   ],
   "source": [
    "# Plot the highest number of sales for each month\n",
    "plt.bar(unique_Months, Sales_by_month)\n",
    "plt.xticks(unique_Months)\n",
    "plt.ylabel('Sales in USD ($)')\n",
    "plt.xlabel('Month')\n",
    "plt.show()\n",
    "     "
   ]
  },
  {
   "cell_type": "markdown",
   "id": "953e6af2",
   "metadata": {},
   "source": [
    "## 1.Which Product had the highest number of sales?"
   ]
  },
  {
   "cell_type": "markdown",
   "id": "532a268c",
   "metadata": {},
   "source": [
    "In order to answer this question we need to get all unique Product and the number of sales of each city:"
   ]
  },
  {
   "cell_type": "code",
   "execution_count": 8,
   "id": "358051c7",
   "metadata": {},
   "outputs": [],
   "source": [
    "Sales_by_Product = vc_sales_df.groupby('Product').sum()['Gross Sales'] # Take the number of sales for each Poduct\n",
    "unique_Product = vc_sales_df.groupby('Product').sum().index # Take all Product"
   ]
  },
  {
   "cell_type": "markdown",
   "id": "86ce7271",
   "metadata": {},
   "source": [
    "Let's see which product had the highest number of sales with a bar graph:"
   ]
  },
  {
   "cell_type": "code",
   "execution_count": 9,
   "id": "ddd7a348",
   "metadata": {},
   "outputs": [
    {
     "data": {
      "image/png": "[encoded data removed]",
      "text/plain": [
       "<Figure size 640x480 with 1 Axes>"
      ]
     },
     "metadata": {},
     "output_type": "display_data"
    }
   ],
   "source": [
    "\n",
    "# Plot the highest number of sales for each city\n",
    "plt.bar(unique_Product, Sales_by_Product)\n",
    "plt.xticks(unique_Product, rotation = 90, size = 8)\n",
    "plt.ylabel('Sales in USD ($)')\n",
    "plt.xlabel('Product')\n",
    "plt.show()"
   ]
  },
  {
   "cell_type": "markdown",
   "id": "dce6c770",
   "metadata": {},
   "source": [
    "##  2.Which Segment had the highest number of sales?\n",
    "\n"
   ]
  },
  {
   "cell_type": "markdown",
   "id": "f52761e3",
   "metadata": {},
   "source": [
    "In order to answer this question we need to get all unique Segment and the number of sales of each Segment:"
   ]
  },
  {
   "cell_type": "code",
   "execution_count": 16,
   "id": "ab317b1b",
   "metadata": {},
   "outputs": [],
   "source": [
    "\n",
    "Sales_by_Segment = vc_sales_df.groupby('Segment').sum()['Gross Sales'] # Take the number of sales for each Segemnt\n",
    "unique_Segment = vc_sales_df.groupby('Segment').sum().index # Take all Segment"
   ]
  },
  {
   "cell_type": "markdown",
   "id": "db6c8669",
   "metadata": {},
   "source": [
    "Let's see which Segement had the highest number of sales with a bar graph:"
   ]
  },
  {
   "cell_type": "code",
   "execution_count": 17,
   "id": "ae7a77d0",
   "metadata": {},
   "outputs": [
    {
     "data": {
      "image/png": "[encoded data removed]",
      "text/plain": [
       "<Figure size 640x480 with 1 Axes>"
      ]
     },
     "metadata": {},
     "output_type": "display_data"
    }
   ],
   "source": [
    "# Plot the highest number of sales for each city\n",
    "plt.bar(unique_Segment, Sales_by_Segment)\n",
    "plt.xticks(unique_Segement, rotation = 90, size = 8)\n",
    "plt.ylabel('Sales in USD ($)')\n",
    "plt.xlabel('Segment')\n",
    "plt.show()\n",
    "     "
   ]
  },
  {
   "cell_type": "markdown",
   "id": "e08a2d9c",
   "metadata": {},
   "source": [
    "We can see government was the biggest buyer of vaccines"
   ]
  },
  {
   "cell_type": "markdown",
   "id": "4db0044a",
   "metadata": {},
   "source": [
    "## 3.Which Country had the highest number of sales"
   ]
  },
  {
   "cell_type": "markdown",
   "id": "a46b94a6",
   "metadata": {},
   "source": [
    "In order to answer this question we need to get all unique Country and the number of sales of each Country:"
   ]
  },
  {
   "cell_type": "code",
   "execution_count": 18,
   "id": "395cbc17",
   "metadata": {},
   "outputs": [],
   "source": [
    "Sales_by_country = vc_sales_df.groupby('Country').sum()['Gross Sales'] # Take the number of sales for each Country\n",
    "unique_Countries = vc_sales_df.groupby('Country').sum().index # Take all countries"
   ]
  },
  {
   "cell_type": "markdown",
   "id": "c7f021f4",
   "metadata": {},
   "source": [
    "Let's see which country had the highest number of sales with a bar graph:"
   ]
  },
  {
   "cell_type": "code",
   "execution_count": 19,
   "id": "80dd6c0a",
   "metadata": {},
   "outputs": [
    {
     "data": {
      "image/png": "[encoded data removed]",
      "text/plain": [
       "<Figure size 640x480 with 1 Axes>"
      ]
     },
     "metadata": {},
     "output_type": "display_data"
    }
   ],
   "source": [
    "# Plot the highest number of sales for each city\n",
    "plt.bar(unique_Countries, Sales_by_country)\n",
    "plt.xticks(unique_Countries, rotation = 90, size = 8)\n",
    "plt.ylabel('Sales in USD ($)')\n",
    "plt.xlabel('Countries')\n",
    "plt.show()"
   ]
  },
  {
   "cell_type": "markdown",
   "id": "b2306dec",
   "metadata": {},
   "source": [
    "We see that United States had the most sales.\n",
    "\n"
   ]
  },
  {
   "cell_type": "markdown",
   "id": "a1926bf9",
   "metadata": {},
   "source": [
    "## 4. What product sold the most? Why do you think it sold the most?\n"
   ]
  },
  {
   "cell_type": "markdown",
   "id": "2c1508ce",
   "metadata": {},
   "source": [
    "In order to answer this question We just need to sum up the Quantity Ordered based on Grouped Products:\n",
    "\n"
   ]
  },
  {
   "cell_type": "code",
   "execution_count": 22,
   "id": "52381c68",
   "metadata": {},
   "outputs": [],
   "source": [
    "\n",
    "unique_Products = vc_sales_df.groupby('Product').sum().index\n",
    "Quantity_Ordered_by_product = vc_sales_df.groupby('Product').sum()['Units Sold']"
   ]
  },
  {
   "cell_type": "markdown",
   "id": "969ea5f9",
   "metadata": {},
   "source": [
    "Let's see the product with the most quantity order with a bar graph:"
   ]
  },
  {
   "cell_type": "code",
   "execution_count": 23,
   "id": "d8e76c07",
   "metadata": {},
   "outputs": [
    {
     "data": {
      "image/png": "[encoded data removed]",
      "text/plain": [
       "<Figure size 640x480 with 1 Axes>"
      ]
     },
     "metadata": {},
     "output_type": "display_data"
    }
   ],
   "source": [
    "\n",
    "# Plot the quantity ordered for each product\n",
    "plt.bar(unique_Products, Quantity_Ordered_by_product)\n",
    "plt.xticks(unique_Products, rotation = 90, size = 8)\n",
    "plt.ylabel('Units Sold')\n",
    "plt.xlabel('Product')\n",
    "plt.show()\n",
    "     "
   ]
  },
  {
   "cell_type": "markdown",
   "id": "6bca9780",
   "metadata": {},
   "source": [
    "The Paseo, had the most quantity sales of all products One reasonable explanation would be they are cheap   Let's test this theory:"
   ]
  },
  {
   "cell_type": "code",
   "execution_count": 24,
   "id": "42e16b7b",
   "metadata": {},
   "outputs": [
    {
     "data": {
      "text/plain": [
       "Product\n",
       "Amarilla     1652.287234\n",
       "Carretera    1578.989247\n",
       "Montana      1658.043011\n",
       "Paseo        1674.452970\n",
       "VTT          1548.467890\n",
       "Velo         1490.133028\n",
       "Name: Units Sold, dtype: float64"
      ]
     },
     "execution_count": 24,
     "metadata": {},
     "output_type": "execute_result"
    }
   ],
   "source": [
    "Prices_of_products = vc_sales_df.groupby('Product').mean()['Units Sold']\n",
    "Prices_of_products"
   ]
  },
  {
   "cell_type": "markdown",
   "id": "bca62b2d",
   "metadata": {},
   "source": [
    "Let's combine Quantity Ordered and Prices, along with the coresponding Products in one graph:"
   ]
  },
  {
   "cell_type": "code",
   "execution_count": 25,
   "id": "34843167",
   "metadata": {},
   "outputs": [
    {
     "data": {
      "image/png": "[encoded data removed]",
      "text/plain": [
       "<Figure size 640x480 with 2 Axes>"
      ]
     },
     "metadata": {},
     "output_type": "display_data"
    }
   ],
   "source": [
    "\n",
    "fig, ax1 = plt.subplots()\n",
    "\n",
    "ax2 = ax1.twinx()\n",
    "ax1.bar(unique_Products, Quantity_Ordered_by_product, color = 'g')\n",
    "ax2.plot(unique_Products, Prices_of_products, color = 'b')\n",
    "\n",
    "ax1.set_xlabel('Product')\n",
    "ax1.set_ylabel('# Quantity Ordered', color = 'g')\n",
    "ax2.set_ylabel('Price ($)', color = 'b')\n",
    "\n",
    "ax1.set_xticklabels(unique_Products, rotation = 90, size = 8)\n",
    "plt.show()"
   ]
  },
  {
   "cell_type": "markdown",
   "id": "f9d6894d",
   "metadata": {},
   "source": [
    "Paseo is the most sold despite highest price ,this could be beacuse of  highes quality"
   ]
  }
 ],
 "metadata": {
  "kernelspec": {
   "display_name": "Python 3 (ipykernel)",
   "language": "python",
   "name": "python3"
  },
  "language_info": {
   "codemirror_mode": {
    "name": "ipython",
    "version": 3
   },
   "file_extension": ".py",
   "mimetype": "text/x-python",
   "name": "python",
   "nbconvert_exporter": "python",
   "pygments_lexer": "ipython3",
   "version": "3.11.4"
  }
 },
 "nbformat": 4,
 "nbformat_minor": 5
}
