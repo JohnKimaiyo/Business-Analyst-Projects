{
 "cells": [
  {
   "cell_type": "markdown",
   "id": "a3a6c140",
   "metadata": {},
   "source": [
    "# US HomeSales Data Exploration & Cleaning to answer below questions¶\n",
    "\n",
    "##  1 . What was the best month for Home Sales? How much was earned that month?\n",
    "\n",
    "##  2. Which Town had the highest number of sales?\n",
    "\n",
    "##  3. Which Property type had the highest number of sales?\n",
    "\n",
    "##  4. Which Residential  type had the highest number of sales?\n",
    "\n",
    "The first part of any data analysis or predictive modeling task is an initial exploration of the data. Even if you collected the data yourself and you already have a list of questions in mind that you want to answer, it is important to explore the data before doing any serious analysis, since oddities in the data can cause bugs and muddle your results. Before exploring deeper questions, you have to answer many simpler ones about the form and quality of data. That said, it is important to go into your initial data exploration with a big picture question in mind since the goal of your analysis should inform how you prepare the data."
   ]
  },
  {
   "cell_type": "code",
   "execution_count": 2,
   "id": "f98ae59b",
   "metadata": {},
   "outputs": [
    {
     "data": {
      "text/html": [
       "<div>\n",
       "<style scoped>\n",
       "    .dataframe tbody tr th:only-of-type {\n",
       "        vertical-align: middle;\n",
       "    }\n",
       "\n",
       "    .dataframe tbody tr th {\n",
       "        vertical-align: top;\n",
       "    }\n",
       "\n",
       "    .dataframe thead th {\n",
       "        text-align: right;\n",
       "    }\n",
       "</style>\n",
       "<table border=\"1\" class=\"dataframe\">\n",
       "  <thead>\n",
       "    <tr style=\"text-align: right;\">\n",
       "      <th></th>\n",
       "      <th>Serial Number</th>\n",
       "      <th>List Year</th>\n",
       "      <th>Date Recorded</th>\n",
       "      <th>Town</th>\n",
       "      <th>Address</th>\n",
       "      <th>Assessed Value</th>\n",
       "      <th>Sale Amount</th>\n",
       "      <th>Sales Ratio</th>\n",
       "      <th>Property Type</th>\n",
       "      <th>Residential Type</th>\n",
       "      <th>Non Use Code</th>\n",
       "      <th>Assessor Remarks</th>\n",
       "      <th>OPM remarks</th>\n",
       "      <th>Location</th>\n",
       "    </tr>\n",
       "  </thead>\n",
       "  <tbody>\n",
       "    <tr>\n",
       "      <th>0</th>\n",
       "      <td>2020348</td>\n",
       "      <td>2020</td>\n",
       "      <td>9/13/2021</td>\n",
       "      <td>Ansonia</td>\n",
       "      <td>230 WAKELEE AVE</td>\n",
       "      <td>150500</td>\n",
       "      <td>325000.0</td>\n",
       "      <td>0.4630</td>\n",
       "      <td>Commercial</td>\n",
       "      <td>NaN</td>\n",
       "      <td>NaN</td>\n",
       "      <td>NaN</td>\n",
       "      <td>NaN</td>\n",
       "      <td>NaN</td>\n",
       "    </tr>\n",
       "    <tr>\n",
       "      <th>1</th>\n",
       "      <td>20002</td>\n",
       "      <td>2020</td>\n",
       "      <td>10/2/2020</td>\n",
       "      <td>Ashford</td>\n",
       "      <td>390 TURNPIKE RD</td>\n",
       "      <td>253000</td>\n",
       "      <td>430000.0</td>\n",
       "      <td>0.5883</td>\n",
       "      <td>Residential</td>\n",
       "      <td>Single Family</td>\n",
       "      <td>NaN</td>\n",
       "      <td>NaN</td>\n",
       "      <td>NaN</td>\n",
       "      <td>NaN</td>\n",
       "    </tr>\n",
       "    <tr>\n",
       "      <th>2</th>\n",
       "      <td>200212</td>\n",
       "      <td>2020</td>\n",
       "      <td>3/9/2021</td>\n",
       "      <td>Avon</td>\n",
       "      <td>5 CHESTNUT DRIVE</td>\n",
       "      <td>130400</td>\n",
       "      <td>179900.0</td>\n",
       "      <td>0.7248</td>\n",
       "      <td>Residential</td>\n",
       "      <td>Condo</td>\n",
       "      <td>NaN</td>\n",
       "      <td>NaN</td>\n",
       "      <td>NaN</td>\n",
       "      <td>NaN</td>\n",
       "    </tr>\n",
       "    <tr>\n",
       "      <th>3</th>\n",
       "      <td>200243</td>\n",
       "      <td>2020</td>\n",
       "      <td>4/13/2021</td>\n",
       "      <td>Avon</td>\n",
       "      <td>111 NORTHINGTON DRIVE</td>\n",
       "      <td>619290</td>\n",
       "      <td>890000.0</td>\n",
       "      <td>0.6958</td>\n",
       "      <td>Residential</td>\n",
       "      <td>Single Family</td>\n",
       "      <td>NaN</td>\n",
       "      <td>NaN</td>\n",
       "      <td>NaN</td>\n",
       "      <td>NaN</td>\n",
       "    </tr>\n",
       "    <tr>\n",
       "      <th>4</th>\n",
       "      <td>200377</td>\n",
       "      <td>2020</td>\n",
       "      <td>7/2/2021</td>\n",
       "      <td>Avon</td>\n",
       "      <td>70 FAR HILLS DRIVE</td>\n",
       "      <td>862330</td>\n",
       "      <td>1447500.0</td>\n",
       "      <td>0.5957</td>\n",
       "      <td>Residential</td>\n",
       "      <td>Single Family</td>\n",
       "      <td>NaN</td>\n",
       "      <td>NaN</td>\n",
       "      <td>NaN</td>\n",
       "      <td>NaN</td>\n",
       "    </tr>\n",
       "  </tbody>\n",
       "</table>\n",
       "</div>"
      ],
      "text/plain": [
       "   Serial Number  List Year Date Recorded     Town                Address  \\\n",
       "0        2020348       2020     9/13/2021  Ansonia        230 WAKELEE AVE   \n",
       "1          20002       2020     10/2/2020  Ashford        390 TURNPIKE RD   \n",
       "2         200212       2020      3/9/2021     Avon       5 CHESTNUT DRIVE   \n",
       "3         200243       2020     4/13/2021     Avon  111 NORTHINGTON DRIVE   \n",
       "4         200377       2020      7/2/2021     Avon     70 FAR HILLS DRIVE   \n",
       "\n",
       "   Assessed Value  Sale Amount  Sales Ratio Property Type Residential Type  \\\n",
       "0          150500     325000.0       0.4630    Commercial              NaN   \n",
       "1          253000     430000.0       0.5883   Residential    Single Family   \n",
       "2          130400     179900.0       0.7248   Residential            Condo   \n",
       "3          619290     890000.0       0.6958   Residential    Single Family   \n",
       "4          862330    1447500.0       0.5957   Residential    Single Family   \n",
       "\n",
       "  Non Use Code Assessor Remarks OPM remarks Location  \n",
       "0          NaN              NaN         NaN      NaN  \n",
       "1          NaN              NaN         NaN      NaN  \n",
       "2          NaN              NaN         NaN      NaN  \n",
       "3          NaN              NaN         NaN      NaN  \n",
       "4          NaN              NaN         NaN      NaN  "
      ]
     },
     "execution_count": 2,
     "metadata": {},
     "output_type": "execute_result"
    }
   ],
   "source": [
    "# Load in libraries\n",
    "import calendar\n",
    "import pandas as pd\n",
    "import matplotlib.pyplot as plt\n",
    "import warnings\n",
    "warnings.filterwarnings(\"ignore\")\n",
    "\n",
    "# load dataset\n",
    "home_sales_df =pd.read_csv(r\"C:\\Users\\jki\\Downloads\\catalog data websites\\Real_Estate_Sales_2001-2020_GL.csv\")\n",
    "home_sales_df.head(5)"
   ]
  },
  {
   "cell_type": "markdown",
   "id": "437b5f52",
   "metadata": {},
   "source": [
    "After getting a sense of the data's structure, it is a good idea to look at a statistical summary of the variables with df.describe()"
   ]
  },
  {
   "cell_type": "code",
   "execution_count": 3,
   "id": "909cf712",
   "metadata": {},
   "outputs": [
    {
     "data": {
      "text/html": [
       "<div>\n",
       "<style scoped>\n",
       "    .dataframe tbody tr th:only-of-type {\n",
       "        vertical-align: middle;\n",
       "    }\n",
       "\n",
       "    .dataframe tbody tr th {\n",
       "        vertical-align: top;\n",
       "    }\n",
       "\n",
       "    .dataframe thead th {\n",
       "        text-align: right;\n",
       "    }\n",
       "</style>\n",
       "<table border=\"1\" class=\"dataframe\">\n",
       "  <thead>\n",
       "    <tr style=\"text-align: right;\">\n",
       "      <th></th>\n",
       "      <th>Serial Number</th>\n",
       "      <th>List Year</th>\n",
       "      <th>Assessed Value</th>\n",
       "      <th>Sale Amount</th>\n",
       "      <th>Sales Ratio</th>\n",
       "    </tr>\n",
       "  </thead>\n",
       "  <tbody>\n",
       "    <tr>\n",
       "      <th>count</th>\n",
       "      <td>9.972130e+05</td>\n",
       "      <td>997213.000000</td>\n",
       "      <td>9.972130e+05</td>\n",
       "      <td>9.972130e+05</td>\n",
       "      <td>9.972130e+05</td>\n",
       "    </tr>\n",
       "    <tr>\n",
       "      <th>mean</th>\n",
       "      <td>4.311864e+05</td>\n",
       "      <td>2010.189829</td>\n",
       "      <td>2.791437e+05</td>\n",
       "      <td>3.911512e+05</td>\n",
       "      <td>1.044637e+01</td>\n",
       "    </tr>\n",
       "    <tr>\n",
       "      <th>std</th>\n",
       "      <td>6.549219e+06</td>\n",
       "      <td>6.237877</td>\n",
       "      <td>1.670610e+06</td>\n",
       "      <td>5.347270e+06</td>\n",
       "      <td>1.890192e+03</td>\n",
       "    </tr>\n",
       "    <tr>\n",
       "      <th>min</th>\n",
       "      <td>0.000000e+00</td>\n",
       "      <td>2001.000000</td>\n",
       "      <td>0.000000e+00</td>\n",
       "      <td>0.000000e+00</td>\n",
       "      <td>0.000000e+00</td>\n",
       "    </tr>\n",
       "    <tr>\n",
       "      <th>25%</th>\n",
       "      <td>3.044400e+04</td>\n",
       "      <td>2004.000000</td>\n",
       "      <td>8.760000e+04</td>\n",
       "      <td>1.400000e+05</td>\n",
       "      <td>4.867000e-01</td>\n",
       "    </tr>\n",
       "    <tr>\n",
       "      <th>50%</th>\n",
       "      <td>7.030300e+04</td>\n",
       "      <td>2010.000000</td>\n",
       "      <td>1.383900e+05</td>\n",
       "      <td>2.250000e+05</td>\n",
       "      <td>6.246000e-01</td>\n",
       "    </tr>\n",
       "    <tr>\n",
       "      <th>75%</th>\n",
       "      <td>1.518780e+05</td>\n",
       "      <td>2016.000000</td>\n",
       "      <td>2.255600e+05</td>\n",
       "      <td>3.650000e+05</td>\n",
       "      <td>7.852761e-01</td>\n",
       "    </tr>\n",
       "    <tr>\n",
       "      <th>max</th>\n",
       "      <td>2.000500e+09</td>\n",
       "      <td>2020.000000</td>\n",
       "      <td>8.815100e+08</td>\n",
       "      <td>5.000000e+09</td>\n",
       "      <td>1.226420e+06</td>\n",
       "    </tr>\n",
       "  </tbody>\n",
       "</table>\n",
       "</div>"
      ],
      "text/plain": [
       "       Serial Number      List Year  Assessed Value   Sale Amount  \\\n",
       "count   9.972130e+05  997213.000000    9.972130e+05  9.972130e+05   \n",
       "mean    4.311864e+05    2010.189829    2.791437e+05  3.911512e+05   \n",
       "std     6.549219e+06       6.237877    1.670610e+06  5.347270e+06   \n",
       "min     0.000000e+00    2001.000000    0.000000e+00  0.000000e+00   \n",
       "25%     3.044400e+04    2004.000000    8.760000e+04  1.400000e+05   \n",
       "50%     7.030300e+04    2010.000000    1.383900e+05  2.250000e+05   \n",
       "75%     1.518780e+05    2016.000000    2.255600e+05  3.650000e+05   \n",
       "max     2.000500e+09    2020.000000    8.815100e+08  5.000000e+09   \n",
       "\n",
       "        Sales Ratio  \n",
       "count  9.972130e+05  \n",
       "mean   1.044637e+01  \n",
       "std    1.890192e+03  \n",
       "min    0.000000e+00  \n",
       "25%    4.867000e-01  \n",
       "50%    6.246000e-01  \n",
       "75%    7.852761e-01  \n",
       "max    1.226420e+06  "
      ]
     },
     "execution_count": 3,
     "metadata": {},
     "output_type": "execute_result"
    }
   ],
   "source": [
    "home_sales_df.describe()"
   ]
  },
  {
   "cell_type": "code",
   "execution_count": 4,
   "id": "477c17de",
   "metadata": {},
   "outputs": [
    {
     "name": "stdout",
     "output_type": "stream",
     "text": [
      "Serial Number            0\n",
      "List Year                0\n",
      "Date Recorded            2\n",
      "Town                     0\n",
      "Address                 51\n",
      "Assessed Value           0\n",
      "Sale Amount              0\n",
      "Sales Ratio              0\n",
      "Property Type       382446\n",
      "Residential Type    388309\n",
      "Non Use Code        707532\n",
      "Assessor Remarks    847349\n",
      "OPM remarks         987279\n",
      "Location            799516\n",
      "dtype: int64\n"
     ]
    }
   ],
   "source": [
    "# lets have a look for missing vallues\n",
    "missing_values = home_sales_df.isna().sum()\n",
    "print(missing_values)"
   ]
  },
  {
   "cell_type": "code",
   "execution_count": 7,
   "id": "5e3bf186",
   "metadata": {},
   "outputs": [
    {
     "name": "stdout",
     "output_type": "stream",
     "text": [
      "Serial Number       0\n",
      "List Year           0\n",
      "Date Recorded       0\n",
      "Town                0\n",
      "Address             0\n",
      "Assessed Value      0\n",
      "Sale Amount         0\n",
      "Sales Ratio         0\n",
      "Property Type       0\n",
      "Residential Type    0\n",
      "Non Use Code        0\n",
      "Assessor Remarks    0\n",
      "OPM remarks         0\n",
      "Location            0\n",
      "dtype: int64\n"
     ]
    }
   ],
   "source": [
    "\n",
    "# lets drop the missing values\n",
    "home_sales_df=home_sales_df.dropna(subset=['Property Type'])\n",
    "home_sales_df = home_sales_df.dropna(subset=['Residential Type'])\n",
    "home_sales_df= home_sales_df.dropna(subset=['Non Use Code'])\n",
    "home_sales_df=home_sales_df.dropna(subset=['Assessor Remarks'])\n",
    "home_sales_df=home_sales_df.dropna(subset=['OPM remarks'])\n",
    "home_sales_df=home_sales_df.dropna(subset=['Location'])\n",
    "home_sales_df=home_sales_df.dropna(subset=['Address'])\n",
    "# lets have a look for missing vallues if any \n",
    "missing_values = home_sales_df.isna().sum()\n",
    "print(missing_values)"
   ]
  },
  {
   "cell_type": "code",
   "execution_count": 8,
   "id": "adce8569",
   "metadata": {},
   "outputs": [
    {
     "name": "stdout",
     "output_type": "stream",
     "text": [
      "<class 'pandas.core.frame.DataFrame'>\n",
      "Int64Index: 264 entries, 806 to 993143\n",
      "Data columns (total 14 columns):\n",
      " #   Column            Non-Null Count  Dtype  \n",
      "---  ------            --------------  -----  \n",
      " 0   Serial Number     264 non-null    int64  \n",
      " 1   List Year         264 non-null    int64  \n",
      " 2   Date Recorded     264 non-null    object \n",
      " 3   Town              264 non-null    object \n",
      " 4   Address           264 non-null    object \n",
      " 5   Assessed Value    264 non-null    int64  \n",
      " 6   Sale Amount       264 non-null    float64\n",
      " 7   Sales Ratio       264 non-null    float64\n",
      " 8   Property Type     264 non-null    object \n",
      " 9   Residential Type  264 non-null    object \n",
      " 10  Non Use Code      264 non-null    object \n",
      " 11  Assessor Remarks  264 non-null    object \n",
      " 12  OPM remarks       264 non-null    object \n",
      " 13  Location          264 non-null    object \n",
      "dtypes: float64(2), int64(3), object(9)\n",
      "memory usage: 30.9+ KB\n"
     ]
    }
   ],
   "source": [
    "# lets check for data type\n",
    "home_sales_df.info()"
   ]
  },
  {
   "cell_type": "code",
   "execution_count": 10,
   "id": "8bc4e6a7",
   "metadata": {},
   "outputs": [
    {
     "name": "stdout",
     "output_type": "stream",
     "text": [
      "<class 'pandas.core.series.Series'>\n",
      "Int64Index: 264 entries, 806 to 993143\n",
      "Series name: Date Recorded\n",
      "Non-Null Count  Dtype         \n",
      "--------------  -----         \n",
      "264 non-null    datetime64[ns]\n",
      "dtypes: datetime64[ns](1)\n",
      "memory usage: 4.1 KB\n"
     ]
    }
   ],
   "source": [
    "# lets change date data typ\n",
    "home_sales_df['Date Recorded'] = pd.to_datetime(home_sales_df['Date Recorded'])\n",
    "home_sales_df['Date Recorded'].info()"
   ]
  },
  {
   "cell_type": "code",
   "execution_count": 11,
   "id": "b008bb5f",
   "metadata": {},
   "outputs": [
    {
     "data": {
      "text/plain": [
       "count    264.000000\n",
       "mean       6.935606\n",
       "std        3.289519\n",
       "min        1.000000\n",
       "25%        4.000000\n",
       "50%        7.000000\n",
       "75%       10.000000\n",
       "max       12.000000\n",
       "Name: Month, dtype: float64"
      ]
     },
     "execution_count": 11,
     "metadata": {},
     "output_type": "execute_result"
    }
   ],
   "source": [
    "# Creating a new variable can be as simple as taking one variable and adding, multiplying or dividing by another. Let's create a new variable, Month, from 'Order Date':\n",
    "\n",
    "\n",
    "\n",
    "home_sales_df['Month'] = home_sales_df['Date Recorded'].dt.month\n",
    "home_sales_df['Month'].describe()\n"
   ]
  },
  {
   "cell_type": "code",
   "execution_count": 12,
   "id": "949786fb",
   "metadata": {},
   "outputs": [
    {
     "data": {
      "text/html": [
       "<div>\n",
       "<style scoped>\n",
       "    .dataframe tbody tr th:only-of-type {\n",
       "        vertical-align: middle;\n",
       "    }\n",
       "\n",
       "    .dataframe tbody tr th {\n",
       "        vertical-align: top;\n",
       "    }\n",
       "\n",
       "    .dataframe thead th {\n",
       "        text-align: right;\n",
       "    }\n",
       "</style>\n",
       "<table border=\"1\" class=\"dataframe\">\n",
       "  <thead>\n",
       "    <tr style=\"text-align: right;\">\n",
       "      <th></th>\n",
       "      <th>Serial Number</th>\n",
       "      <th>List Year</th>\n",
       "      <th>Date Recorded</th>\n",
       "      <th>Town</th>\n",
       "      <th>Address</th>\n",
       "      <th>Assessed Value</th>\n",
       "      <th>Sale Amount</th>\n",
       "      <th>Sales Ratio</th>\n",
       "      <th>Property Type</th>\n",
       "      <th>Residential Type</th>\n",
       "      <th>Non Use Code</th>\n",
       "      <th>Assessor Remarks</th>\n",
       "      <th>OPM remarks</th>\n",
       "      <th>Location</th>\n",
       "      <th>Month</th>\n",
       "    </tr>\n",
       "  </thead>\n",
       "  <tbody>\n",
       "    <tr>\n",
       "      <th>806</th>\n",
       "      <td>200594</td>\n",
       "      <td>2020</td>\n",
       "      <td>2021-02-16</td>\n",
       "      <td>Danbury</td>\n",
       "      <td>8 HICKORY ST</td>\n",
       "      <td>121600</td>\n",
       "      <td>146216.0</td>\n",
       "      <td>0.831646</td>\n",
       "      <td>Residential</td>\n",
       "      <td>Single Family</td>\n",
       "      <td>25 - Other</td>\n",
       "      <td>I11192</td>\n",
       "      <td>HOUSE HAS SETTLED PER MLS</td>\n",
       "      <td>POINT (-73.44696 41.41179)</td>\n",
       "      <td>2</td>\n",
       "    </tr>\n",
       "    <tr>\n",
       "      <th>981</th>\n",
       "      <td>200562</td>\n",
       "      <td>2020</td>\n",
       "      <td>2021-02-03</td>\n",
       "      <td>Danbury</td>\n",
       "      <td>19  MILL RD</td>\n",
       "      <td>263600</td>\n",
       "      <td>415000.0</td>\n",
       "      <td>0.635181</td>\n",
       "      <td>Residential</td>\n",
       "      <td>Single Family</td>\n",
       "      <td>25 - Other</td>\n",
       "      <td>AFFORDABLE HOUSING / B15001-20-19</td>\n",
       "      <td>INCORRECT DATA PER TOWN RECORDS</td>\n",
       "      <td>POINT (-73.53692 41.38822)</td>\n",
       "      <td>2</td>\n",
       "    </tr>\n",
       "    <tr>\n",
       "      <th>1529</th>\n",
       "      <td>200260</td>\n",
       "      <td>2020</td>\n",
       "      <td>2020-11-23</td>\n",
       "      <td>Danbury</td>\n",
       "      <td>32 COALPIT HILL RD #4</td>\n",
       "      <td>84900</td>\n",
       "      <td>181778.0</td>\n",
       "      <td>0.467053</td>\n",
       "      <td>Residential</td>\n",
       "      <td>Condo</td>\n",
       "      <td>25 - Other</td>\n",
       "      <td>J16087-4</td>\n",
       "      <td>MULTIPLE UNIT SALE</td>\n",
       "      <td>POINT (-73.43796 41.38549)</td>\n",
       "      <td>11</td>\n",
       "    </tr>\n",
       "    <tr>\n",
       "      <th>2167</th>\n",
       "      <td>200148</td>\n",
       "      <td>2020</td>\n",
       "      <td>2021-01-05</td>\n",
       "      <td>Avon</td>\n",
       "      <td>23 CHEPACHET ROAD</td>\n",
       "      <td>165260</td>\n",
       "      <td>430000.0</td>\n",
       "      <td>0.384326</td>\n",
       "      <td>Residential</td>\n",
       "      <td>Condo</td>\n",
       "      <td>07 - Change in Property</td>\n",
       "      <td>Includes 120&amp;124 Pequot Road</td>\n",
       "      <td>TOTAL RENOVATION PER MLS</td>\n",
       "      <td>POINT (-72.91856 41.77954)</td>\n",
       "      <td>1</td>\n",
       "    </tr>\n",
       "    <tr>\n",
       "      <th>2460</th>\n",
       "      <td>200000411</td>\n",
       "      <td>2020</td>\n",
       "      <td>2021-09-10</td>\n",
       "      <td>Brookfield</td>\n",
       "      <td>11 BRISTOL PATH</td>\n",
       "      <td>3770</td>\n",
       "      <td>180000.0</td>\n",
       "      <td>0.020944</td>\n",
       "      <td>Residential</td>\n",
       "      <td>Condo</td>\n",
       "      <td>25 - Other</td>\n",
       "      <td>GARAGE SOLD W/ CONDO</td>\n",
       "      <td>ALSO SEE #200000410</td>\n",
       "      <td>POINT (-73.39124 41.46698)</td>\n",
       "      <td>9</td>\n",
       "    </tr>\n",
       "  </tbody>\n",
       "</table>\n",
       "</div>"
      ],
      "text/plain": [
       "      Serial Number  List Year Date Recorded        Town  \\\n",
       "806          200594       2020    2021-02-16     Danbury   \n",
       "981          200562       2020    2021-02-03     Danbury   \n",
       "1529         200260       2020    2020-11-23     Danbury   \n",
       "2167         200148       2020    2021-01-05        Avon   \n",
       "2460      200000411       2020    2021-09-10  Brookfield   \n",
       "\n",
       "                    Address  Assessed Value  Sale Amount  Sales Ratio  \\\n",
       "806            8 HICKORY ST          121600     146216.0     0.831646   \n",
       "981             19  MILL RD          263600     415000.0     0.635181   \n",
       "1529  32 COALPIT HILL RD #4           84900     181778.0     0.467053   \n",
       "2167      23 CHEPACHET ROAD          165260     430000.0     0.384326   \n",
       "2460        11 BRISTOL PATH            3770     180000.0     0.020944   \n",
       "\n",
       "     Property Type Residential Type             Non Use Code  \\\n",
       "806    Residential    Single Family               25 - Other   \n",
       "981    Residential    Single Family               25 - Other   \n",
       "1529   Residential            Condo               25 - Other   \n",
       "2167   Residential            Condo  07 - Change in Property   \n",
       "2460   Residential            Condo               25 - Other   \n",
       "\n",
       "                       Assessor Remarks                      OPM remarks  \\\n",
       "806                              I11192        HOUSE HAS SETTLED PER MLS   \n",
       "981   AFFORDABLE HOUSING / B15001-20-19  INCORRECT DATA PER TOWN RECORDS   \n",
       "1529                           J16087-4               MULTIPLE UNIT SALE   \n",
       "2167       Includes 120&124 Pequot Road         TOTAL RENOVATION PER MLS   \n",
       "2460               GARAGE SOLD W/ CONDO              ALSO SEE #200000410   \n",
       "\n",
       "                        Location  Month  \n",
       "806   POINT (-73.44696 41.41179)      2  \n",
       "981   POINT (-73.53692 41.38822)      2  \n",
       "1529  POINT (-73.43796 41.38549)     11  \n",
       "2167  POINT (-72.91856 41.77954)      1  \n",
       "2460  POINT (-73.39124 41.46698)      9  "
      ]
     },
     "execution_count": 12,
     "metadata": {},
     "output_type": "execute_result"
    }
   ],
   "source": [
    "# lets confirm month column  has been added\n",
    "home_sales_df.head(5)"
   ]
  },
  {
   "cell_type": "code",
   "execution_count": 13,
   "id": "e28a953f",
   "metadata": {},
   "outputs": [
    {
     "data": {
      "text/plain": [
       "count     264.000000\n",
       "mean     2019.318182\n",
       "std         1.377815\n",
       "min      2017.000000\n",
       "25%      2018.000000\n",
       "50%      2020.000000\n",
       "75%      2021.000000\n",
       "max      2021.000000\n",
       "Name: Year, dtype: float64"
      ]
     },
     "execution_count": 13,
     "metadata": {},
     "output_type": "execute_result"
    }
   ],
   "source": [
    "# lets create year column\n",
    "home_sales_df['Year'] = home_sales_df['Date Recorded'].dt.year\n",
    "home_sales_df['Year'].describe()"
   ]
  },
  {
   "cell_type": "markdown",
   "id": "6a88bc43",
   "metadata": {},
   "source": [
    "## 1. What was the best month for Home Sales? How much was earned that month?"
   ]
  },
  {
   "cell_type": "code",
   "execution_count": 18,
   "id": "8d281745",
   "metadata": {},
   "outputs": [
    {
     "name": "stdout",
     "output_type": "stream",
     "text": [
      "The best month for Home Sales was Jul with earnings of $331,269,169.00\n"
     ]
    }
   ],
   "source": [
    "# Load in some packages\n",
    "import calendar\n",
    "import warnings\n",
    "import pandas as pd\n",
    "import matplotlib.pyplot as plt\n",
    "from itertools import combinations\n",
    "from collections import Counter\n",
    "\n",
    "warnings.filterwarnings(\"ignore\")\n",
    "\n",
    "# 1. What was the best month for  Adult-Use Retail Sales ? How much was earned that month?\n",
    "\n",
    "# Replace NaN or inf values in the 'Month' column with a default value (e.g., 0)\n",
    "home_sales_df['Month'] = home_sales_df['Month'].fillna(0).astype(int)\n",
    "\n",
    "# Convert month numbers to abbreviated month names\n",
    "home_sales_df['Month Name'] = home_sales_df['Month'].apply(lambda x: calendar.month_abbr[x])\n",
    "\n",
    "# Group by month and calculate total sales for each month\n",
    "sales_by_month = home_sales_df.groupby('Month Name').sum()['Sale Amount']\n",
    "\n",
    "# Find the best month for sales and the corresponding earnings\n",
    "best_month = sales_by_month.idxmax()\n",
    "earnings_for_best_month = sales_by_month.max()\n",
    "\n",
    "print(f\"The best month for Home Sales was {best_month} with earnings of ${earnings_for_best_month:,.2f}\")"
   ]
  },
  {
   "cell_type": "code",
   "execution_count": 19,
   "id": "753a53c2",
   "metadata": {},
   "outputs": [
    {
     "data": {
      "image/png": "[encoded data removed]",
      "text/plain": [
       "<Figure size 640x480 with 1 Axes>"
      ]
     },
     "metadata": {},
     "output_type": "display_data"
    }
   ],
   "source": [
    "# Plot the highest number of Adult-Use Retail Sales for each month\n",
    "unique_Months = home_sales_df['Month'].apply(lambda x: calendar.month_abbr[x]).unique() # Take all 12 months' names\n",
    "Sales_by_month =home_sales_df.groupby('Month').sum()['Sale Amount'] # Take the highest number of Adult-Use Retail Sales for each month\n",
    "\n",
    "\n",
    "plt.bar(unique_Months, Sales_by_month)\n",
    "plt.xticks(unique_Months)\n",
    "plt.ylabel('Adult-Use Retail Sales in USD ($)')\n",
    "plt.xlabel('Month')\n",
    "plt.show()"
   ]
  },
  {
   "cell_type": "markdown",
   "id": "d259e4bc",
   "metadata": {},
   "source": [
    "## 2. Which Property Type had the highest number of sales?"
   ]
  },
  {
   "cell_type": "code",
   "execution_count": 21,
   "id": "cd8031f9",
   "metadata": {},
   "outputs": [
    {
     "data": {
      "image/png": "[encoded data removed]",
      "text/plain": [
       "<Figure size 640x480 with 1 Axes>"
      ]
     },
     "metadata": {},
     "output_type": "display_data"
    }
   ],
   "source": [
    "# Plot the highest number of sales for each city\n",
    "\n",
    "Sales_by_city = home_sales_df.groupby('Property Type').sum()['Sale Amount'] # Take the number of sales for each city\n",
    "unique_Cities = home_sales_df.groupby('Property Type').sum().index # Take all cities\n",
    "\n",
    "# Plot the highest number of sales for each city\n",
    "plt.bar(unique_Cities, Sales_by_city)\n",
    "plt.xticks(unique_Cities, rotation = 90, size = 8)\n",
    "plt.ylabel('Home Sales in USD ($)')\n",
    "plt.xlabel('Property Type')\n",
    "plt.show()"
   ]
  },
  {
   "cell_type": "markdown",
   "id": "c0cc6156",
   "metadata": {},
   "source": [
    "## 3. Which Property Type had the highest number of sales?"
   ]
  },
  {
   "cell_type": "code",
   "execution_count": 22,
   "id": "624719b3",
   "metadata": {},
   "outputs": [
    {
     "data": {
      "image/png": "[encoded data removed]",
      "text/plain": [
       "<Figure size 640x480 with 1 Axes>"
      ]
     },
     "metadata": {},
     "output_type": "display_data"
    }
   ],
   "source": [
    "# Plot the highest number of sales for each city\n",
    "\n",
    "Sales_by_city = home_sales_df.groupby('Residential Type').sum()['Sale Amount'] # Take the number of sales for each city\n",
    "unique_Cities = home_sales_df.groupby('Residential Type').sum().index # Take all cities\n",
    "\n",
    "# Plot the highest number of sales for each city\n",
    "plt.bar(unique_Cities, Sales_by_city)\n",
    "plt.xticks(unique_Cities, rotation = 90, size = 8)\n",
    "plt.ylabel('Home Sales in USD ($)')\n",
    "plt.xlabel('Residential Type')\n",
    "plt.show()"
   ]
  },
  {
   "cell_type": "code",
   "execution_count": null,
   "id": "2dae977c",
   "metadata": {},
   "outputs": [],
   "source": []
  }
 ],
 "metadata": {
  "kernelspec": {
   "display_name": "Python 3 (ipykernel)",
   "language": "python",
   "name": "python3"
  },
  "language_info": {
   "codemirror_mode": {
    "name": "ipython",
    "version": 3
   },
   "file_extension": ".py",
   "mimetype": "text/x-python",
   "name": "python",
   "nbconvert_exporter": "python",
   "pygments_lexer": "ipython3",
   "version": "3.11.4"
  }
 },
 "nbformat": 4,
 "nbformat_minor": 5
}
