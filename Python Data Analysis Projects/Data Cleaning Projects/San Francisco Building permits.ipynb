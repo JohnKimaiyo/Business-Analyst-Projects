{
 "cells": [
  {
   "cell_type": "code",
   "execution_count": null,
   "id": "b815db75",
   "metadata": {},
   "outputs": [],
   "source": [
    "# let s imoprt the libraries\n",
    "# import pandas as pd\n",
    "import pandas as pd\n",
    "import matplotlib.pyplot as plt\n",
    "import numpy as np\n",
    "import numpy as np\n",
    "\n",
    "# load data\n",
    "\n",
    "building = pd.read_csv(r\"C:\\Users\\jki\\Downloads\\Building_Permits.csv\")\n"
   ]
  }
 ],
 "metadata": {
  "kernelspec": {
   "display_name": "Python 3 (ipykernel)",
   "language": "python",
   "name": "python3"
  },
  "language_info": {
   "codemirror_mode": {
    "name": "ipython",
    "version": 3
   },
   "file_extension": ".py",
   "mimetype": "text/x-python",
   "name": "python",
   "nbconvert_exporter": "python",
   "pygments_lexer": "ipython3",
   "version": "3.11.4"
  }
 },
 "nbformat": 4,
 "nbformat_minor": 5
}
