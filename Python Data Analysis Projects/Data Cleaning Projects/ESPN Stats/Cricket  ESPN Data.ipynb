{
 "cells": [
  {
   "cell_type": "code",
   "execution_count": null,
   "id": "a02bdf18",
   "metadata": {},
   "outputs": [],
   "source": [
    "import pandas as pd\n",
    "\n",
    "# URL of the data\n",
    "url = \"https://www.espncricinfo.com/records/highest-career-batting-average-282910\"\n",
    "\n",
    "# Use the read_csv() function to load the data from the URL\n",
    "ESPN_Cricket_df= pd.read_csv(url)\n",
    "\n",
    "# Now df contains the data from the CSV file\n",
    "# You can use df.head() to display the first few rows of the DataFrame\n",
    "print(ESPN_Cricket_df())\n"
   ]
  },
  {
   "cell_type": "code",
   "execution_count": null,
   "id": "6cd6bbbb",
   "metadata": {},
   "outputs": [],
   "source": []
  }
 ],
 "metadata": {
  "kernelspec": {
   "display_name": "Python 3 (ipykernel)",
   "language": "python",
   "name": "python3"
  },
  "language_info": {
   "codemirror_mode": {
    "name": "ipython",
    "version": 3
   },
   "file_extension": ".py",
   "mimetype": "text/x-python",
   "name": "python",
   "nbconvert_exporter": "python",
   "pygments_lexer": "ipython3",
   "version": "3.11.4"
  }
 },
 "nbformat": 4,
 "nbformat_minor": 5
}
