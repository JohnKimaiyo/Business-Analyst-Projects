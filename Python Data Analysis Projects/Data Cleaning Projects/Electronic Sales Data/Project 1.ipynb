{
 "cells": [
  {
   "cell_type": "code",
   "execution_count": null,
   "id": "32a9c62f",
   "metadata": {},
   "outputs": [],
   "source": [
    "# import librairies\n",
    "import pandas as pd\n",
    "import numpy as np\n",
    "\n",
    "electronic_sales = pd.read_excel(r\"C:\\Users\\jki\\Downloads\\electronic sales\\electronic sales.xlsx\")\n",
    "electronic_sales"
   ]
  },
  {
   "cell_type": "code",
   "execution_count": 7,
   "id": "00f34151",
   "metadata": {},
   "outputs": [
    {
     "name": "stdout",
     "output_type": "stream",
     "text": [
      "Order ID    323\n",
      "Product     323\n",
      "Quantity    323\n",
      "Price       323\n",
      "Date        323\n",
      "Address     323\n",
      "dtype: int64\n"
     ]
    }
   ],
   "source": [
    "# lets remove mmissing values\n",
    "missing_values = electronic_sales.isna().sum()\n",
    "print(missing_values)"
   ]
  },
  {
   "cell_type": "code",
   "execution_count": 8,
   "id": "d5aad4f3",
   "metadata": {},
   "outputs": [
    {
     "name": "stdout",
     "output_type": "stream",
     "text": [
      "Order ID    0\n",
      "Product     0\n",
      "Quantity    0\n",
      "Price       0\n",
      "Date        0\n",
      "Address     0\n",
      "dtype: int64\n"
     ]
    }
   ],
   "source": [
    "# lets drop the missing values\n",
    "electronic_sales.dropna(subset=['Order ID'],inplace=True)\n",
    "electronic_sales.dropna(subset=['Product'],inplace=True)\n",
    "electronic_sales.dropna(subset=['Quantity'],inplace=True)\n",
    "electronic_sales.dropna(subset=['Price'],inplace=True)\n",
    "electronic_sales.dropna(subset=['Address'],inplace=True)\n",
    "# lets remove mmissing values\n",
    "missing_values = electronic_sales.isna().sum()\n",
    "print(missing_values)\n"
   ]
  },
  {
   "cell_type": "code",
   "execution_count": 10,
   "id": "85c4f4c9",
   "metadata": {},
   "outputs": [
    {
     "name": "stdout",
     "output_type": "stream",
     "text": [
      "<class 'pandas.core.frame.DataFrame'>\n",
      "Int64Index: 65212 entries, 0 to 65534\n",
      "Data columns (total 6 columns):\n",
      " #   Column    Non-Null Count  Dtype         \n",
      "---  ------    --------------  -----         \n",
      " 0   Order ID  65212 non-null  float64       \n",
      " 1   Product   65212 non-null  object        \n",
      " 2   Quantity  65212 non-null  float64       \n",
      " 3   Price     65212 non-null  float64       \n",
      " 4   Date      65212 non-null  datetime64[ns]\n",
      " 5   Address   65212 non-null  object        \n",
      "dtypes: datetime64[ns](1), float64(3), object(2)\n",
      "memory usage: 3.5+ MB\n"
     ]
    }
   ],
   "source": [
    "# lets have a look at the data types\n",
    "\n",
    "electronic_sales.info()"
   ]
  },
  {
   "cell_type": "code",
   "execution_count": 25,
   "id": "dcc8b3f4",
   "metadata": {},
   "outputs": [
    {
     "name": "stdout",
     "output_type": "stream",
     "text": [
      "<class 'pandas.core.frame.DataFrame'>\n",
      "Int64Index: 65212 entries, 0 to 65534\n",
      "Data columns (total 9 columns):\n",
      " #   Column    Non-Null Count  Dtype         \n",
      "---  ------    --------------  -----         \n",
      " 0   Order ID  65212 non-null  float64       \n",
      " 1   Product   65212 non-null  object        \n",
      " 2   Quantity  65212 non-null  float64       \n",
      " 3   Price     65212 non-null  float64       \n",
      " 4   Date      65212 non-null  datetime64[ns]\n",
      " 5   Address   65212 non-null  object        \n",
      " 6   City      65212 non-null  object        \n",
      " 7   Sales     65212 non-null  float64       \n",
      " 8   Month     65212 non-null  int64         \n",
      "dtypes: datetime64[ns](1), float64(4), int64(1), object(3)\n",
      "memory usage: 5.0+ MB\n"
     ]
    }
   ],
   "source": [
    "# lets change the data types\n",
    "electronic_sales['Price'] = pd.to_numeric(electronic_sales['Price'])\n",
    "electronic_sales['Quantity'] = pd.to_numeric(electronic_sales['Quantity'])\n",
    "electronic_sales.info()"
   ]
  },
  {
   "cell_type": "code",
   "execution_count": 28,
   "id": "be125224",
   "metadata": {},
   "outputs": [
    {
     "data": {
      "text/html": [
       "<div>\n",
       "<style scoped>\n",
       "    .dataframe tbody tr th:only-of-type {\n",
       "        vertical-align: middle;\n",
       "    }\n",
       "\n",
       "    .dataframe tbody tr th {\n",
       "        vertical-align: top;\n",
       "    }\n",
       "\n",
       "    .dataframe thead th {\n",
       "        text-align: right;\n",
       "    }\n",
       "</style>\n",
       "<table border=\"1\" class=\"dataframe\">\n",
       "  <thead>\n",
       "    <tr style=\"text-align: right;\">\n",
       "      <th></th>\n",
       "      <th>Order ID</th>\n",
       "      <th>Product</th>\n",
       "      <th>Quantity</th>\n",
       "      <th>Price</th>\n",
       "      <th>Date</th>\n",
       "      <th>Address</th>\n",
       "      <th>City</th>\n",
       "      <th>Sales</th>\n",
       "      <th>Month</th>\n",
       "    </tr>\n",
       "  </thead>\n",
       "  <tbody>\n",
       "    <tr>\n",
       "      <th>0</th>\n",
       "      <td>176558.0</td>\n",
       "      <td>USB-C Charging Cable</td>\n",
       "      <td>2.0</td>\n",
       "      <td>12.0</td>\n",
       "      <td>2019-04-19</td>\n",
       "      <td>917 1st St, Dallas, TX 75001</td>\n",
       "      <td>Dallas  (TX)</td>\n",
       "      <td>24.0</td>\n",
       "      <td>4</td>\n",
       "    </tr>\n",
       "    <tr>\n",
       "      <th>1</th>\n",
       "      <td>176559.0</td>\n",
       "      <td>Bose SoundSport Headphones</td>\n",
       "      <td>1.0</td>\n",
       "      <td>100.0</td>\n",
       "      <td>2019-04-07</td>\n",
       "      <td>682 Chestnut St, Boston, MA 02215</td>\n",
       "      <td>Boston  (MA)</td>\n",
       "      <td>100.0</td>\n",
       "      <td>4</td>\n",
       "    </tr>\n",
       "    <tr>\n",
       "      <th>2</th>\n",
       "      <td>176560.0</td>\n",
       "      <td>Google Phone</td>\n",
       "      <td>1.0</td>\n",
       "      <td>600.0</td>\n",
       "      <td>2019-04-12</td>\n",
       "      <td>669 Spruce St, Los Angeles, CA 90001</td>\n",
       "      <td>Los Angeles  (CA)</td>\n",
       "      <td>600.0</td>\n",
       "      <td>4</td>\n",
       "    </tr>\n",
       "    <tr>\n",
       "      <th>3</th>\n",
       "      <td>176560.0</td>\n",
       "      <td>Wired Headphones</td>\n",
       "      <td>1.0</td>\n",
       "      <td>12.0</td>\n",
       "      <td>2019-04-12</td>\n",
       "      <td>669 Spruce St, Los Angeles, CA 90001</td>\n",
       "      <td>Los Angeles  (CA)</td>\n",
       "      <td>12.0</td>\n",
       "      <td>4</td>\n",
       "    </tr>\n",
       "    <tr>\n",
       "      <th>4</th>\n",
       "      <td>176561.0</td>\n",
       "      <td>Wired Headphones</td>\n",
       "      <td>1.0</td>\n",
       "      <td>12.0</td>\n",
       "      <td>2019-04-30</td>\n",
       "      <td>333 8th St, Los Angeles, CA 90001</td>\n",
       "      <td>Los Angeles  (CA)</td>\n",
       "      <td>12.0</td>\n",
       "      <td>4</td>\n",
       "    </tr>\n",
       "  </tbody>\n",
       "</table>\n",
       "</div>"
      ],
      "text/plain": [
       "   Order ID                     Product  Quantity  Price       Date  \\\n",
       "0  176558.0        USB-C Charging Cable       2.0   12.0 2019-04-19   \n",
       "1  176559.0  Bose SoundSport Headphones       1.0  100.0 2019-04-07   \n",
       "2  176560.0                Google Phone       1.0  600.0 2019-04-12   \n",
       "3  176560.0            Wired Headphones       1.0   12.0 2019-04-12   \n",
       "4  176561.0            Wired Headphones       1.0   12.0 2019-04-30   \n",
       "\n",
       "                                Address               City  Sales  Month  \n",
       "0          917 1st St, Dallas, TX 75001       Dallas  (TX)   24.0      4  \n",
       "1     682 Chestnut St, Boston, MA 02215       Boston  (MA)  100.0      4  \n",
       "2  669 Spruce St, Los Angeles, CA 90001  Los Angeles  (CA)  600.0      4  \n",
       "3  669 Spruce St, Los Angeles, CA 90001  Los Angeles  (CA)   12.0      4  \n",
       "4     333 8th St, Los Angeles, CA 90001  Los Angeles  (CA)   12.0      4  "
      ]
     },
     "execution_count": 28,
     "metadata": {},
     "output_type": "execute_result"
    }
   ],
   "source": [
    "# Augment data with additional columns\n",
    "\n",
    "# Add month column\n",
    "\n",
    "# Convert 'Order Date' to datetime format\n",
    "electronic_sales['Date'] = pd.to_datetime(electronic_sales['Date'])\n",
    "\n",
    "# Extract the month and create a new column 'Month'\n",
    "electronic_sales['Month'] = electronic_sales['Date'].dt.month\n",
    "\n",
    "electronic_sales.head()"
   ]
  },
  {
   "cell_type": "code",
   "execution_count": 1,
   "id": "785724e5",
   "metadata": {},
   "outputs": [
    {
     "ename": "NameError",
     "evalue": "name 'electronic_sales' is not defined",
     "output_type": "error",
     "traceback": [
      "\u001b[1;31m---------------------------------------------------------------------------\u001b[0m",
      "\u001b[1;31mNameError\u001b[0m                                 Traceback (most recent call last)",
      "Cell \u001b[1;32mIn[1], line 8\u001b[0m\n\u001b[0;32m      5\u001b[0m \u001b[38;5;28;01mdef\u001b[39;00m \u001b[38;5;21mget_state\u001b[39m(address):\n\u001b[0;32m      6\u001b[0m     \u001b[38;5;28;01mreturn\u001b[39;00m address\u001b[38;5;241m.\u001b[39msplit(\u001b[38;5;124m\"\u001b[39m\u001b[38;5;124m,\u001b[39m\u001b[38;5;124m\"\u001b[39m)[\u001b[38;5;241m2\u001b[39m]\u001b[38;5;241m.\u001b[39msplit(\u001b[38;5;124m\"\u001b[39m\u001b[38;5;124m \u001b[39m\u001b[38;5;124m\"\u001b[39m)[\u001b[38;5;241m1\u001b[39m]\n\u001b[1;32m----> 8\u001b[0m electronic_sales[\u001b[38;5;124m'\u001b[39m\u001b[38;5;124mCity\u001b[39m\u001b[38;5;124m'\u001b[39m] \u001b[38;5;241m=\u001b[39m electronic_sales[\u001b[38;5;124m'\u001b[39m\u001b[38;5;124mAddress\u001b[39m\u001b[38;5;124m'\u001b[39m]\u001b[38;5;241m.\u001b[39mapply(\u001b[38;5;28;01mlambda\u001b[39;00m x: \u001b[38;5;124mf\u001b[39m\u001b[38;5;124m\"\u001b[39m\u001b[38;5;132;01m{\u001b[39;00mget_city(x)\u001b[38;5;132;01m}\u001b[39;00m\u001b[38;5;124m  (\u001b[39m\u001b[38;5;132;01m{\u001b[39;00mget_state(x)\u001b[38;5;132;01m}\u001b[39;00m\u001b[38;5;124m)\u001b[39m\u001b[38;5;124m\"\u001b[39m)\n\u001b[0;32m      9\u001b[0m electronic_sales\u001b[38;5;241m.\u001b[39mhead()\n",
      "\u001b[1;31mNameError\u001b[0m: name 'electronic_sales' is not defined"
     ]
    }
   ],
   "source": [
    "# Add clomun city\n",
    "def get_city(address):\n",
    "    return address.split(\",\")[1].strip(\" \")\n",
    "\n",
    "def get_state(address):\n",
    "    return address.split(\",\")[2].split(\" \")[1]\n",
    "\n",
    "electronic_sales['City'] = electronic_sales['Address'].apply(lambda x: f\"{get_city(x)}  ({get_state(x)})\")\n",
    "electronic_sales.head()"
   ]
  },
  {
   "cell_type": "code",
   "execution_count": null,
   "id": "64627c03",
   "metadata": {},
   "outputs": [],
   "source": [
    "#  Data Exploration!\n",
    "\n",
    "\n",
    "# Question 1: What was the best month for sales? How much was earned that month?\n",
    "\n",
    "electronic_sales['Sales'] = electronic_sales['Quantity'].astype('int') *electronic_sales['Price'].astype('float')\n",
    "\n",
    "\n",
    "electronic_sales.groupby(['Month']).sum()"
   ]
  },
  {
   "cell_type": "code",
   "execution_count": null,
   "id": "f5ab04f7",
   "metadata": {},
   "outputs": [],
   "source": [
    "import pandas as pd\n",
    "from matplotlib import pyplot as plt\n",
    "\n",
    "months = range(1,12)\n",
    "print(months)\n",
    "\n",
    "plt.bar(months,electronic_sales.groupby(['Month']).sum()['Sales'])\n",
    "plt.xticks(months)\n",
    "plt.ylabel('Sales in USD ($)')\n",
    "plt.xlabel('Month number')\n",
    "plt.show()"
   ]
  },
  {
   "cell_type": "code",
   "execution_count": null,
   "id": "f4312545",
   "metadata": {},
   "outputs": [],
   "source": []
  },
  {
   "cell_type": "code",
   "execution_count": null,
   "id": "32ba5890",
   "metadata": {},
   "outputs": [],
   "source": []
  }
 ],
 "metadata": {
  "kernelspec": {
   "display_name": "Python 3 (ipykernel)",
   "language": "python",
   "name": "python3"
  },
  "language_info": {
   "codemirror_mode": {
    "name": "ipython",
    "version": 3
   },
   "file_extension": ".py",
   "mimetype": "text/x-python",
   "name": "python",
   "nbconvert_exporter": "python",
   "pygments_lexer": "ipython3",
   "version": "3.11.4"
  }
 },
 "nbformat": 4,
 "nbformat_minor": 5
}
