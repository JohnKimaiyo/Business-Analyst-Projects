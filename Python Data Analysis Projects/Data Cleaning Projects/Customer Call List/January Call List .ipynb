{
 "cells": [
  {
   "cell_type": "code",
   "execution_count": null,
   "id": "9874e379",
   "metadata": {},
   "outputs": [],
   "source": [
    "# lets import the libraries\n",
    "import pandas as pd\n",
    "import numpy as np\n",
    "\n",
    "call_list = pd.read_csv(r )\n"
   ]
  }
 ],
 "metadata": {
  "kernelspec": {
   "display_name": "Python 3 (ipykernel)",
   "language": "python",
   "name": "python3"
  },
  "language_info": {
   "codemirror_mode": {
    "name": "ipython",
    "version": 3
   },
   "file_extension": ".py",
   "mimetype": "text/x-python",
   "name": "python",
   "nbconvert_exporter": "python",
   "pygments_lexer": "ipython3",
   "version": "3.11.4"
  }
 },
 "nbformat": 4,
 "nbformat_minor": 5
}
