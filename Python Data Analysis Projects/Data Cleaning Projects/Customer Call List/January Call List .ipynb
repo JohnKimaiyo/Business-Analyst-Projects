{
 "cells": [
  {
   "cell_type": "code",
   "execution_count": 2,
   "id": "1c27b679",
   "metadata": {},
   "outputs": [
    {
     "data": {
      "text/html": [
       "<div>\n",
       "<style scoped>\n",
       "    .dataframe tbody tr th:only-of-type {\n",
       "        vertical-align: middle;\n",
       "    }\n",
       "\n",
       "    .dataframe tbody tr th {\n",
       "        vertical-align: top;\n",
       "    }\n",
       "\n",
       "    .dataframe thead th {\n",
       "        text-align: right;\n",
       "    }\n",
       "</style>\n",
       "<table border=\"1\" class=\"dataframe\">\n",
       "  <thead>\n",
       "    <tr style=\"text-align: right;\">\n",
       "      <th></th>\n",
       "      <th>CustomerID</th>\n",
       "      <th>First_Name</th>\n",
       "      <th>Last_Name</th>\n",
       "      <th>Phone_Number</th>\n",
       "      <th>Address</th>\n",
       "      <th>Paying Customer</th>\n",
       "      <th>Do_Not_Contact</th>\n",
       "      <th>Not_Useful_Column</th>\n",
       "    </tr>\n",
       "  </thead>\n",
       "  <tbody>\n",
       "    <tr>\n",
       "      <th>0</th>\n",
       "      <td>1001</td>\n",
       "      <td>Frodo</td>\n",
       "      <td>Baggins</td>\n",
       "      <td>123-545-5421</td>\n",
       "      <td>123 Shire Lane, Shire</td>\n",
       "      <td>Yes</td>\n",
       "      <td>No</td>\n",
       "      <td>True</td>\n",
       "    </tr>\n",
       "    <tr>\n",
       "      <th>1</th>\n",
       "      <td>1002</td>\n",
       "      <td>Abed</td>\n",
       "      <td>Nadir</td>\n",
       "      <td>123/643/9775</td>\n",
       "      <td>93 West Main Street</td>\n",
       "      <td>No</td>\n",
       "      <td>Yes</td>\n",
       "      <td>False</td>\n",
       "    </tr>\n",
       "    <tr>\n",
       "      <th>2</th>\n",
       "      <td>1003</td>\n",
       "      <td>Walter</td>\n",
       "      <td>/White</td>\n",
       "      <td>7066950392</td>\n",
       "      <td>298 Drugs Driveway</td>\n",
       "      <td>N</td>\n",
       "      <td>NaN</td>\n",
       "      <td>True</td>\n",
       "    </tr>\n",
       "    <tr>\n",
       "      <th>3</th>\n",
       "      <td>1004</td>\n",
       "      <td>Dwight</td>\n",
       "      <td>Schrute</td>\n",
       "      <td>123-543-2345</td>\n",
       "      <td>980 Paper Avenue, Pennsylvania, 18503</td>\n",
       "      <td>Yes</td>\n",
       "      <td>Y</td>\n",
       "      <td>True</td>\n",
       "    </tr>\n",
       "    <tr>\n",
       "      <th>4</th>\n",
       "      <td>1005</td>\n",
       "      <td>Jon</td>\n",
       "      <td>Snow</td>\n",
       "      <td>876|678|3469</td>\n",
       "      <td>123 Dragons Road</td>\n",
       "      <td>Y</td>\n",
       "      <td>No</td>\n",
       "      <td>True</td>\n",
       "    </tr>\n",
       "  </tbody>\n",
       "</table>\n",
       "</div>"
      ],
      "text/plain": [
       "   CustomerID First_Name Last_Name  Phone_Number  \\\n",
       "0        1001      Frodo   Baggins  123-545-5421   \n",
       "1        1002       Abed     Nadir  123/643/9775   \n",
       "2        1003     Walter    /White    7066950392   \n",
       "3        1004     Dwight   Schrute  123-543-2345   \n",
       "4        1005        Jon      Snow  876|678|3469   \n",
       "\n",
       "                                 Address Paying Customer Do_Not_Contact  \\\n",
       "0                  123 Shire Lane, Shire             Yes             No   \n",
       "1                    93 West Main Street              No            Yes   \n",
       "2                     298 Drugs Driveway               N            NaN   \n",
       "3  980 Paper Avenue, Pennsylvania, 18503             Yes              Y   \n",
       "4                       123 Dragons Road               Y             No   \n",
       "\n",
       "   Not_Useful_Column  \n",
       "0               True  \n",
       "1              False  \n",
       "2               True  \n",
       "3               True  \n",
       "4               True  "
      ]
     },
     "execution_count": 2,
     "metadata": {},
     "output_type": "execute_result"
    }
   ],
   "source": [
    "# lets import the libraries\n",
    "import pandas as pd\n",
    "import numpy as np\n",
    "\n",
    "call_list = pd.read_excel(r\"C:\\Users\\jki\\Downloads\\Customer Call List.xlsx\" )\n",
    "call_list.head()\n"
   ]
  },
  {
   "cell_type": "code",
   "execution_count": 3,
   "id": "d85750b7",
   "metadata": {},
   "outputs": [
    {
     "data": {
      "text/html": [
       "<div>\n",
       "<style scoped>\n",
       "    .dataframe tbody tr th:only-of-type {\n",
       "        vertical-align: middle;\n",
       "    }\n",
       "\n",
       "    .dataframe tbody tr th {\n",
       "        vertical-align: top;\n",
       "    }\n",
       "\n",
       "    .dataframe thead th {\n",
       "        text-align: right;\n",
       "    }\n",
       "</style>\n",
       "<table border=\"1\" class=\"dataframe\">\n",
       "  <thead>\n",
       "    <tr style=\"text-align: right;\">\n",
       "      <th></th>\n",
       "      <th>CustomerID</th>\n",
       "    </tr>\n",
       "  </thead>\n",
       "  <tbody>\n",
       "    <tr>\n",
       "      <th>count</th>\n",
       "      <td>21.000000</td>\n",
       "    </tr>\n",
       "    <tr>\n",
       "      <th>mean</th>\n",
       "      <td>1010.952381</td>\n",
       "    </tr>\n",
       "    <tr>\n",
       "      <th>std</th>\n",
       "      <td>6.127611</td>\n",
       "    </tr>\n",
       "    <tr>\n",
       "      <th>min</th>\n",
       "      <td>1001.000000</td>\n",
       "    </tr>\n",
       "    <tr>\n",
       "      <th>25%</th>\n",
       "      <td>1006.000000</td>\n",
       "    </tr>\n",
       "    <tr>\n",
       "      <th>50%</th>\n",
       "      <td>1011.000000</td>\n",
       "    </tr>\n",
       "    <tr>\n",
       "      <th>75%</th>\n",
       "      <td>1016.000000</td>\n",
       "    </tr>\n",
       "    <tr>\n",
       "      <th>max</th>\n",
       "      <td>1020.000000</td>\n",
       "    </tr>\n",
       "  </tbody>\n",
       "</table>\n",
       "</div>"
      ],
      "text/plain": [
       "        CustomerID\n",
       "count    21.000000\n",
       "mean   1010.952381\n",
       "std       6.127611\n",
       "min    1001.000000\n",
       "25%    1006.000000\n",
       "50%    1011.000000\n",
       "75%    1016.000000\n",
       "max    1020.000000"
      ]
     },
     "execution_count": 3,
     "metadata": {},
     "output_type": "execute_result"
    }
   ],
   "source": [
    "# let have a look at the statistsical summry\n",
    "call_list.describe()"
   ]
  },
  {
   "cell_type": "code",
   "execution_count": 4,
   "id": "10a4fefc",
   "metadata": {},
   "outputs": [
    {
     "name": "stdout",
     "output_type": "stream",
     "text": [
      "<class 'pandas.core.frame.DataFrame'>\n",
      "RangeIndex: 21 entries, 0 to 20\n",
      "Data columns (total 8 columns):\n",
      " #   Column             Non-Null Count  Dtype \n",
      "---  ------             --------------  ----- \n",
      " 0   CustomerID         21 non-null     int64 \n",
      " 1   First_Name         21 non-null     object\n",
      " 2   Last_Name          20 non-null     object\n",
      " 3   Phone_Number       19 non-null     object\n",
      " 4   Address            21 non-null     object\n",
      " 5   Paying Customer    21 non-null     object\n",
      " 6   Do_Not_Contact     17 non-null     object\n",
      " 7   Not_Useful_Column  21 non-null     bool  \n",
      "dtypes: bool(1), int64(1), object(6)\n",
      "memory usage: 1.3+ KB\n"
     ]
    }
   ],
   "source": [
    "# let check at the data types\n",
    "call_list.info()"
   ]
  },
  {
   "cell_type": "code",
   "execution_count": 5,
   "id": "9f1acb43",
   "metadata": {},
   "outputs": [
    {
     "name": "stdout",
     "output_type": "stream",
     "text": [
      "CustomerID           0\n",
      "First_Name           0\n",
      "Last_Name            1\n",
      "Phone_Number         2\n",
      "Address              0\n",
      "Paying Customer      0\n",
      "Do_Not_Contact       4\n",
      "Not_Useful_Column    0\n",
      "dtype: int64\n"
     ]
    }
   ],
   "source": [
    "# list check at missng values\n",
    "missing_values =  call_list.isna().sum()\n",
    "print(missing_values)"
   ]
  },
  {
   "cell_type": "code",
   "execution_count": 10,
   "id": "251eee41",
   "metadata": {},
   "outputs": [
    {
     "name": "stdout",
     "output_type": "stream",
     "text": [
      "CustomerID           0\n",
      "First_Name           0\n",
      "Last_Name            0\n",
      "Phone_Number         0\n",
      "Address              0\n",
      "Paying Customer      0\n",
      "Do_Not_Contact       0\n",
      "Not_Useful_Column    0\n",
      "dtype: int64\n"
     ]
    }
   ],
   "source": [
    "# lest drop missing values and confir\n",
    "call_list.dropna(subset=['Last_Name'],inplace=True)\n",
    "call_list.dropna(subset=['Phone_Number'],inplace=True)\n",
    "call_list.dropna(subset=['Do_Not_Contact'],inplace=True)\n",
    "# list check at missng values\n",
    "missing_values =  call_list.isna().sum()\n",
    "print(missing_values)"
   ]
  },
  {
   "cell_type": "code",
   "execution_count": null,
   "id": "bc618ef0",
   "metadata": {},
   "outputs": [],
   "source": []
  }
 ],
 "metadata": {
  "kernelspec": {
   "display_name": "Python 3 (ipykernel)",
   "language": "python",
   "name": "python3"
  },
  "language_info": {
   "codemirror_mode": {
    "name": "ipython",
    "version": 3
   },
   "file_extension": ".py",
   "mimetype": "text/x-python",
   "name": "python",
   "nbconvert_exporter": "python",
   "pygments_lexer": "ipython3",
   "version": "3.11.4"
  }
 },
 "nbformat": 4,
 "nbformat_minor": 5
}
