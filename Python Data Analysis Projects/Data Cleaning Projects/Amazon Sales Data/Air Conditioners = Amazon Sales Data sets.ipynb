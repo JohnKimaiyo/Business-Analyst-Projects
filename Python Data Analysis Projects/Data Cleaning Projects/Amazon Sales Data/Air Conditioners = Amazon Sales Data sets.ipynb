{
 "cells": [
  {
   "cell_type": "code",
   "execution_count": 1,
   "id": "26558bbb",
   "metadata": {},
   "outputs": [
    {
     "data": {
      "text/html": [
       "<div>\n",
       "<style scoped>\n",
       "    .dataframe tbody tr th:only-of-type {\n",
       "        vertical-align: middle;\n",
       "    }\n",
       "\n",
       "    .dataframe tbody tr th {\n",
       "        vertical-align: top;\n",
       "    }\n",
       "\n",
       "    .dataframe thead th {\n",
       "        text-align: right;\n",
       "    }\n",
       "</style>\n",
       "<table border=\"1\" class=\"dataframe\">\n",
       "  <thead>\n",
       "    <tr style=\"text-align: right;\">\n",
       "      <th></th>\n",
       "      <th>name</th>\n",
       "      <th>main_category</th>\n",
       "      <th>sub_category</th>\n",
       "      <th>image</th>\n",
       "      <th>link</th>\n",
       "      <th>ratings</th>\n",
       "      <th>no_of_ratings</th>\n",
       "      <th>discount_price</th>\n",
       "      <th>actual_price</th>\n",
       "    </tr>\n",
       "  </thead>\n",
       "  <tbody>\n",
       "    <tr>\n",
       "      <th>0</th>\n",
       "      <td>Lloyd 1.5 Ton 3 Star Inverter Split Ac (5 In 1...</td>\n",
       "      <td>appliances</td>\n",
       "      <td>Air Conditioners</td>\n",
       "      <td>https://m.media-amazon.com/images/I/31UISB90sY...</td>\n",
       "      <td>https://www.amazon.in/Lloyd-Inverter-Convertib...</td>\n",
       "      <td>4.2</td>\n",
       "      <td>2,255.00</td>\n",
       "      <td>₹32,999</td>\n",
       "      <td>₹58,990</td>\n",
       "    </tr>\n",
       "    <tr>\n",
       "      <th>1</th>\n",
       "      <td>LG 1.5 Ton 5 Star AI DUAL Inverter Split AC (C...</td>\n",
       "      <td>appliances</td>\n",
       "      <td>Air Conditioners</td>\n",
       "      <td>https://m.media-amazon.com/images/I/51JFb7FctD...</td>\n",
       "      <td>https://www.amazon.in/LG-Convertible-Anti-Viru...</td>\n",
       "      <td>4.2</td>\n",
       "      <td>2,948.00</td>\n",
       "      <td>₹46,490</td>\n",
       "      <td>₹75,990</td>\n",
       "    </tr>\n",
       "    <tr>\n",
       "      <th>2</th>\n",
       "      <td>LG 1 Ton 4 Star Ai Dual Inverter Split Ac (Cop...</td>\n",
       "      <td>appliances</td>\n",
       "      <td>Air Conditioners</td>\n",
       "      <td>https://m.media-amazon.com/images/I/51JFb7FctD...</td>\n",
       "      <td>https://www.amazon.in/LG-Inverter-Convertible-...</td>\n",
       "      <td>4.2</td>\n",
       "      <td>1,206.00</td>\n",
       "      <td>₹34,490</td>\n",
       "      <td>₹61,990</td>\n",
       "    </tr>\n",
       "    <tr>\n",
       "      <th>3</th>\n",
       "      <td>LG 1.5 Ton 3 Star AI DUAL Inverter Split AC (C...</td>\n",
       "      <td>appliances</td>\n",
       "      <td>Air Conditioners</td>\n",
       "      <td>https://m.media-amazon.com/images/I/51JFb7FctD...</td>\n",
       "      <td>https://www.amazon.in/LG-Convertible-Anti-Viru...</td>\n",
       "      <td>4</td>\n",
       "      <td>69.00</td>\n",
       "      <td>₹37,990</td>\n",
       "      <td>₹68,990</td>\n",
       "    </tr>\n",
       "    <tr>\n",
       "      <th>4</th>\n",
       "      <td>Carrier 1.5 Ton 3 Star Inverter Split AC (Copp...</td>\n",
       "      <td>appliances</td>\n",
       "      <td>Air Conditioners</td>\n",
       "      <td>https://m.media-amazon.com/images/I/41lrtqXPiW...</td>\n",
       "      <td>https://www.amazon.in/Carrier-Inverter-Split-C...</td>\n",
       "      <td>4.1</td>\n",
       "      <td>630.00</td>\n",
       "      <td>₹34,490</td>\n",
       "      <td>₹67,790</td>\n",
       "    </tr>\n",
       "  </tbody>\n",
       "</table>\n",
       "</div>"
      ],
      "text/plain": [
       "                                                name main_category  \\\n",
       "0  Lloyd 1.5 Ton 3 Star Inverter Split Ac (5 In 1...    appliances   \n",
       "1  LG 1.5 Ton 5 Star AI DUAL Inverter Split AC (C...    appliances   \n",
       "2  LG 1 Ton 4 Star Ai Dual Inverter Split Ac (Cop...    appliances   \n",
       "3  LG 1.5 Ton 3 Star AI DUAL Inverter Split AC (C...    appliances   \n",
       "4  Carrier 1.5 Ton 3 Star Inverter Split AC (Copp...    appliances   \n",
       "\n",
       "       sub_category                                              image  \\\n",
       "0  Air Conditioners  https://m.media-amazon.com/images/I/31UISB90sY...   \n",
       "1  Air Conditioners  https://m.media-amazon.com/images/I/51JFb7FctD...   \n",
       "2  Air Conditioners  https://m.media-amazon.com/images/I/51JFb7FctD...   \n",
       "3  Air Conditioners  https://m.media-amazon.com/images/I/51JFb7FctD...   \n",
       "4  Air Conditioners  https://m.media-amazon.com/images/I/41lrtqXPiW...   \n",
       "\n",
       "                                                link ratings  no_of_ratings   \\\n",
       "0  https://www.amazon.in/Lloyd-Inverter-Convertib...     4.2       2,255.00    \n",
       "1  https://www.amazon.in/LG-Convertible-Anti-Viru...     4.2       2,948.00    \n",
       "2  https://www.amazon.in/LG-Inverter-Convertible-...     4.2       1,206.00    \n",
       "3  https://www.amazon.in/LG-Convertible-Anti-Viru...       4          69.00    \n",
       "4  https://www.amazon.in/Carrier-Inverter-Split-C...     4.1         630.00    \n",
       "\n",
       "  discount_price actual_price  \n",
       "0        ₹32,999      ₹58,990  \n",
       "1        ₹46,490      ₹75,990  \n",
       "2        ₹34,490      ₹61,990  \n",
       "3        ₹37,990      ₹68,990  \n",
       "4        ₹34,490      ₹67,790  "
      ]
     },
     "execution_count": 1,
     "metadata": {},
     "output_type": "execute_result"
    }
   ],
   "source": [
    "# import library\n",
    "import numpy as np # linear algebra\n",
    "import pandas as pd # data processing, CSV file I/O (e.g. pd.read_csv)\n",
    "import datetime as dt\n",
    "\n",
    "#For Data  Visualization\n",
    "import matplotlib.pyplot as plt\n",
    "import seaborn as sns\n",
    "\n",
    "# lets load the data\n",
    "\n",
    "air = pd.read_csv(r\"C:\\Users\\jki\\Downloads\\Aamzon Datasets\\Air Conditioners.csv\")\n",
    "air.head(5)\n"
   ]
  },
  {
   "cell_type": "code",
   "execution_count": 2,
   "id": "54ff0414",
   "metadata": {},
   "outputs": [
    {
     "data": {
      "text/html": [
       "<div>\n",
       "<style scoped>\n",
       "    .dataframe tbody tr th:only-of-type {\n",
       "        vertical-align: middle;\n",
       "    }\n",
       "\n",
       "    .dataframe tbody tr th {\n",
       "        vertical-align: top;\n",
       "    }\n",
       "\n",
       "    .dataframe thead th {\n",
       "        text-align: right;\n",
       "    }\n",
       "</style>\n",
       "<table border=\"1\" class=\"dataframe\">\n",
       "  <thead>\n",
       "    <tr style=\"text-align: right;\">\n",
       "      <th></th>\n",
       "      <th>name</th>\n",
       "      <th>main_category</th>\n",
       "      <th>sub_category</th>\n",
       "      <th>image</th>\n",
       "      <th>link</th>\n",
       "      <th>ratings</th>\n",
       "      <th>no_of_ratings</th>\n",
       "      <th>discount_price</th>\n",
       "      <th>actual_price</th>\n",
       "    </tr>\n",
       "  </thead>\n",
       "  <tbody>\n",
       "    <tr>\n",
       "      <th>count</th>\n",
       "      <td>720</td>\n",
       "      <td>720</td>\n",
       "      <td>720</td>\n",
       "      <td>720</td>\n",
       "      <td>720</td>\n",
       "      <td>433</td>\n",
       "      <td>433</td>\n",
       "      <td>457</td>\n",
       "      <td>500</td>\n",
       "    </tr>\n",
       "    <tr>\n",
       "      <th>unique</th>\n",
       "      <td>708</td>\n",
       "      <td>1</td>\n",
       "      <td>1</td>\n",
       "      <td>635</td>\n",
       "      <td>720</td>\n",
       "      <td>31</td>\n",
       "      <td>187</td>\n",
       "      <td>295</td>\n",
       "      <td>296</td>\n",
       "    </tr>\n",
       "    <tr>\n",
       "      <th>top</th>\n",
       "      <td>Samsung 1.5 Ton 3 Star Wind-Free Technology In...</td>\n",
       "      <td>appliances</td>\n",
       "      <td>Air Conditioners</td>\n",
       "      <td>https://m.media-amazon.com/images/I/51JFb7FctD...</td>\n",
       "      <td>https://www.amazon.in/Lloyd-Inverter-Convertib...</td>\n",
       "      <td>4</td>\n",
       "      <td>1.00</td>\n",
       "      <td>₹39,990</td>\n",
       "      <td>₹59,990</td>\n",
       "    </tr>\n",
       "    <tr>\n",
       "      <th>freq</th>\n",
       "      <td>3</td>\n",
       "      <td>720</td>\n",
       "      <td>720</td>\n",
       "      <td>6</td>\n",
       "      <td>1</td>\n",
       "      <td>56</td>\n",
       "      <td>45</td>\n",
       "      <td>11</td>\n",
       "      <td>15</td>\n",
       "    </tr>\n",
       "  </tbody>\n",
       "</table>\n",
       "</div>"
      ],
      "text/plain": [
       "                                                     name main_category  \\\n",
       "count                                                 720           720   \n",
       "unique                                                708             1   \n",
       "top     Samsung 1.5 Ton 3 Star Wind-Free Technology In...    appliances   \n",
       "freq                                                    3           720   \n",
       "\n",
       "            sub_category                                              image  \\\n",
       "count                720                                                720   \n",
       "unique                 1                                                635   \n",
       "top     Air Conditioners  https://m.media-amazon.com/images/I/51JFb7FctD...   \n",
       "freq                 720                                                  6   \n",
       "\n",
       "                                                     link ratings  \\\n",
       "count                                                 720     433   \n",
       "unique                                                720      31   \n",
       "top     https://www.amazon.in/Lloyd-Inverter-Convertib...       4   \n",
       "freq                                                    1      56   \n",
       "\n",
       "        no_of_ratings  discount_price actual_price  \n",
       "count              433            457          500  \n",
       "unique             187            295          296  \n",
       "top              1.00         ₹39,990      ₹59,990  \n",
       "freq                45             11           15  "
      ]
     },
     "execution_count": 2,
     "metadata": {},
     "output_type": "execute_result"
    }
   ],
   "source": [
    "# lets check the statsistsical summary \n",
    "air.describe()"
   ]
  },
  {
   "cell_type": "code",
   "execution_count": 3,
   "id": "1955f374",
   "metadata": {},
   "outputs": [
    {
     "name": "stdout",
     "output_type": "stream",
     "text": [
      "<class 'pandas.core.frame.DataFrame'>\n",
      "RangeIndex: 720 entries, 0 to 719\n",
      "Data columns (total 9 columns):\n",
      " #   Column           Non-Null Count  Dtype \n",
      "---  ------           --------------  ----- \n",
      " 0   name             720 non-null    object\n",
      " 1   main_category    720 non-null    object\n",
      " 2   sub_category     720 non-null    object\n",
      " 3   image            720 non-null    object\n",
      " 4   link             720 non-null    object\n",
      " 5   ratings          433 non-null    object\n",
      " 6    no_of_ratings   433 non-null    object\n",
      " 7   discount_price   457 non-null    object\n",
      " 8   actual_price     500 non-null    object\n",
      "dtypes: object(9)\n",
      "memory usage: 50.8+ KB\n"
     ]
    }
   ],
   "source": [
    "# lets check at the data types\n",
    "air.info()"
   ]
  },
  {
   "cell_type": "code",
   "execution_count": 5,
   "id": "e3bb497f",
   "metadata": {},
   "outputs": [
    {
     "name": "stdout",
     "output_type": "stream",
     "text": [
      "name                 0\n",
      "main_category        0\n",
      "sub_category         0\n",
      "image                0\n",
      "link                 0\n",
      "ratings            287\n",
      " no_of_ratings     287\n",
      "discount_price     263\n",
      "actual_price       220\n",
      "dtype: int64\n"
     ]
    }
   ],
   "source": [
    "# lets have a lokk if we have missing values\n",
    "missing_values = air.isna().sum()\n",
    "print(missing_values)\n"
   ]
  },
  {
   "cell_type": "code",
   "execution_count": 8,
   "id": "647f3e99",
   "metadata": {},
   "outputs": [],
   "source": [
    "# lets drop the missing values and confirm\n",
    "air.dropna(subset=['ratings'],inplace=True)\n",
    "\n",
    "\n",
    "\n",
    "air.dropna(subset=['discount_price'],inplace=True)\n",
    "air.dropna(subset=['actual_price'],inplace=True)"
   ]
  },
  {
   "cell_type": "code",
   "execution_count": 9,
   "id": "7d182d91",
   "metadata": {},
   "outputs": [
    {
     "name": "stdout",
     "output_type": "stream",
     "text": [
      "name               0\n",
      "main_category      0\n",
      "sub_category       0\n",
      "image              0\n",
      "link               0\n",
      "ratings            0\n",
      " no_of_ratings     0\n",
      "discount_price     0\n",
      "actual_price       0\n",
      "dtype: int64\n"
     ]
    }
   ],
   "source": [
    "# lets have a lokk if we have missing values\n",
    "missing_values = air.isna().sum()\n",
    "print(missing_values)"
   ]
  },
  {
   "cell_type": "code",
   "execution_count": 10,
   "id": "c1708850",
   "metadata": {},
   "outputs": [
    {
     "name": "stdout",
     "output_type": "stream",
     "text": [
      "<class 'pandas.core.frame.DataFrame'>\n",
      "Int64Index: 331 entries, 0 to 700\n",
      "Data columns (total 9 columns):\n",
      " #   Column           Non-Null Count  Dtype \n",
      "---  ------           --------------  ----- \n",
      " 0   name             331 non-null    object\n",
      " 1   main_category    331 non-null    object\n",
      " 2   sub_category     331 non-null    object\n",
      " 3   image            331 non-null    object\n",
      " 4   link             331 non-null    object\n",
      " 5   ratings          331 non-null    object\n",
      " 6    no_of_ratings   331 non-null    object\n",
      " 7   discount_price   331 non-null    object\n",
      " 8   actual_price     331 non-null    object\n",
      "dtypes: object(9)\n",
      "memory usage: 25.9+ KB\n"
     ]
    }
   ],
   "source": [
    "# lets check at the data types\n",
    "air.info()"
   ]
  },
  {
   "cell_type": "code",
   "execution_count": 11,
   "id": "e56e8ae4",
   "metadata": {},
   "outputs": [
    {
     "ename": "TypeError",
     "evalue": "'method' object is not subscriptable",
     "output_type": "error",
     "traceback": [
      "\u001b[1;31m---------------------------------------------------------------------------\u001b[0m",
      "\u001b[1;31mTypeError\u001b[0m                                 Traceback (most recent call last)",
      "Cell \u001b[1;32mIn[11], line 2\u001b[0m\n\u001b[0;32m      1\u001b[0m \u001b[38;5;66;03m# lest convert the dat types\u001b[39;00m\n\u001b[1;32m----> 2\u001b[0m air[\u001b[38;5;124m'\u001b[39m\u001b[38;5;124mratings\u001b[39m\u001b[38;5;124m'\u001b[39m] \u001b[38;5;241m=\u001b[39m air[\u001b[38;5;124m'\u001b[39m\u001b[38;5;124mratings\u001b[39m\u001b[38;5;124m'\u001b[39m]\u001b[38;5;241m.\u001b[39mastype[\u001b[38;5;28mint\u001b[39m] \n\u001b[0;32m      3\u001b[0m air[\u001b[38;5;124m'\u001b[39m\u001b[38;5;124mno_of_ratings\u001b[39m\u001b[38;5;124m'\u001b[39m] \u001b[38;5;241m=\u001b[39m air[\u001b[38;5;124m'\u001b[39m\u001b[38;5;124mno_of_ratings\u001b[39m\u001b[38;5;124m'\u001b[39m]\u001b[38;5;241m.\u001b[39mastype[\u001b[38;5;28mint\u001b[39m]\n\u001b[0;32m      5\u001b[0m \u001b[38;5;66;03m# lets check at the data types\u001b[39;00m\n",
      "\u001b[1;31mTypeError\u001b[0m: 'method' object is not subscriptable"
     ]
    }
   ],
   "source": [
    "# lest convert the dat types\n",
    "air['ratings'] = air['ratings'].astype[int] \n",
    "air['no_of_ratings'] = air['no_of_ratings'].astype[int]\n",
    "\n",
    "# lets check at the data types\n",
    "air.info()\n",
    "\n"
   ]
  },
  {
   "cell_type": "code",
   "execution_count": null,
   "id": "474fc922",
   "metadata": {},
   "outputs": [],
   "source": []
  }
 ],
 "metadata": {
  "kernelspec": {
   "display_name": "Python 3 (ipykernel)",
   "language": "python",
   "name": "python3"
  },
  "language_info": {
   "codemirror_mode": {
    "name": "ipython",
    "version": 3
   },
   "file_extension": ".py",
   "mimetype": "text/x-python",
   "name": "python",
   "nbconvert_exporter": "python",
   "pygments_lexer": "ipython3",
   "version": "3.11.4"
  }
 },
 "nbformat": 4,
 "nbformat_minor": 5
}
