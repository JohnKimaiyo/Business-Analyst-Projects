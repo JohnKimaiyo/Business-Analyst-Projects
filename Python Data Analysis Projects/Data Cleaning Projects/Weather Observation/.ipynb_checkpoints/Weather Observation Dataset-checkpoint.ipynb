{
 "cells": [
  {
   "cell_type": "code",
   "execution_count": 3,
   "id": "c28d22c0",
   "metadata": {},
   "outputs": [
    {
     "name": "stderr",
     "output_type": "stream",
     "text": [
      "C:\\Users\\jki\\AppData\\Local\\anaconda3\\Lib\\site-packages\\dateutil\\parser\\_parser.py:1207: UnknownTimezoneWarning: tzname EDT identified but not understood.  Pass `tzinfos` argument in order to correctly return a timezone-aware datetime.  In a future version, this will raise an exception.\n",
      "  warnings.warn(\"tzname {tzname} identified but not understood.  \"\n",
      "C:\\Users\\jki\\AppData\\Local\\anaconda3\\Lib\\site-packages\\dateutil\\parser\\_parser.py:1207: UnknownTimezoneWarning: tzname EST identified but not understood.  Pass `tzinfos` argument in order to correctly return a timezone-aware datetime.  In a future version, this will raise an exception.\n",
      "  warnings.warn(\"tzname {tzname} identified but not understood.  \"\n"
     ]
    },
    {
     "data": {
      "text/html": [
       "<div>\n",
       "<style scoped>\n",
       "    .dataframe tbody tr th:only-of-type {\n",
       "        vertical-align: middle;\n",
       "    }\n",
       "\n",
       "    .dataframe tbody tr th {\n",
       "        vertical-align: top;\n",
       "    }\n",
       "\n",
       "    .dataframe thead th {\n",
       "        text-align: right;\n",
       "    }\n",
       "</style>\n",
       "<table border=\"1\" class=\"dataframe\">\n",
       "  <thead>\n",
       "    <tr style=\"text-align: right;\">\n",
       "      <th></th>\n",
       "      <th>Datetime</th>\n",
       "      <th>Wind dir</th>\n",
       "      <th>Wind spd</th>\n",
       "      <th>Wind gust</th>\n",
       "      <th>Tmp</th>\n",
       "      <th>Dew pt</th>\n",
       "      <th>Feels like</th>\n",
       "      <th>rh</th>\n",
       "      <th>Fire</th>\n",
       "      <th>Rain</th>\n",
       "      <th>Rain 10'</th>\n",
       "      <th>Pres</th>\n",
       "    </tr>\n",
       "  </thead>\n",
       "  <tbody>\n",
       "    <tr>\n",
       "      <th>0</th>\n",
       "      <td>2013-01-01 00:00:00</td>\n",
       "      <td>WNW</td>\n",
       "      <td>9.0</td>\n",
       "      <td>9.0</td>\n",
       "      <td>19.6</td>\n",
       "      <td>0.1</td>\n",
       "      <td>19.6</td>\n",
       "      <td>27.0</td>\n",
       "      <td>12.0</td>\n",
       "      <td>0.0</td>\n",
       "      <td>0.0</td>\n",
       "      <td>1011.4</td>\n",
       "    </tr>\n",
       "    <tr>\n",
       "      <th>1</th>\n",
       "      <td>2013-01-01 23:30:00</td>\n",
       "      <td>WNW</td>\n",
       "      <td>NaN</td>\n",
       "      <td>13.0</td>\n",
       "      <td>20.7</td>\n",
       "      <td>0.7</td>\n",
       "      <td>20.7</td>\n",
       "      <td>26.0</td>\n",
       "      <td>13.0</td>\n",
       "      <td>0.0</td>\n",
       "      <td>0.0</td>\n",
       "      <td>1011.1</td>\n",
       "    </tr>\n",
       "    <tr>\n",
       "      <th>2</th>\n",
       "      <td>2013-01-01 23:00:00</td>\n",
       "      <td>W</td>\n",
       "      <td>9.0</td>\n",
       "      <td>11.0</td>\n",
       "      <td>22.8</td>\n",
       "      <td>0.9</td>\n",
       "      <td>22.8</td>\n",
       "      <td>23.0</td>\n",
       "      <td>15.0</td>\n",
       "      <td>0.0</td>\n",
       "      <td>0.0</td>\n",
       "      <td>1011.0</td>\n",
       "    </tr>\n",
       "    <tr>\n",
       "      <th>3</th>\n",
       "      <td>2013-01-01 22:30:00</td>\n",
       "      <td>WNW</td>\n",
       "      <td>11.0</td>\n",
       "      <td>13.0</td>\n",
       "      <td>22.6</td>\n",
       "      <td>-1.0</td>\n",
       "      <td>22.6</td>\n",
       "      <td>21.0</td>\n",
       "      <td>17.0</td>\n",
       "      <td>0.0</td>\n",
       "      <td>0.0</td>\n",
       "      <td>1011.0</td>\n",
       "    </tr>\n",
       "    <tr>\n",
       "      <th>4</th>\n",
       "      <td>2013-01-01 22:00:00</td>\n",
       "      <td>WNW</td>\n",
       "      <td>15.0</td>\n",
       "      <td>19.0</td>\n",
       "      <td>23.9</td>\n",
       "      <td>-2.2</td>\n",
       "      <td>23.9</td>\n",
       "      <td>18.0</td>\n",
       "      <td>21.0</td>\n",
       "      <td>0.0</td>\n",
       "      <td>0.0</td>\n",
       "      <td>1011.1</td>\n",
       "    </tr>\n",
       "  </tbody>\n",
       "</table>\n",
       "</div>"
      ],
      "text/plain": [
       "             Datetime Wind dir  Wind spd  Wind gust   Tmp  Dew pt  Feels like  \\\n",
       "0 2013-01-01 00:00:00      WNW       9.0        9.0  19.6     0.1        19.6   \n",
       "1 2013-01-01 23:30:00      WNW       NaN       13.0  20.7     0.7        20.7   \n",
       "2 2013-01-01 23:00:00        W       9.0       11.0  22.8     0.9        22.8   \n",
       "3 2013-01-01 22:30:00      WNW      11.0       13.0  22.6    -1.0        22.6   \n",
       "4 2013-01-01 22:00:00      WNW      15.0       19.0  23.9    -2.2        23.9   \n",
       "\n",
       "     rh  Fire  Rain  Rain 10'    Pres  \n",
       "0  27.0  12.0   0.0       0.0  1011.4  \n",
       "1  26.0  13.0   0.0       0.0  1011.1  \n",
       "2  23.0  15.0   0.0       0.0  1011.0  \n",
       "3  21.0  17.0   0.0       0.0  1011.0  \n",
       "4  18.0  21.0   0.0       0.0  1011.1  "
      ]
     },
     "execution_count": 3,
     "metadata": {},
     "output_type": "execute_result"
    }
   ],
   "source": [
    "# import libraries\n",
    "%matplotlib inline\n",
    "\n",
    "import pandas as pd\n",
    "import matplotlib\n",
    "import matplotlib.pyplot as plt\n",
    "\n",
    "# Make the graphs a bit prettier\n",
    "matplotlib.style.use('ggplot')\n",
    "plt.rcParams['figure.figsize'] = (18, 5)\n",
    "\n",
    "weather_df =  pd.read_csv(r\"C:\\Users\\jki\\Downloads\\Canberra_observations.csv\",\n",
    "                                   sep='\\t',\n",
    "                                   parse_dates={'Datetime': ['Date', 'Time']},\n",
    "                                   dayfirst=True,\n",
    "                                   infer_datetime_format=True,\n",
    "                                   na_values=['-'] )\n",
    "\n",
    "weather_df.head(5)"
   ]
  },
  {
   "cell_type": "code",
   "execution_count": 2,
   "id": "6805f63b",
   "metadata": {},
   "outputs": [
    {
     "data": {
      "text/html": [
       "<!-- Not content, but for better presentation styles -->\n",
       "<style>\n",
       ".rise-enabled .rendered_html table.dataframe {\n",
       "    font-size: 16px;\n",
       "}\n",
       ".rendered_html code {\n",
       "    background: #EFEFEF;\n",
       "    border: 1px solid #CCC;\n",
       "    padding: 1px 5px;\n",
       "    border-radius: 1px;\n",
       "}\n",
       ".rise-enabled .fa-times-circle:before,\n",
       ".rise-enabled .fa-question:before,\n",
       ".rise-enabled aside.controls {\n",
       "    opacity: 0.1;\n",
       "}\n",
       ".rise-enabled a,\n",
       ".rise-enabled a:active,\n",
       ".rise-enabled a:hover,\n",
       ".rise-enabled a:visited,\n",
       ".rise-enabled :link {\n",
       "    text-decoration: none;\n",
       "    color: #A68910;\n",
       "}\n",
       "</style>\n"
      ],
      "text/plain": [
       "<IPython.core.display.HTML object>"
      ]
     },
     "metadata": {},
     "output_type": "display_data"
    }
   ],
   "source": [
    "%%HTML\n",
    "<!-- Not content, but for better presentation styles -->\n",
    "<style>\n",
    ".rise-enabled .rendered_html table.dataframe {\n",
    "    font-size: 16px;\n",
    "}\n",
    ".rendered_html code {\n",
    "    background: #EFEFEF;\n",
    "    border: 1px solid #CCC;\n",
    "    padding: 1px 5px;\n",
    "    border-radius: 1px;\n",
    "}\n",
    ".rise-enabled .fa-times-circle:before,\n",
    ".rise-enabled .fa-question:before,\n",
    ".rise-enabled aside.controls {\n",
    "    opacity: 0.1;\n",
    "}\n",
    ".rise-enabled a,\n",
    ".rise-enabled a:active,\n",
    ".rise-enabled a:hover,\n",
    ".rise-enabled a:visited,\n",
    ".rise-enabled :link {\n",
    "    text-decoration: none;\n",
    "    color: #A68910;\n",
    "}\n",
    "</style>"
   ]
  },
  {
   "cell_type": "code",
   "execution_count": 4,
   "id": "3eaf54bc",
   "metadata": {},
   "outputs": [
    {
     "name": "stdout",
     "output_type": "stream",
     "text": [
      "Datetime         0\n",
      "Wind dir      1963\n",
      "Wind spd        24\n",
      "Wind gust      387\n",
      "Tmp             12\n",
      "Dew pt          40\n",
      "Feels like      12\n",
      "rh              40\n",
      "Fire            63\n",
      "Rain           694\n",
      "Rain 10'        82\n",
      "Pres            12\n",
      "dtype: int64\n"
     ]
    }
   ],
   "source": [
    "# lets remove missing values\n",
    "missing_values =  weather_df.isna().sum()\n",
    "print(missing_values)"
   ]
  },
  {
   "cell_type": "code",
   "execution_count": 11,
   "id": "a3ca94fd",
   "metadata": {},
   "outputs": [
    {
     "name": "stdout",
     "output_type": "stream",
     "text": [
      "Datetime        0\n",
      "Wind dir        0\n",
      "Wind spd        0\n",
      "Wind gust       0\n",
      "Tmp             0\n",
      "Dew pt          0\n",
      "Feels like      0\n",
      "rh              0\n",
      "Fire            0\n",
      "Rain          621\n",
      "Rain 10'       57\n",
      "Pres            0\n",
      "dtype: int64\n"
     ]
    }
   ],
   "source": [
    "# lets rmove missing values\n",
    "\n",
    "weather_df =weather_df.dropna(subset=['Wind dir'])\n",
    "weather_df = weather_df.dropna(subset=['Wind spd'])\n",
    "weather_df = weather_df.dropna(subset=['Wind gust'])\n",
    "weather_df = weather_df.dropna(subset=['Tmp'])\n",
    "weather_df =weather_df.dropna(subset=['Dew pt'])\n",
    "weather_df = weather_df.dropna(subset=['Feels like'])\n",
    "weather_df = weather_df.dropna(subset=['rh'])\n",
    "weather_df =weather_df.dropna(subset=['Fire'])\n",
    "\n",
    "weather_df = weather_df.dropna(subset=['Pres'])\n",
    "\n",
    "missing_values =  weather_df.isna().sum()\n",
    "print(missing_values)"
   ]
  },
  {
   "cell_type": "code",
   "execution_count": 14,
   "id": "f8b467c8",
   "metadata": {},
   "outputs": [
    {
     "name": "stdout",
     "output_type": "stream",
     "text": [
      "Datetime       0\n",
      "Wind dir       0\n",
      "Wind spd       0\n",
      "Wind gust      0\n",
      "Tmp            0\n",
      "Dew pt         0\n",
      "Feels like     0\n",
      "rh             0\n",
      "Fire           0\n",
      "Rain           0\n",
      "Rain 10'      14\n",
      "Pres           0\n",
      "dtype: int64\n"
     ]
    }
   ],
   "source": [
    "weather_df =weather_df.dropna(subset=['Rain'])\n",
    "\n",
    "missing_values =  weather_df.isna().sum()\n",
    "print(missing_values)"
   ]
  },
  {
   "cell_type": "code",
   "execution_count": null,
   "id": "d3326a47",
   "metadata": {},
   "outputs": [],
   "source": []
  }
 ],
 "metadata": {
  "kernelspec": {
   "display_name": "Python 3 (ipykernel)",
   "language": "python",
   "name": "python3"
  },
  "language_info": {
   "codemirror_mode": {
    "name": "ipython",
    "version": 3
   },
   "file_extension": ".py",
   "mimetype": "text/x-python",
   "name": "python",
   "nbconvert_exporter": "python",
   "pygments_lexer": "ipython3",
   "version": "3.11.4"
  }
 },
 "nbformat": 4,
 "nbformat_minor": 5
}
