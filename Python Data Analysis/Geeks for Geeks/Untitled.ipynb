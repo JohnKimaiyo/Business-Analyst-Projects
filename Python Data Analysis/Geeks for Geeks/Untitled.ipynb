{
 "cells": [
  {
   "cell_type": "code",
   "execution_count": 1,
   "id": "96b8dd85",
   "metadata": {},
   "outputs": [
    {
     "name": "stdout",
     "output_type": "stream",
     "text": [
      "Matrix b:\n",
      " [1065353216 1065353216]\n",
      "\n",
      "Matrix b:\n",
      " [[  801530504 -1448511703]\n",
      " [  396686476 -1257086266]]\n",
      "\n",
      "Matrix c: \n",
      " [[4.45035992e-308 1.42418444e-306 1.02360867e-306]\n",
      " [4.45033446e-308 1.86921143e-306 2.78151378e-307]\n",
      " [1.24610994e-306 3.44900369e-307 4.22792214e-307]]\n"
     ]
    }
   ],
   "source": [
    "# creating an array\n",
    "import numpy as np\n",
    "\n",
    "b = np.empty(2,dtype = int)\n",
    "print(\"Matrix b:\\n\",b)\n",
    "\n",
    "a = np.empty([2,2],dtype = int)\n",
    "print(\"\\nMatrix b:\\n\",a)\n",
    "\n",
    "c = np.empty([3,3])\n",
    "print(\"\\nMatrix c: \\n\",c)"
   ]
  },
  {
   "cell_type": "code",
   "execution_count": 3,
   "id": "ae3b0423",
   "metadata": {},
   "outputs": [
    {
     "ename": "TypeError",
     "evalue": "zeros() got an unexpected keyword argument 'dype'",
     "output_type": "error",
     "traceback": [
      "\u001b[1;31m---------------------------------------------------------------------------\u001b[0m",
      "\u001b[1;31mTypeError\u001b[0m                                 Traceback (most recent call last)",
      "Cell \u001b[1;32mIn[3], line 2\u001b[0m\n\u001b[0;32m      1\u001b[0m \u001b[38;5;28;01mimport\u001b[39;00m \u001b[38;5;21;01mnumpy\u001b[39;00m \u001b[38;5;28;01mas\u001b[39;00m \u001b[38;5;21;01mnp\u001b[39;00m\n\u001b[1;32m----> 2\u001b[0m b \u001b[38;5;241m=\u001b[39m np\u001b[38;5;241m.\u001b[39mzeros(\u001b[38;5;241m1\u001b[39m,dype \u001b[38;5;241m=\u001b[39m \u001b[38;5;28mint\u001b[39m)\n\u001b[0;32m      3\u001b[0m \u001b[38;5;28mprint\u001b[39m(\u001b[38;5;124m'\u001b[39m\u001b[38;5;124mMatrix b : \u001b[39m\u001b[38;5;130;01m\\n\u001b[39;00m\u001b[38;5;124m'\u001b[39m,a)\n\u001b[0;32m      5\u001b[0m a \u001b[38;5;241m=\u001b[39m np\u001b[38;5;241m.\u001b[39mzeros([\u001b[38;5;241m2\u001b[39m,\u001b[38;5;241m2\u001b[39m],dtype \u001b[38;5;241m=\u001b[39m \u001b[38;5;28mint\u001b[39m)\n",
      "\u001b[1;31mTypeError\u001b[0m: zeros() got an unexpected keyword argument 'dype'"
     ]
    }
   ],
   "source": [
    "import numpy as np\n",
    "b = np.zeros(1,dype = int)\n",
    "print('Matrix b : \\n',a)\n",
    "\n",
    "a = np.zeros([2,2],dtype = int)\n",
    "print(\"\\nMatrix a: \\n\",a)\n",
    "\n",
    "c = np.zeros([3,3])\n",
    "print('\\nMatrix c:\\n',c)"
   ]
  },
  {
   "cell_type": "code",
   "execution_count": 4,
   "id": "61a45208",
   "metadata": {},
   "outputs": [
    {
     "ename": "TypeError",
     "evalue": "unsupported operand type(s) for +: 'int' and 'builtin_function_or_method'",
     "output_type": "error",
     "traceback": [
      "\u001b[1;31m---------------------------------------------------------------------------\u001b[0m",
      "\u001b[1;31mTypeError\u001b[0m                                 Traceback (most recent call last)",
      "Cell \u001b[1;32mIn[4], line 9\u001b[0m\n\u001b[0;32m      6\u001b[0m b\u001b[38;5;241m=\u001b[39m np\u001b[38;5;241m.\u001b[39marray\n\u001b[0;32m      8\u001b[0m \u001b[38;5;66;03m# Perfomring addition using arithmetic operaator\u001b[39;00m\n\u001b[1;32m----> 9\u001b[0m add_ans \u001b[38;5;241m=\u001b[39m a \u001b[38;5;241m+\u001b[39m b\n\u001b[0;32m     10\u001b[0m \u001b[38;5;28mprint\u001b[39m(add_ans)\n\u001b[0;32m     12\u001b[0m \u001b[38;5;66;03m# Performing addition using numpy function\u001b[39;00m\n",
      "\u001b[1;31mTypeError\u001b[0m: unsupported operand type(s) for +: 'int' and 'builtin_function_or_method'"
     ]
    }
   ],
   "source": [
    "import numpy as np\n",
    "\n",
    "# Defining both the matrices\n",
    "\n",
    "a = np.array([5,72,13,100])\n",
    "b= np.array\n",
    "\n",
    "# Perfomring addition using arithmetic operaator\n",
    "add_ans = a + b\n",
    "print(add_ans)\n",
    "\n",
    "# Performing addition using numpy function\n",
    "add_ans = np.add(a,b)\n",
    "print(add_ans)\n",
    "\n",
    "# The same functions and operations can be used for\n",
    "# muliple matrices\n",
    "\n",
    "c = np.array([1,2,3,4])\n",
    "add_ans = a + b + c\n",
    "print(add_ans)\n",
    "\n",
    "add_ans = np.add(a,b,c)\n",
    "print(add_ans)   "
   ]
  },
  {
   "cell_type": "code",
   "execution_count": null,
   "id": "8ef2270e",
   "metadata": {},
   "outputs": [],
   "source": []
  }
 ],
 "metadata": {
  "kernelspec": {
   "display_name": "Python 3 (ipykernel)",
   "language": "python",
   "name": "python3"
  },
  "language_info": {
   "codemirror_mode": {
    "name": "ipython",
    "version": 3
   },
   "file_extension": ".py",
   "mimetype": "text/x-python",
   "name": "python",
   "nbconvert_exporter": "python",
   "pygments_lexer": "ipython3",
   "version": "3.11.4"
  }
 },
 "nbformat": 4,
 "nbformat_minor": 5
}
