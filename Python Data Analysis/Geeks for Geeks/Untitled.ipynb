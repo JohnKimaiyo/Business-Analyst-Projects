{
 "cells": [
  {
   "cell_type": "code",
   "execution_count": 1,
   "id": "5146825c",
   "metadata": {},
   "outputs": [
    {
     "name": "stdout",
     "output_type": "stream",
     "text": [
      "Matrix b:\n",
      " [1065353216 1065353216]\n",
      "\n",
      "Matrix b:\n",
      " [[  801530504 -1448511703]\n",
      " [  396686476 -1257086266]]\n",
      "\n",
      "Matrix c: \n",
      " [[4.45035992e-308 1.42418444e-306 1.02360867e-306]\n",
      " [4.45033446e-308 1.86921143e-306 2.78151378e-307]\n",
      " [1.24610994e-306 3.44900369e-307 4.22792214e-307]]\n"
     ]
    }
   ],
   "source": [
    "# creating an array\n",
    "import numpy as np\n",
    "\n",
    "b = np.empty(2,dtype = int)\n",
    "print(\"Matrix b:\\n\",b)\n",
    "\n",
    "a = np.empty([2,2],dtype = int)\n",
    "print(\"\\nMatrix b:\\n\",a)\n",
    "\n",
    "c = np.empty([3,3])\n",
    "print(\"\\nMatrix c: \\n\",c)"
   ]
  },
  {
   "cell_type": "code",
   "execution_count": 3,
   "id": "58ad6127",
   "metadata": {},
   "outputs": [
    {
     "ename": "TypeError",
     "evalue": "zeros() got an unexpected keyword argument 'dype'",
     "output_type": "error",
     "traceback": [
      "\u001b[1;31m---------------------------------------------------------------------------\u001b[0m",
      "\u001b[1;31mTypeError\u001b[0m                                 Traceback (most recent call last)",
      "Cell \u001b[1;32mIn[3], line 2\u001b[0m\n\u001b[0;32m      1\u001b[0m \u001b[38;5;28;01mimport\u001b[39;00m \u001b[38;5;21;01mnumpy\u001b[39;00m \u001b[38;5;28;01mas\u001b[39;00m \u001b[38;5;21;01mnp\u001b[39;00m\n\u001b[1;32m----> 2\u001b[0m b \u001b[38;5;241m=\u001b[39m np\u001b[38;5;241m.\u001b[39mzeros(\u001b[38;5;241m1\u001b[39m,dype \u001b[38;5;241m=\u001b[39m \u001b[38;5;28mint\u001b[39m)\n\u001b[0;32m      3\u001b[0m \u001b[38;5;28mprint\u001b[39m(\u001b[38;5;124m'\u001b[39m\u001b[38;5;124mMatrix b : \u001b[39m\u001b[38;5;130;01m\\n\u001b[39;00m\u001b[38;5;124m'\u001b[39m,a)\n\u001b[0;32m      5\u001b[0m a \u001b[38;5;241m=\u001b[39m np\u001b[38;5;241m.\u001b[39mzeros([\u001b[38;5;241m2\u001b[39m,\u001b[38;5;241m2\u001b[39m],dtype \u001b[38;5;241m=\u001b[39m \u001b[38;5;28mint\u001b[39m)\n",
      "\u001b[1;31mTypeError\u001b[0m: zeros() got an unexpected keyword argument 'dype'"
     ]
    }
   ],
   "source": [
    "import numpy as np\n",
    "b = np.zeros(1,dype = int)\n",
    "print('Matrix b : \\n',a)\n",
    "\n",
    "a = np.zeros([2,2],dtype = int)\n",
    "print(\"\\nMatrix a: \\n\",a)\n",
    "\n",
    "c = np.zeros([3,3])\n",
    "print('\\nMatrix c:\\n',c)"
   ]
  },
  {
   "cell_type": "code",
   "execution_count": null,
   "id": "b88b8a78",
   "metadata": {},
   "outputs": [],
   "source": []
  }
 ],
 "metadata": {
  "kernelspec": {
   "display_name": "Python 3 (ipykernel)",
   "language": "python",
   "name": "python3"
  },
  "language_info": {
   "codemirror_mode": {
    "name": "ipython",
    "version": 3
   },
   "file_extension": ".py",
   "mimetype": "text/x-python",
   "name": "python",
   "nbconvert_exporter": "python",
   "pygments_lexer": "ipython3",
   "version": "3.11.4"
  }
 },
 "nbformat": 4,
 "nbformat_minor": 5
}
